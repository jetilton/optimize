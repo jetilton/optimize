{
 "cells": [
  {
   "cell_type": "markdown",
   "metadata": {},
   "source": [
    "# Get, split, save data\n",
    "\n",
    "This notebook will do an initial project directory setup and then drive the get_data and split_data notebooks.  The split_data notebook calls the save data notebook internally.\n"
   ]
  },
  {
   "cell_type": "code",
   "execution_count": null,
   "metadata": {},
   "outputs": [],
   "source": [
    "import papermill as pm\n",
    "import pandas as pd\n",
    "import numpy as np\n",
    "import os"
   ]
  },
  {
   "cell_type": "code",
   "execution_count": null,
   "metadata": {
    "inputHidden": false,
    "outputHidden": false,
    "tags": [
     "parameters"
    ]
   },
   "outputs": [],
   "source": [
    "#parameter for base directory\n",
    "data_dir = r'D:\\gitClones\\nteract_models\\optimize\\projects'\n",
    "\n",
    "#params get_data\n",
    "project_dict = {}\n",
    "lookback = 365\n",
    "project = ''\n",
    "\n",
    "#params split/save_data\n",
    "raw_data = {}\n",
    "freq = 'Y'\n",
    "data_dir = ''\n",
    "project = ''"
   ]
  },
  {
   "cell_type": "code",
   "execution_count": null,
   "metadata": {},
   "outputs": [],
   "source": [
    "#make directories in base directory for entire process\n",
    "directories = ['error', 'results', 'train_test']\n",
    "project_directory = os.mkdir(os.path.join(data_dir, project.replace(' ', '_').lower())) \n",
    "for directory in directories:\n",
    "    os.mkdir(os.path.join(project_directory,directory)) "
   ]
  },
  {
   "cell_type": "code",
   "execution_count": null,
   "metadata": {},
   "outputs": [],
   "source": [
    "\n",
    "name = '{}_[]'.format(project,'raw')\n",
    "file_name = os.path.join(project_directory,name)\n",
    "pm.execute_notebook(\n",
    "               'get_data.ipynb',\n",
    "               file_name,\n",
    "               parameters = dict(project_dict=project_dict, lookback=lookback, project=project)\n",
    "            )"
   ]
  }
 ],
 "metadata": {
  "hide_input": false,
  "kernelspec": {
   "display_name": "Python 3",
   "language": "python",
   "name": "python3"
  },
  "language_info": {
   "codemirror_mode": {
    "name": "ipython",
    "version": 3
   },
   "file_extension": ".py",
   "mimetype": "text/x-python",
   "name": "python",
   "nbconvert_exporter": "python",
   "pygments_lexer": "ipython3",
   "version": "3.6.5"
  },
  "nteract": {
   "version": "nteract-on-jupyter@1.9.9"
  },
  "toc": {
   "base_numbering": 1,
   "nav_menu": {},
   "number_sections": false,
   "sideBar": false,
   "skip_h1_title": false,
   "title_cell": "Table of Contents",
   "title_sidebar": "Contents",
   "toc_cell": false,
   "toc_position": {},
   "toc_section_display": false,
   "toc_window_display": false
  }
 },
 "nbformat": 4,
 "nbformat_minor": 2
}
