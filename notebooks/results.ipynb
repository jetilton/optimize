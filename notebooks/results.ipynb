{
 "cells": [
  {
   "cell_type": "markdown",
   "metadata": {},
   "source": [
    "# Total Dissolved Gas Prediction and Optimization\n",
    "\n",
    "## Introduction \n",
    "\n",
    "The United States Army Corps of Engineers (USACE) operates dams on the Columbia River and lower Snake River, which provides the region with irrigation, hydropower production, flood control, navigation, and fish passage. The USACE has had to adapt to changing priorities and demands with regard to spill and TDG levels throughout the two river systems as one of its primary operators.  \n",
    "\n",
    "The USACE spilled to the maximum allowable TDG levels allowed by Oregon and Washington water quality standards during the 2018 spill season due to a court order.  This is a change from past operation, which had designated a target spill at most dams.  Shifting prioirities and demands from competing stakeholders are predicted to continue in coming years.  Newer more accurate models to predict TDG levels and stay within state water quality standards are necessary for the USACE to operate under the law and provide a framework that is transparent to stakeholders.   \n",
    "\n",
    "Oak Ridge National Laboratory, with funding from the United States Bureau of Reclemation (USBR), developed an empirical optimization model to predict tail water TDG levels.  The model used physical parameters such as spill and hydropower flow proportions, accompanied by the characteristics of the dam such as plant head levels and tailrace depths.  The work provided an easy to use emperical equation with 3 optimized coefficients for each modeled dam.  Dam operators and water quality experts can apply these equations in a spreadsheet environment.  THis makes the process quick and accessible to all engineering and technical staff associated with the projects.  The work only produced coefficients for dams operated by USBR, not the USACE.\n",
    "\n",
    "Fortunately the work has been well documented in the \"Total dissolved gas prediction and optimization in RIVERWARE,\" and the optimization process can be easily repeated and applied to the USACE dams.\n",
    "\n",
    "\n",
    "\n",
    "## Model Organization\n",
    "\n",
    "This model consists of 3 parts\n",
    "1. Configuration file\n",
    "2. Script file\n",
    "3. Set of Jupyter Notebooks \n",
    "\n",
    "### Configuration File\n",
    "\n",
    "The configuration file is in yaml format that consists of the required project pathnames for the physical parameter data located in the CWMS database.  An example project from the configuration file is seen below:\n",
    "\n",
    "\n",
    "the_dalles:<br>\n",
    "  &emsp;h_t: TDA.Elev-Tailwater.Ave.1Hour.1Hour.GDACS-COMPUTED-REV<br>\n",
    "  &emsp;p_atm: TDA.Pres-Air.Inst.1Hour.0.GOES-REV<br>\n",
    "  &emsp;q_p: TDA.Flow-Gen.Ave.1Hour.1Hour.CBT-REV<br>\n",
    "  &emsp;q_s: TDA.Flow-Spill.Ave.1Hour.1Hour.CBT-REV<br>\n",
    "  &emsp;temp_water: TDA.Temp-Water.Inst.1Hour.0.GOES-REV<br>\n",
    "  &emsp;tdg_f: TDA.%-Saturation-TDG.Inst.1Hour.0.GOES-COMPUTED-REV<br>\n",
    "  &emsp;tdg_tw: TDDO.%-Saturation-TDG.Inst.1Hour.0.GOES-COMPUTED-REV<br>\n",
    "\n",
    "\n",
    "### Script File\n",
    "\n",
    "The script util.py contains the 3 required equations (functions) found in the study \"Total dissolved gas prediction and optimization in RIVERWARE,\" outlined below, as well as some utility functions for conversion.  Please refer to util.py or \"Total dissolved gas prediction and optimization in RIVERWARE,\" for further explanation of the below equations.\n",
    "\n",
    "\\begin{align}\n",
    "A& = \\bigg[\\frac{Q_S+b_1Q_s+b3}{Q_s+Q_p}\\bigg] &\\quad\\quad\\text{eq 1}\\\\\n",
    "\\\\\n",
    "B& =  \\bigg[1+ \\frac{P_{TW}}{2P_{atm}} \\bigg]&\\quad\\quad\\text{eq 2} \\\\\n",
    "\\\\\n",
    "C& = \\bigg[\\frac{Q_p-b_1Q_s-b_3}{Q_s+Q_p}\\bigg] &\\quad\\quad\\text{eq 3} \\\\\n",
    "\\\\\n",
    "\\end{align}\n",
    "\n",
    "Where:\n",
    "\n",
    "A = &emsp;Weighted contribution of spillway plus powerhouse entrainment flows for adjusting dependency\n",
    " of TDG’s production on tailwater depth.<br><br>\n",
    "B = &emsp;TDG’s dependency on tailwater depth as referenced to atmospheric pressure and adjusted by a fitted\n",
    " dissolution efficiency coefficient (b2).<br><br>\n",
    "C = &emsp;Weighted contributions of the difference between the powerhouse and its entrainment flows used to\n",
    " adjust the fraction of forebay TDG <br>\n",
    " &emsp;&emsp;&emsp;transferred downstream.<br><br>\n",
    "\n",
    "\n",
    "The three equations are combined in the optimization objective function to determine tailwater TDG in the equation below.  Root mean squared error is used to determine loss.\n",
    "\n",
    "$$TDG_T = 100\\bigg[\\frac{Q_s+b_1Q_s+b3}{Q_s+Q_p}\\bigg]\\bigg[1+ \\frac{P_{TW}}{2P_{atm}} \\bigg]b_2+TDG_F\\bigg[\\frac{Q_p-b_1Q_s-b_3}{Q_s+Q_p}\\bigg]$$\n",
    "\n",
    "\n",
    "### Jupyter Notebooks\n",
    "\n",
    "The model uses several Jupyter Notebooks and Netflix's Jupyter Extension, Nteract as well as its Papermill Python library.  The Nteract extension allows notebooks to be parameterized therefore making the notebooks reusable and extensible.  The Papermill library is able to extract data from a notebook and pass it to a subsequent notebook creating a model flow.  A Jupyter Notebook is associated with each model step.  A diagram of the model's linear process is seen below. \n",
    "\n",
    "<img src=\"../images/driver.png\">\n",
    "\n",
    "\n",
    "\n",
    "\n",
    "#### Collect \n",
    "Data is collected from the CWMS database and saved in a Jupyter Notebook.\n",
    "#### Split \n",
    "The data is split into k-folds for cross validation with k equal to the number of years of available data.  Each fold is saved into a Jupyter Notebook split into a train and test set.\n",
    "#### Optimize\n",
    "The optimization process is performed on each fold for cross-validation and then on the entire dataset to obtain the final coefficients.\n",
    "#### Validate\n",
    "The residual error of each of the folds is aggregated and displayed below in a histogram as well as a tabular format and actual vs predicted values are compared in a qq plot.  The coefficients are displayed for each of the folds as well. The same process is done on the complete dataset with the entire dataset set to both the training and test set. \n"
   ]
  },
  {
   "cell_type": "code",
   "execution_count": 1,
   "metadata": {},
   "outputs": [],
   "source": [
    "import yaml\n",
    "import os\n",
    "import papermill as pm\n",
    "import pandas as pd\n",
    "import numpy as np\n",
    "import matplotlib.pyplot as plt\n",
    "%matplotlib inline "
   ]
  },
  {
   "cell_type": "code",
   "execution_count": 2,
   "metadata": {},
   "outputs": [],
   "source": [
    "#params\n",
    "data_directory = os.path.abspath(os.path.join(r'D:\\gitClones\\nteract_models\\optimize\\projects'))\n",
    "config = yaml.load(open('../config.yml'))\n",
    "project_name = ''"
   ]
  },
  {
   "cell_type": "code",
   "execution_count": 3,
   "metadata": {},
   "outputs": [],
   "source": [
    "\n",
    "def get_errors(nb_df):\n",
    "    errors= nb_df[nb_df['name'] == 'error'].reset_index(drop = True)\n",
    "    df_list = []\n",
    "    for row in errors.iterrows():\n",
    "        d = pd.DataFrame(row[1]['value']) \n",
    "        d['filename'] = row[1]['filename']\n",
    "        df_list.append(d)\n",
    "    error_df = pd.concat(df_list, ignore_index=True)\n",
    "    return error_df\n",
    "\n",
    "\n",
    "def make_hist(error_df):\n",
    "    hist, edges = np.histogram(error_df['error'].dropna(), density=True)\n",
    "    n_bins = len(hist)\n",
    "    # turn off interactive plotting to avoid double plotting\n",
    "    plt.hist(error_df['error'], bins=n_bins)\n",
    "    plt.xlabel('Residuals')\n",
    "    plt.ylabel('Frequency')\n",
    "\n",
    "\n",
    "\n",
    "def make_qq(error_df):\n",
    "    # turn off interactive plotting to avoid double plotting\n",
    "    y_min = error_df['y'].min()\n",
    "    y_max = error_df['y'].max()\n",
    "\n",
    "    plt.plot([y_min,y_max], [y_min,y_max], color = 'red') \n",
    "    plt.scatter(error_df['y'],error_df['y_hat'], alpha = .1)\n",
    "    \n",
    "    plt.xlabel('y (%)')\n",
    "    plt.ylabel('y hat (%)')\n",
    "\n",
    "def make_plots(error_df):\n",
    "    p = plt.figure(figsize=(10,5))\n",
    "    plt.ioff()\n",
    "    y_min = error_df['y'].min()\n",
    "    y_max = error_df['y'].max()\n",
    "    \n",
    "    plt.subplot(121)\n",
    "    make_hist(error_df)\n",
    "    \n",
    "    plt.subplot(122)\n",
    "    make_qq(error_df)\n",
    "    \n",
    "    return p\n",
    "\n",
    "def get_coefficients(nb_df):\n",
    "    b = nb_df[(nb_df['name']=='b1') | (nb_df['name'] == 'b2') | (nb_df['name'] == 'b3')].copy()\n",
    "    b = b.pivot(columns = 'name', values = 'value', index = 'filename')\n",
    "    b.reset_index(inplace = True)\n",
    "    b.reset_index(drop=True, inplace = True)\n",
    "    \n",
    "    return b\n",
    "\n",
    "\n",
    "\n",
    "\n"
   ]
  },
  {
   "cell_type": "code",
   "execution_count": 5,
   "metadata": {},
   "outputs": [
    {
     "data": {
      "text/plain": [
       "{'h_t': 'TDA.Elev-Tailwater.Ave.1Hour.1Hour.GDACS-COMPUTED-REV',\n",
       " 'p_atm': 'TDA.Pres-Air.Inst.1Hour.0.GOES-REV',\n",
       " 'q_p': 'TDA.Flow-Gen.Ave.1Hour.1Hour.CBT-REV',\n",
       " 'q_s': 'TDA.Flow-Spill.Ave.1Hour.1Hour.CBT-REV',\n",
       " 'tdg_f': 'TDA.%-Saturation-TDG.Inst.1Hour.0.GOES-COMPUTED-REV',\n",
       " 'tdg_tw': 'TDDO.%-Saturation-TDG.Inst.1Hour.0.GOES-COMPUTED-REV',\n",
       " 'temp_water': 'TDA.Temp-Water.Inst.1Hour.0.GOES-REV'}"
      ]
     },
     "execution_count": 5,
     "metadata": {},
     "output_type": "execute_result"
    }
   ],
   "source": [
    "config.pop('the_dalles')"
   ]
  },
  {
   "cell_type": "code",
   "execution_count": 7,
   "metadata": {},
   "outputs": [
    {
     "data": {
      "text/plain": [
       "{'h_t': 'BON.Elev-Tailwater.Inst.1Hour.0.CBT-RAW',\n",
       " 'p_atm': 'BON.Pres-Air.Inst.1Hour.0.GOES-REV',\n",
       " 'q_p': 'BON.Flow-Gen.Ave.1Hour.1Hour.CBT-REV',\n",
       " 'q_s': 'BON.Flow-Spill.Ave.1Hour.1Hour.CBT-REV',\n",
       " 'tdg_f': 'BON.%-Saturation-TDG.Inst.1Hour.0.GOES-COMPUTED-REV',\n",
       " 'tdg_tw': 'CCIW.%-Saturation-TDG.Inst.1Hour.0.GOES-COMPUTED-REV',\n",
       " 'temp_water': 'BON.Temp-Water.Inst.1Hour.0.GOES-REV'}"
      ]
     },
     "execution_count": 7,
     "metadata": {},
     "output_type": "execute_result"
    }
   ],
   "source": [
    "config.pop('bonneville')"
   ]
  },
  {
   "cell_type": "markdown",
   "metadata": {},
   "source": [
    "## Results"
   ]
  },
  {
   "cell_type": "code",
   "execution_count": 8,
   "metadata": {
    "scrolled": false
   },
   "outputs": [
    {
     "data": {
      "text/markdown": [
       "### John Day"
      ],
      "text/plain": [
       "<IPython.core.display.Markdown object>"
      ]
     },
     "metadata": {},
     "output_type": "display_data"
    },
    {
     "data": {
      "text/markdown": [
       "#### John Day Cross Validated Results"
      ],
      "text/plain": [
       "<IPython.core.display.Markdown object>"
      ]
     },
     "metadata": {},
     "output_type": "display_data"
    },
    {
     "name": "stderr",
     "output_type": "stream",
     "text": [
      "C:\\Continuum\\anaconda2\\envs\\ds\\lib\\site-packages\\numpy\\lib\\function_base.py:838: RuntimeWarning: invalid value encountered in true_divide\n",
      "  return n/db/n.sum(), bin_edges\n"
     ]
    },
    {
     "data": {
      "image/png": "[encoded data removed]",
      "text/plain": [
       "<Figure size 720x360 with 2 Axes>"
      ]
     },
     "metadata": {},
     "output_type": "display_data"
    },
    {
     "data": {
      "text/markdown": [
       "##### Cross-Validated Error"
      ],
      "text/plain": [
       "<IPython.core.display.Markdown object>"
      ]
     },
     "metadata": {},
     "output_type": "display_data"
    },
    {
     "data": {
      "text/plain": [
       "count    0.0\n",
       "mean     NaN\n",
       "std      NaN\n",
       "min      NaN\n",
       "25%      NaN\n",
       "50%      NaN\n",
       "75%      NaN\n",
       "max      NaN\n",
       "Name: error, dtype: float64"
      ]
     },
     "metadata": {},
     "output_type": "display_data"
    },
    {
     "data": {
      "text/markdown": [
       "##### k-fold Coefficients"
      ],
      "text/plain": [
       "<IPython.core.display.Markdown object>"
      ]
     },
     "metadata": {},
     "output_type": "display_data"
    },
    {
     "data": {
      "text/html": [
       "<div>\n",
       "<style scoped>\n",
       "    .dataframe tbody tr th:only-of-type {\n",
       "        vertical-align: middle;\n",
       "    }\n",
       "\n",
       "    .dataframe tbody tr th {\n",
       "        vertical-align: top;\n",
       "    }\n",
       "\n",
       "    .dataframe thead th {\n",
       "        text-align: right;\n",
       "    }\n",
       "</style>\n",
       "<table border=\"1\" class=\"dataframe\">\n",
       "  <thead>\n",
       "    <tr style=\"text-align: right;\">\n",
       "      <th>name</th>\n",
       "      <th>filename</th>\n",
       "    </tr>\n",
       "  </thead>\n",
       "  <tbody>\n",
       "  </tbody>\n",
       "</table>\n",
       "</div>"
      ],
      "text/plain": [
       "Empty DataFrame\n",
       "Columns: [filename]\n",
       "Index: []"
      ]
     },
     "metadata": {},
     "output_type": "display_data"
    },
    {
     "data": {
      "text/markdown": [
       "#### John Day Results Using All Data"
      ],
      "text/plain": [
       "<IPython.core.display.Markdown object>"
      ]
     },
     "metadata": {},
     "output_type": "display_data"
    },
    {
     "data": {
      "image/png": "[encoded data removed]",
      "text/plain": [
       "<Figure size 720x360 with 2 Axes>"
      ]
     },
     "metadata": {},
     "output_type": "display_data"
    },
    {
     "data": {
      "text/markdown": [
       "##### Model Error"
      ],
      "text/plain": [
       "<IPython.core.display.Markdown object>"
      ]
     },
     "metadata": {},
     "output_type": "display_data"
    },
    {
     "data": {
      "text/plain": [
       "count    20110.000000\n",
       "mean         0.192802\n",
       "std          3.223959\n",
       "min        -15.013220\n",
       "25%         -1.916332\n",
       "50%          0.578769\n",
       "75%          2.000986\n",
       "max         16.998633\n",
       "Name: error, dtype: float64"
      ]
     },
     "metadata": {},
     "output_type": "display_data"
    },
    {
     "data": {
      "text/markdown": [
       "##### Model Coefficients"
      ],
      "text/plain": [
       "<IPython.core.display.Markdown object>"
      ]
     },
     "metadata": {},
     "output_type": "display_data"
    },
    {
     "data": {
      "text/html": [
       "<div>\n",
       "<style scoped>\n",
       "    .dataframe tbody tr th:only-of-type {\n",
       "        vertical-align: middle;\n",
       "    }\n",
       "\n",
       "    .dataframe tbody tr th {\n",
       "        vertical-align: top;\n",
       "    }\n",
       "\n",
       "    .dataframe thead th {\n",
       "        text-align: right;\n",
       "    }\n",
       "</style>\n",
       "<table border=\"1\" class=\"dataframe\">\n",
       "  <thead>\n",
       "    <tr style=\"text-align: right;\">\n",
       "      <th>name</th>\n",
       "      <th>filename</th>\n",
       "      <th>b1</th>\n",
       "      <th>b2</th>\n",
       "      <th>b3</th>\n",
       "    </tr>\n",
       "  </thead>\n",
       "  <tbody>\n",
       "    <tr>\n",
       "      <th>0</th>\n",
       "      <td>john_day_optimized_all_error.ipynb</td>\n",
       "      <td>-1.00354</td>\n",
       "      <td>-12.8221</td>\n",
       "      <td>-0.00106027</td>\n",
       "    </tr>\n",
       "  </tbody>\n",
       "</table>\n",
       "</div>"
      ],
      "text/plain": [
       "name                            filename       b1       b2          b3\n",
       "0     john_day_optimized_all_error.ipynb -1.00354 -12.8221 -0.00106027"
      ]
     },
     "metadata": {},
     "output_type": "display_data"
    }
   ],
   "source": [
    "from IPython.display import display, Markdown\n",
    "for k,v in config.items():\n",
    "    project_name = k\n",
    "    title = '### {}'.format(project_name.replace('_',' ').title())\n",
    "    display(Markdown(title))\n",
    "    #project_directory = os.path.join(data_directory, project_name.replace(' ', '_').lower())\n",
    "    #error_directory = os.path.join(project_directory,'error')\n",
    "    error_directory = r'D:\\gitClones\\nteract_models\\optimize\\projects\\temp\\error'\n",
    "    nbs = pm.read_notebooks(error_directory)\n",
    "    nb_df = nbs.dataframe\n",
    "    error_df = get_errors(nb_df)\n",
    "    \n",
    "    \n",
    "    cv_title = '#### {} Cross Validated Results'.format(project_name.replace('_',' ').title())\n",
    "    display(Markdown(cv_title))\n",
    "    \n",
    "    cv_results_error = error_df[~error_df['filename'].str.contains(\"_all\")]\n",
    "    cv_results_coef = nb_df[~nb_df['filename'].str.contains(\"_all\")]\n",
    "    \n",
    "    display(make_plots(cv_results_error))\n",
    "    \n",
    "    display(Markdown('##### Cross-Validated Error'))###################################################Need to clean this up show some quality like rmse\n",
    "    display(cv_results_error['error'].describe())\n",
    "    \n",
    "    display(Markdown('##### k-fold Coefficients'))\n",
    "    display(get_coefficients(cv_results_coef))\n",
    "    \n",
    "    all_data_title = '#### {} Results Using All Data'.format(project_name.replace('_',' ').title())\n",
    "    display(Markdown(all_data_title))\n",
    "    \n",
    "    all_results_error = error_df[error_df['filename'].str.contains(\"_all\")]\n",
    "    all_results_coef = nb_df[nb_df['filename'].str.contains(\"_all\")]\n",
    "    \n",
    "    display(make_plots(all_results_error))\n",
    "    display(Markdown('##### Model Error'))\n",
    "    display(all_results_error['error'].describe())\n",
    "    display(Markdown('##### Model Coefficients'))\n",
    "    display(get_coefficients(all_results_coef))\n",
    "    plt.close('all')\n",
    "\n",
    "    \n",
    "    \n",
    "    \n",
    "    \n",
    "    "
   ]
  },
  {
   "cell_type": "code",
   "execution_count": null,
   "metadata": {},
   "outputs": [],
   "source": []
  }
 ],
 "metadata": {
  "hide_input": false,
  "kernelspec": {
   "display_name": "Python 3",
   "language": "python",
   "name": "python3"
  },
  "language_info": {
   "codemirror_mode": {
    "name": "ipython",
    "version": 3
   },
   "file_extension": ".py",
   "mimetype": "text/x-python",
   "name": "python",
   "nbconvert_exporter": "python",
   "pygments_lexer": "ipython3",
   "version": "3.6.5"
  },
  "toc": {
   "base_numbering": 1,
   "nav_menu": {},
   "number_sections": false,
   "sideBar": false,
   "skip_h1_title": false,
   "title_cell": "Table of Contents",
   "title_sidebar": "Contents",
   "toc_cell": false,
   "toc_position": {},
   "toc_section_display": false,
   "toc_window_display": false
  }
 },
 "nbformat": 4,
 "nbformat_minor": 2
}
