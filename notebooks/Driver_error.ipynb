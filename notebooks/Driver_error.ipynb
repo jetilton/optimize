{
 "cells": [
  {
   "cell_type": "code",
   "execution_count": 1,
   "metadata": {},
   "outputs": [],
   "source": [
    "import papermill as pm\n",
    "import pandas as pd\n",
    "import numpy as np"
   ]
  },
  {
   "cell_type": "code",
   "execution_count": 2,
   "metadata": {},
   "outputs": [],
   "source": [
    "data_dir = r'D:\\gitClones\\nteract_models\\optimize\\projects\\the_dalles'"
   ]
  },
  {
   "cell_type": "code",
   "execution_count": 3,
   "metadata": {
    "inputHidden": false,
    "outputHidden": false
   },
   "outputs": [],
   "source": [
    "#collect data to pass to error\n",
    "nbs = pm.read_notebooks(data_dir+r'\\results')\n",
    "nb_df = nbs.dataframe\n"
   ]
  },
  {
   "cell_type": "code",
   "execution_count": 4,
   "metadata": {},
   "outputs": [],
   "source": [
    "grouped = nb_df.groupby('filename')"
   ]
  },
  {
   "cell_type": "markdown",
   "metadata": {},
   "source": [
    "### Error\n",
    "\n",
    "I will now calculate the error of the model by testing against the training data.\n",
    "\n",
    "#### Parameters\n",
    "    - b\n",
    "    - test_data\n",
    "#### Notebook\n",
    "[error.ipynb](error.ipynb)"
   ]
  },
  {
   "cell_type": "code",
   "execution_count": 5,
   "metadata": {},
   "outputs": [
    {
     "name": "stderr",
     "output_type": "stream",
     "text": [
      "Input Notebook:  error.ipynb\n",
      "Output Notebook: D:\\gitClones\\nteract_models\\optimize\\projects\\the_dalles/error/the_dalles_2014-12-31_00_00_00_optimized_error.ipynb\n",
      " 62%|██████▎   | 5/8 [00:02<00:01,  2.07it/s]\n"
     ]
    },
    {
     "name": "stdout",
     "output_type": "stream",
     "text": [
      "D:\\gitClones\\nteract_models\\optimize\\projects\\the_dalles/error/the_dalles_2014-12-31_00_00_00_optimized_error.ipynb\n"
     ]
    },
    {
     "name": "stderr",
     "output_type": "stream",
     "text": [
      "Input Notebook:  error.ipynb\n",
      "Output Notebook: D:\\gitClones\\nteract_models\\optimize\\projects\\the_dalles/error/the_dalles_2015-12-31_00_00_00_optimized_error.ipynb\n",
      " 62%|██████▎   | 5/8 [00:02<00:01,  2.14it/s]\n"
     ]
    },
    {
     "name": "stdout",
     "output_type": "stream",
     "text": [
      "D:\\gitClones\\nteract_models\\optimize\\projects\\the_dalles/error/the_dalles_2015-12-31_00_00_00_optimized_error.ipynb\n"
     ]
    },
    {
     "name": "stderr",
     "output_type": "stream",
     "text": [
      "Input Notebook:  error.ipynb\n",
      "Output Notebook: D:\\gitClones\\nteract_models\\optimize\\projects\\the_dalles/error/the_dalles_2016-12-31_00_00_00_optimized_error.ipynb\n",
      " 62%|██████▎   | 5/8 [00:02<00:01,  2.29it/s]\n"
     ]
    },
    {
     "name": "stdout",
     "output_type": "stream",
     "text": [
      "D:\\gitClones\\nteract_models\\optimize\\projects\\the_dalles/error/the_dalles_2016-12-31_00_00_00_optimized_error.ipynb\n"
     ]
    },
    {
     "name": "stderr",
     "output_type": "stream",
     "text": [
      "Input Notebook:  error.ipynb\n",
      "Output Notebook: D:\\gitClones\\nteract_models\\optimize\\projects\\the_dalles/error/the_dalles_2017-12-31_00_00_00_optimized_error.ipynb\n",
      "100%|██████████| 8/8 [00:03<00:00,  3.38it/s]\n",
      "Input Notebook:  error.ipynb\n",
      "Output Notebook: D:\\gitClones\\nteract_models\\optimize\\projects\\the_dalles/error/the_dalles_2018-12-31_00_00_00_optimized_error.ipynb\n",
      "100%|██████████| 8/8 [00:03<00:00,  2.49it/s]\n"
     ]
    }
   ],
   "source": [
    "for g,v in grouped:\n",
    "    name = g.split('.')[0]\n",
    "    test_data = v[v['name']=='data']['value'].values[0]['test']\n",
    "    b = v[v['name']=='x']['value'].values[0]\n",
    "    min_fb_tdg = v[v['name']=='min_fb_tdg']['value'].values[0]\n",
    "    file_name = data_dir + '/error/{}_error.ipynb'.format(name)\n",
    "    \n",
    "    try:\n",
    "        pm.execute_notebook(\n",
    "                           'error.ipynb',\n",
    "                            file_name,\n",
    "                           parameters = dict(test_data = test_data, b = b,min_fb_tdg=min_fb_tdg)\n",
    "                            )\n",
    "    except:\n",
    "        print(file_name)\n",
    "    "
   ]
  },
  {
   "cell_type": "markdown",
   "metadata": {},
   "source": [
    "### Validation\n",
    "\n",
    "I want to create a graphical representation on how well the model fits the actual data\n",
    "\n",
    "#### Parameters\n",
    "    - error_notebook\n",
    "#### Notebook\n",
    "[validation.ipynb](validation.ipynb)"
   ]
  },
  {
   "cell_type": "code",
   "execution_count": 6,
   "metadata": {
    "inputHidden": false,
    "outputHidden": false
   },
   "outputs": [
    {
     "name": "stderr",
     "output_type": "stream",
     "text": [
      "Input Notebook:  validation.ipynb\n",
      "Output Notebook: D:\\gitClones\\nteract_models\\optimize\\projects\\the_dalles/validation.ipynb\n",
      "100%|██████████| 15/15 [00:01<00:00, 11.87it/s]\n"
     ]
    },
    {
     "data": {
      "text/plain": [
       "{'cells': [{'cell_type': 'code',\n",
       "   'execution_count': 1,\n",
       "   'metadata': {'papermill': {'duration': 0.018034,\n",
       "     'end_time': '2018-10-23T21:13:40.611835',\n",
       "     'exception': False,\n",
       "     'start_time': '2018-10-23T21:13:40.593801',\n",
       "     'status': 'completed'},\n",
       "    'tags': []},\n",
       "   'outputs': [],\n",
       "   'source': \"import os\\nimport sys\\nmodule_path = os.path.abspath(os.path.join(r'D:\\\\gitClones\\\\nteract_models\\\\optimize\\\\scripts'))\\nif module_path not in sys.path:\\n    sys.path.append(module_path)\"},\n",
       "  {'cell_type': 'code',\n",
       "   'execution_count': 2,\n",
       "   'metadata': {'papermill': {'duration': 0.238639,\n",
       "     'end_time': '2018-10-23T21:13:40.850474',\n",
       "     'exception': False,\n",
       "     'start_time': '2018-10-23T21:13:40.611835',\n",
       "     'status': 'completed'},\n",
       "    'tags': []},\n",
       "   'outputs': [],\n",
       "   'source': 'import papermill as pm\\nimport pandas as pd'},\n",
       "  {'cell_type': 'code',\n",
       "   'execution_count': 3,\n",
       "   'metadata': {'inputHidden': False,\n",
       "    'outputHidden': False,\n",
       "    'papermill': {'duration': 0.010999,\n",
       "     'end_time': '2018-10-23T21:13:40.861473',\n",
       "     'exception': False,\n",
       "     'start_time': '2018-10-23T21:13:40.850474',\n",
       "     'status': 'completed'},\n",
       "    'tags': ['parameters']},\n",
       "   'outputs': [],\n",
       "   'source': 'error_directory = False\\nerror_notebook = False'},\n",
       "  {'cell_type': 'code',\n",
       "   'execution_count': 4,\n",
       "   'metadata': {'papermill': {'duration': 0.010018,\n",
       "     'end_time': '2018-10-23T21:13:40.872501',\n",
       "     'exception': False,\n",
       "     'start_time': '2018-10-23T21:13:40.862483',\n",
       "     'status': 'completed'},\n",
       "    'tags': ['injected-parameters']},\n",
       "   'outputs': [],\n",
       "   'source': '# Parameters\\nerror_directory = \"D:\\\\\\\\gitClones\\\\\\\\nteract_models\\\\\\\\optimize\\\\\\\\projects\\\\\\\\the_dalles/error\"\\n'},\n",
       "  {'cell_type': 'code',\n",
       "   'execution_count': 5,\n",
       "   'metadata': {'inputHidden': False,\n",
       "    'outputHidden': False,\n",
       "    'papermill': {'duration': 0.304813,\n",
       "     'end_time': '2018-10-23T21:13:41.177314',\n",
       "     'exception': False,\n",
       "     'start_time': '2018-10-23T21:13:40.872501',\n",
       "     'status': 'completed'},\n",
       "    'tags': []},\n",
       "   'outputs': [],\n",
       "   'source': 'if error_directory:\\n    nbs = pm.read_notebooks(error_directory)\\n    df = nbs.dataframe\\nelse:\\n    nb = pm.read_notebook(error_notebook)\\n    df = nb.dataframe'},\n",
       "  {'cell_type': 'code',\n",
       "   'execution_count': 6,\n",
       "   'metadata': {'inputHidden': False,\n",
       "    'outputHidden': False,\n",
       "    'papermill': {'duration': 0.037089,\n",
       "     'end_time': '2018-10-23T21:13:41.215415',\n",
       "     'exception': False,\n",
       "     'start_time': '2018-10-23T21:13:41.178326',\n",
       "     'status': 'completed'},\n",
       "    'tags': []},\n",
       "   'outputs': [{'data': {'text/html': '<div>\\n<style scoped>\\n    .dataframe tbody tr th:only-of-type {\\n        vertical-align: middle;\\n    }\\n\\n    .dataframe tbody tr th {\\n        vertical-align: top;\\n    }\\n\\n    .dataframe thead th {\\n        text-align: right;\\n    }\\n</style>\\n<table border=\"1\" class=\"dataframe\">\\n  <thead>\\n    <tr style=\"text-align: right;\">\\n      <th>name</th>\\n      <th>mse</th>\\n      <th>rmse</th>\\n    </tr>\\n  </thead>\\n  <tbody>\\n    <tr>\\n      <th>count</th>\\n      <td>2.00000</td>\\n      <td>2.000000</td>\\n    </tr>\\n    <tr>\\n      <th>unique</th>\\n      <td>2.00000</td>\\n      <td>2.000000</td>\\n    </tr>\\n    <tr>\\n      <th>top</th>\\n      <td>6.36316</td>\\n      <td>3.071636</td>\\n    </tr>\\n    <tr>\\n      <th>freq</th>\\n      <td>1.00000</td>\\n      <td>1.000000</td>\\n    </tr>\\n  </tbody>\\n</table>\\n</div>',\n",
       "      'text/plain': 'name        mse      rmse\\ncount   2.00000  2.000000\\nunique  2.00000  2.000000\\ntop     6.36316  3.071636\\nfreq    1.00000  1.000000'},\n",
       "     'execution_count': 6,\n",
       "     'metadata': {},\n",
       "     'output_type': 'execute_result'}],\n",
       "   'source': \"mse_rmse = df[(df['name']=='mse') | (df['name'] == 'rmse')].copy()\\nmse_rmse = mse_rmse.pivot(columns = 'name', values = 'value', index = 'filename')\\nmse_rmse.describe()\"},\n",
       "  {'cell_type': 'code',\n",
       "   'execution_count': 7,\n",
       "   'metadata': {'inputHidden': False,\n",
       "    'outputHidden': False,\n",
       "    'papermill': {'duration': 0.009025,\n",
       "     'end_time': '2018-10-23T21:13:41.224440',\n",
       "     'exception': False,\n",
       "     'start_time': '2018-10-23T21:13:41.215415',\n",
       "     'status': 'completed'},\n",
       "    'tags': []},\n",
       "   'outputs': [],\n",
       "   'source': \"error = df[df['name'] == 'error'].reset_index(drop = True)\\ndf_list = [pd.DataFrame(d) for d in error['value']]\\nerror = pd.concat(df_list, ignore_index=True)\\n\"},\n",
       "  {'cell_type': 'code',\n",
       "   'execution_count': 8,\n",
       "   'metadata': {'inputHidden': False,\n",
       "    'outputHidden': False,\n",
       "    'papermill': {'duration': 0.013034,\n",
       "     'end_time': '2018-10-23T21:13:41.237474',\n",
       "     'exception': False,\n",
       "     'start_time': '2018-10-23T21:13:41.224440',\n",
       "     'status': 'completed'},\n",
       "    'tags': []},\n",
       "   'outputs': [],\n",
       "   'source': \"b = df[(df['name']=='b1') | (df['name'] == 'b2') | (df['name'] == 'b3')].copy()\\nb = b.pivot(columns = 'name', values = 'value', index = 'filename')\\n\"},\n",
       "  {'cell_type': 'code',\n",
       "   'execution_count': 9,\n",
       "   'metadata': {'inputHidden': False,\n",
       "    'outputHidden': False,\n",
       "    'papermill': {'duration': 0.016044,\n",
       "     'end_time': '2018-10-23T21:13:41.253518',\n",
       "     'exception': False,\n",
       "     'start_time': '2018-10-23T21:13:41.237474',\n",
       "     'status': 'completed'},\n",
       "    'tags': []},\n",
       "   'outputs': [{'data': {'text/html': '<div>\\n<style scoped>\\n    .dataframe tbody tr th:only-of-type {\\n        vertical-align: middle;\\n    }\\n\\n    .dataframe tbody tr th {\\n        vertical-align: top;\\n    }\\n\\n    .dataframe thead th {\\n        text-align: right;\\n    }\\n</style>\\n<table border=\"1\" class=\"dataframe\">\\n  <thead>\\n    <tr style=\"text-align: right;\">\\n      <th>name</th>\\n      <th>b1</th>\\n      <th>b2</th>\\n      <th>b3</th>\\n    </tr>\\n    <tr>\\n      <th>filename</th>\\n      <th></th>\\n      <th></th>\\n      <th></th>\\n    </tr>\\n  </thead>\\n  <tbody>\\n    <tr>\\n      <th>the_dalles_2017-12-31_00_00_00_optimized_error.ipynb</th>\\n      <td>-0.926778</td>\\n      <td>-2.26488e-17</td>\\n      <td>-0.466143</td>\\n    </tr>\\n    <tr>\\n      <th>the_dalles_2018-12-31_00_00_00_optimized_error.ipynb</th>\\n      <td>-0.999404</td>\\n      <td>-15.318</td>\\n      <td>-0.00977535</td>\\n    </tr>\\n  </tbody>\\n</table>\\n</div>',\n",
       "      'text/plain': 'name                                                      b1           b2  \\\\\\nfilename                                                                    \\nthe_dalles_2017-12-31_00_00_00_optimized_error.... -0.926778 -2.26488e-17   \\nthe_dalles_2018-12-31_00_00_00_optimized_error.... -0.999404      -15.318   \\n\\nname                                                        b3  \\nfilename                                                        \\nthe_dalles_2017-12-31_00_00_00_optimized_error....   -0.466143  \\nthe_dalles_2018-12-31_00_00_00_optimized_error.... -0.00977535  '},\n",
       "     'execution_count': 9,\n",
       "     'metadata': {},\n",
       "     'output_type': 'execute_result'}],\n",
       "   'source': 'b'},\n",
       "  {'cell_type': 'code',\n",
       "   'execution_count': 10,\n",
       "   'metadata': {'inputHidden': False,\n",
       "    'outputHidden': False,\n",
       "    'papermill': {'duration': 0.190507,\n",
       "     'end_time': '2018-10-23T21:13:41.444025',\n",
       "     'exception': False,\n",
       "     'start_time': '2018-10-23T21:13:41.253518',\n",
       "     'status': 'completed'},\n",
       "    'tags': []},\n",
       "   'outputs': [{'data': {'text/html': '\\n    <div class=\"bk-root\">\\n        <a href=\"https://bokeh.pydata.org\" target=\"_blank\" class=\"bk-logo bk-logo-small bk-logo-notebook\"></a>\\n        <span id=\"e5d4e568-7fe5-4a1d-837c-db0a68222d3a\">Loading BokehJS ...</span>\\n    </div>'},\n",
       "     'metadata': {},\n",
       "     'output_type': 'display_data'},\n",
       "    {'data': {'application/javascript': '\\n(function(root) {\\n  function now() {\\n    return new Date();\\n  }\\n\\n  var force = true;\\n\\n  if (typeof (root._bokeh_onload_callbacks) === \"undefined\" || force === true) {\\n    root._bokeh_onload_callbacks = [];\\n    root._bokeh_is_loading = undefined;\\n  }\\n\\n  var JS_MIME_TYPE = \\'application/javascript\\';\\n  var HTML_MIME_TYPE = \\'text/html\\';\\n  var EXEC_MIME_TYPE = \\'application/vnd.bokehjs_exec.v0+json\\';\\n  var CLASS_NAME = \\'output_bokeh rendered_html\\';\\n\\n  /**\\n   * Render data to the DOM node\\n   */\\n  function render(props, node) {\\n    var script = document.createElement(\"script\");\\n    node.appendChild(script);\\n  }\\n\\n  /**\\n   * Handle when an output is cleared or removed\\n   */\\n  function handleClearOutput(event, handle) {\\n    var cell = handle.cell;\\n\\n    var id = cell.output_area._bokeh_element_id;\\n    var server_id = cell.output_area._bokeh_server_id;\\n    // Clean up Bokeh references\\n    if (id !== undefined) {\\n      Bokeh.index[id].model.document.clear();\\n      delete Bokeh.index[id];\\n    }\\n\\n    if (server_id !== undefined) {\\n      // Clean up Bokeh references\\n      var cmd = \"from bokeh.io.state import curstate; print(curstate().uuid_to_server[\\'\" + server_id + \"\\'].get_sessions()[0].document.roots[0]._id)\";\\n      cell.notebook.kernel.execute(cmd, {\\n        iopub: {\\n          output: function(msg) {\\n            var element_id = msg.content.text.trim();\\n            Bokeh.index[element_id].model.document.clear();\\n            delete Bokeh.index[element_id];\\n          }\\n        }\\n      });\\n      // Destroy server and session\\n      var cmd = \"import bokeh.io.notebook as ion; ion.destroy_server(\\'\" + server_id + \"\\')\";\\n      cell.notebook.kernel.execute(cmd);\\n    }\\n  }\\n\\n  /**\\n   * Handle when a new output is added\\n   */\\n  function handleAddOutput(event, handle) {\\n    var output_area = handle.output_area;\\n    var output = handle.output;\\n\\n    // limit handleAddOutput to display_data with EXEC_MIME_TYPE content only\\n    if ((output.output_type != \"display_data\") || (!output.data.hasOwnProperty(EXEC_MIME_TYPE))) {\\n      return\\n    }\\n\\n    var toinsert = output_area.element.find(\".\" + CLASS_NAME.split(\\' \\')[0]);\\n\\n    if (output.metadata[EXEC_MIME_TYPE][\"id\"] !== undefined) {\\n      toinsert[toinsert.length - 1].firstChild.textContent = output.data[JS_MIME_TYPE];\\n      // store reference to embed id on output_area\\n      output_area._bokeh_element_id = output.metadata[EXEC_MIME_TYPE][\"id\"];\\n    }\\n    if (output.metadata[EXEC_MIME_TYPE][\"server_id\"] !== undefined) {\\n      var bk_div = document.createElement(\"div\");\\n      bk_div.innerHTML = output.data[HTML_MIME_TYPE];\\n      var script_attrs = bk_div.children[0].attributes;\\n      for (var i = 0; i < script_attrs.length; i++) {\\n        toinsert[toinsert.length - 1].firstChild.setAttribute(script_attrs[i].name, script_attrs[i].value);\\n      }\\n      // store reference to server id on output_area\\n      output_area._bokeh_server_id = output.metadata[EXEC_MIME_TYPE][\"server_id\"];\\n    }\\n  }\\n\\n  function register_renderer(events, OutputArea) {\\n\\n    function append_mime(data, metadata, element) {\\n      // create a DOM node to render to\\n      var toinsert = this.create_output_subarea(\\n        metadata,\\n        CLASS_NAME,\\n        EXEC_MIME_TYPE\\n      );\\n      this.keyboard_manager.register_events(toinsert);\\n      // Render to node\\n      var props = {data: data, metadata: metadata[EXEC_MIME_TYPE]};\\n      render(props, toinsert[toinsert.length - 1]);\\n      element.append(toinsert);\\n      return toinsert\\n    }\\n\\n    /* Handle when an output is cleared or removed */\\n    events.on(\\'clear_output.CodeCell\\', handleClearOutput);\\n    events.on(\\'delete.Cell\\', handleClearOutput);\\n\\n    /* Handle when a new output is added */\\n    events.on(\\'output_added.OutputArea\\', handleAddOutput);\\n\\n    /**\\n     * Register the mime type and append_mime function with output_area\\n     */\\n    OutputArea.prototype.register_mime_type(EXEC_MIME_TYPE, append_mime, {\\n      /* Is output safe? */\\n      safe: true,\\n      /* Index of renderer in `output_area.display_order` */\\n      index: 0\\n    });\\n  }\\n\\n  // register the mime type if in Jupyter Notebook environment and previously unregistered\\n  if (root.Jupyter !== undefined) {\\n    var events = require(\\'base/js/events\\');\\n    var OutputArea = require(\\'notebook/js/outputarea\\').OutputArea;\\n\\n    if (OutputArea.prototype.mime_types().indexOf(EXEC_MIME_TYPE) == -1) {\\n      register_renderer(events, OutputArea);\\n    }\\n  }\\n\\n  \\n  if (typeof (root._bokeh_timeout) === \"undefined\" || force === true) {\\n    root._bokeh_timeout = Date.now() + 5000;\\n    root._bokeh_failed_load = false;\\n  }\\n\\n  var NB_LOAD_WARNING = {\\'data\\': {\\'text/html\\':\\n     \"<div style=\\'background-color: #fdd\\'>\\\\n\"+\\n     \"<p>\\\\n\"+\\n     \"BokehJS does not appear to have successfully loaded. If loading BokehJS from CDN, this \\\\n\"+\\n     \"may be due to a slow or bad network connection. Possible fixes:\\\\n\"+\\n     \"</p>\\\\n\"+\\n     \"<ul>\\\\n\"+\\n     \"<li>re-rerun `output_notebook()` to attempt to load from CDN again, or</li>\\\\n\"+\\n     \"<li>use INLINE resources instead, as so:</li>\\\\n\"+\\n     \"</ul>\\\\n\"+\\n     \"<code>\\\\n\"+\\n     \"from bokeh.resources import INLINE\\\\n\"+\\n     \"output_notebook(resources=INLINE)\\\\n\"+\\n     \"</code>\\\\n\"+\\n     \"</div>\"}};\\n\\n  function display_loaded() {\\n    var el = document.getElementById(\"e5d4e568-7fe5-4a1d-837c-db0a68222d3a\");\\n    if (el != null) {\\n      el.textContent = \"BokehJS is loading...\";\\n    }\\n    if (root.Bokeh !== undefined) {\\n      if (el != null) {\\n        el.textContent = \"BokehJS \" + root.Bokeh.version + \" successfully loaded.\";\\n      }\\n    } else if (Date.now() < root._bokeh_timeout) {\\n      setTimeout(display_loaded, 100)\\n    }\\n  }\\n\\n\\n  function run_callbacks() {\\n    try {\\n      root._bokeh_onload_callbacks.forEach(function(callback) { callback() });\\n    }\\n    finally {\\n      delete root._bokeh_onload_callbacks\\n    }\\n    console.info(\"Bokeh: all callbacks have finished\");\\n  }\\n\\n  function load_libs(js_urls, callback) {\\n    root._bokeh_onload_callbacks.push(callback);\\n    if (root._bokeh_is_loading > 0) {\\n      console.log(\"Bokeh: BokehJS is being loaded, scheduling callback at\", now());\\n      return null;\\n    }\\n    if (js_urls == null || js_urls.length === 0) {\\n      run_callbacks();\\n      return null;\\n    }\\n    console.log(\"Bokeh: BokehJS not loaded, scheduling load and callback at\", now());\\n    root._bokeh_is_loading = js_urls.length;\\n    for (var i = 0; i < js_urls.length; i++) {\\n      var url = js_urls[i];\\n      var s = document.createElement(\\'script\\');\\n      s.src = url;\\n      s.async = false;\\n      s.onreadystatechange = s.onload = function() {\\n        root._bokeh_is_loading--;\\n        if (root._bokeh_is_loading === 0) {\\n          console.log(\"Bokeh: all BokehJS libraries loaded\");\\n          run_callbacks()\\n        }\\n      };\\n      s.onerror = function() {\\n        console.warn(\"failed to load library \" + url);\\n      };\\n      console.log(\"Bokeh: injecting script tag for BokehJS library: \", url);\\n      document.getElementsByTagName(\"head\")[0].appendChild(s);\\n    }\\n  };var element = document.getElementById(\"e5d4e568-7fe5-4a1d-837c-db0a68222d3a\");\\n  if (element == null) {\\n    console.log(\"Bokeh: ERROR: autoload.js configured with elementid \\'e5d4e568-7fe5-4a1d-837c-db0a68222d3a\\' but no matching script tag was found. \")\\n    return false;\\n  }\\n\\n  var js_urls = [\"https://cdn.pydata.org/bokeh/release/bokeh-0.12.16.min.js\", \"https://cdn.pydata.org/bokeh/release/bokeh-widgets-0.12.16.min.js\", \"https://cdn.pydata.org/bokeh/release/bokeh-tables-0.12.16.min.js\", \"https://cdn.pydata.org/bokeh/release/bokeh-gl-0.12.16.min.js\"];\\n\\n  var inline_js = [\\n    function(Bokeh) {\\n      Bokeh.set_log_level(\"info\");\\n    },\\n    \\n    function(Bokeh) {\\n      \\n    },\\n    function(Bokeh) {\\n      console.log(\"Bokeh: injecting CSS: https://cdn.pydata.org/bokeh/release/bokeh-0.12.16.min.css\");\\n      Bokeh.embed.inject_css(\"https://cdn.pydata.org/bokeh/release/bokeh-0.12.16.min.css\");\\n      console.log(\"Bokeh: injecting CSS: https://cdn.pydata.org/bokeh/release/bokeh-widgets-0.12.16.min.css\");\\n      Bokeh.embed.inject_css(\"https://cdn.pydata.org/bokeh/release/bokeh-widgets-0.12.16.min.css\");\\n      console.log(\"Bokeh: injecting CSS: https://cdn.pydata.org/bokeh/release/bokeh-tables-0.12.16.min.css\");\\n      Bokeh.embed.inject_css(\"https://cdn.pydata.org/bokeh/release/bokeh-tables-0.12.16.min.css\");\\n    }\\n  ];\\n\\n  function run_inline_js() {\\n    \\n    if ((root.Bokeh !== undefined) || (force === true)) {\\n      for (var i = 0; i < inline_js.length; i++) {\\n        inline_js[i].call(root, root.Bokeh);\\n      }if (force === true) {\\n        display_loaded();\\n      }} else if (Date.now() < root._bokeh_timeout) {\\n      setTimeout(run_inline_js, 100);\\n    } else if (!root._bokeh_failed_load) {\\n      console.log(\"Bokeh: BokehJS failed to load within specified timeout.\");\\n      root._bokeh_failed_load = true;\\n    } else if (force !== true) {\\n      var cell = $(document.getElementById(\"e5d4e568-7fe5-4a1d-837c-db0a68222d3a\")).parents(\\'.cell\\').data().cell;\\n      cell.output_area.append_execute_result(NB_LOAD_WARNING)\\n    }\\n\\n  }\\n\\n  if (root._bokeh_is_loading === 0) {\\n    console.log(\"Bokeh: BokehJS loaded, going straight to plotting\");\\n    run_inline_js();\\n  } else {\\n    load_libs(js_urls, function() {\\n      console.log(\"Bokeh: BokehJS plotting callback run at\", now());\\n      run_inline_js();\\n    });\\n  }\\n}(window));',\n",
       "      'application/vnd.bokehjs_load.v0+json': '\\n(function(root) {\\n  function now() {\\n    return new Date();\\n  }\\n\\n  var force = true;\\n\\n  if (typeof (root._bokeh_onload_callbacks) === \"undefined\" || force === true) {\\n    root._bokeh_onload_callbacks = [];\\n    root._bokeh_is_loading = undefined;\\n  }\\n\\n  \\n\\n  \\n  if (typeof (root._bokeh_timeout) === \"undefined\" || force === true) {\\n    root._bokeh_timeout = Date.now() + 5000;\\n    root._bokeh_failed_load = false;\\n  }\\n\\n  var NB_LOAD_WARNING = {\\'data\\': {\\'text/html\\':\\n     \"<div style=\\'background-color: #fdd\\'>\\\\n\"+\\n     \"<p>\\\\n\"+\\n     \"BokehJS does not appear to have successfully loaded. If loading BokehJS from CDN, this \\\\n\"+\\n     \"may be due to a slow or bad network connection. Possible fixes:\\\\n\"+\\n     \"</p>\\\\n\"+\\n     \"<ul>\\\\n\"+\\n     \"<li>re-rerun `output_notebook()` to attempt to load from CDN again, or</li>\\\\n\"+\\n     \"<li>use INLINE resources instead, as so:</li>\\\\n\"+\\n     \"</ul>\\\\n\"+\\n     \"<code>\\\\n\"+\\n     \"from bokeh.resources import INLINE\\\\n\"+\\n     \"output_notebook(resources=INLINE)\\\\n\"+\\n     \"</code>\\\\n\"+\\n     \"</div>\"}};\\n\\n  function display_loaded() {\\n    var el = document.getElementById(\"e5d4e568-7fe5-4a1d-837c-db0a68222d3a\");\\n    if (el != null) {\\n      el.textContent = \"BokehJS is loading...\";\\n    }\\n    if (root.Bokeh !== undefined) {\\n      if (el != null) {\\n        el.textContent = \"BokehJS \" + root.Bokeh.version + \" successfully loaded.\";\\n      }\\n    } else if (Date.now() < root._bokeh_timeout) {\\n      setTimeout(display_loaded, 100)\\n    }\\n  }\\n\\n\\n  function run_callbacks() {\\n    try {\\n      root._bokeh_onload_callbacks.forEach(function(callback) { callback() });\\n    }\\n    finally {\\n      delete root._bokeh_onload_callbacks\\n    }\\n    console.info(\"Bokeh: all callbacks have finished\");\\n  }\\n\\n  function load_libs(js_urls, callback) {\\n    root._bokeh_onload_callbacks.push(callback);\\n    if (root._bokeh_is_loading > 0) {\\n      console.log(\"Bokeh: BokehJS is being loaded, scheduling callback at\", now());\\n      return null;\\n    }\\n    if (js_urls == null || js_urls.length === 0) {\\n      run_callbacks();\\n      return null;\\n    }\\n    console.log(\"Bokeh: BokehJS not loaded, scheduling load and callback at\", now());\\n    root._bokeh_is_loading = js_urls.length;\\n    for (var i = 0; i < js_urls.length; i++) {\\n      var url = js_urls[i];\\n      var s = document.createElement(\\'script\\');\\n      s.src = url;\\n      s.async = false;\\n      s.onreadystatechange = s.onload = function() {\\n        root._bokeh_is_loading--;\\n        if (root._bokeh_is_loading === 0) {\\n          console.log(\"Bokeh: all BokehJS libraries loaded\");\\n          run_callbacks()\\n        }\\n      };\\n      s.onerror = function() {\\n        console.warn(\"failed to load library \" + url);\\n      };\\n      console.log(\"Bokeh: injecting script tag for BokehJS library: \", url);\\n      document.getElementsByTagName(\"head\")[0].appendChild(s);\\n    }\\n  };var element = document.getElementById(\"e5d4e568-7fe5-4a1d-837c-db0a68222d3a\");\\n  if (element == null) {\\n    console.log(\"Bokeh: ERROR: autoload.js configured with elementid \\'e5d4e568-7fe5-4a1d-837c-db0a68222d3a\\' but no matching script tag was found. \")\\n    return false;\\n  }\\n\\n  var js_urls = [\"https://cdn.pydata.org/bokeh/release/bokeh-0.12.16.min.js\", \"https://cdn.pydata.org/bokeh/release/bokeh-widgets-0.12.16.min.js\", \"https://cdn.pydata.org/bokeh/release/bokeh-tables-0.12.16.min.js\", \"https://cdn.pydata.org/bokeh/release/bokeh-gl-0.12.16.min.js\"];\\n\\n  var inline_js = [\\n    function(Bokeh) {\\n      Bokeh.set_log_level(\"info\");\\n    },\\n    \\n    function(Bokeh) {\\n      \\n    },\\n    function(Bokeh) {\\n      console.log(\"Bokeh: injecting CSS: https://cdn.pydata.org/bokeh/release/bokeh-0.12.16.min.css\");\\n      Bokeh.embed.inject_css(\"https://cdn.pydata.org/bokeh/release/bokeh-0.12.16.min.css\");\\n      console.log(\"Bokeh: injecting CSS: https://cdn.pydata.org/bokeh/release/bokeh-widgets-0.12.16.min.css\");\\n      Bokeh.embed.inject_css(\"https://cdn.pydata.org/bokeh/release/bokeh-widgets-0.12.16.min.css\");\\n      console.log(\"Bokeh: injecting CSS: https://cdn.pydata.org/bokeh/release/bokeh-tables-0.12.16.min.css\");\\n      Bokeh.embed.inject_css(\"https://cdn.pydata.org/bokeh/release/bokeh-tables-0.12.16.min.css\");\\n    }\\n  ];\\n\\n  function run_inline_js() {\\n    \\n    if ((root.Bokeh !== undefined) || (force === true)) {\\n      for (var i = 0; i < inline_js.length; i++) {\\n        inline_js[i].call(root, root.Bokeh);\\n      }if (force === true) {\\n        display_loaded();\\n      }} else if (Date.now() < root._bokeh_timeout) {\\n      setTimeout(run_inline_js, 100);\\n    } else if (!root._bokeh_failed_load) {\\n      console.log(\"Bokeh: BokehJS failed to load within specified timeout.\");\\n      root._bokeh_failed_load = true;\\n    } else if (force !== true) {\\n      var cell = $(document.getElementById(\"e5d4e568-7fe5-4a1d-837c-db0a68222d3a\")).parents(\\'.cell\\').data().cell;\\n      cell.output_area.append_execute_result(NB_LOAD_WARNING)\\n    }\\n\\n  }\\n\\n  if (root._bokeh_is_loading === 0) {\\n    console.log(\"Bokeh: BokehJS loaded, going straight to plotting\");\\n    run_inline_js();\\n  } else {\\n    load_libs(js_urls, function() {\\n      console.log(\"Bokeh: BokehJS plotting callback run at\", now());\\n      run_inline_js();\\n    });\\n  }\\n}(window));'},\n",
       "     'metadata': {},\n",
       "     'output_type': 'display_data'}],\n",
       "   'source': 'import numpy as np\\nfrom bokeh.plotting import figure, show\\nfrom bokeh.io import output_notebook, reset_output\\nfrom bokeh.layouts import gridplot\\nfrom theme import theme\\nfrom bokeh.io import curdoc\\noutput_notebook()\\n\\ndef bk_hist(series, theme = False):\\n    p = figure()\\n    hist, edges = np.histogram(series, density=True)\\n    p.quad(top=hist, bottom=0, left=edges[:-1], right=edges[1:]) \\n    if theme:\\n        doc = curdoc()\\n        doc.theme = theme\\n        doc.add_root(p)  \\n    return p\\n'},\n",
       "  {'cell_type': 'markdown',\n",
       "   'metadata': {'papermill': {'duration': 0.0,\n",
       "     'end_time': '2018-10-23T21:13:41.445027',\n",
       "     'exception': False,\n",
       "     'start_time': '2018-10-23T21:13:41.445027',\n",
       "     'status': 'completed'},\n",
       "    'tags': []},\n",
       "   'source': '# Error'},\n",
       "  {'cell_type': 'code',\n",
       "   'execution_count': 11,\n",
       "   'metadata': {'inputHidden': False,\n",
       "    'outputHidden': False,\n",
       "    'papermill': {'duration': 0.036098,\n",
       "     'end_time': '2018-10-23T21:13:41.494160',\n",
       "     'exception': False,\n",
       "     'start_time': '2018-10-23T21:13:41.458062',\n",
       "     'status': 'completed'},\n",
       "    'tags': []},\n",
       "   'outputs': [{'data': {'text/html': '\\n<div class=\"bk-root\">\\n    <div class=\"bk-plotdiv\" id=\"c6171321-a3b7-4a2e-b9ec-141b1b46a9d1\"></div>\\n</div>'},\n",
       "     'metadata': {},\n",
       "     'output_type': 'display_data'},\n",
       "    {'data': {'application/javascript': '(function(root) {\\n  function embed_document(root) {\\n    \\n  var docs_json = {\"1e49699d-2e4a-412c-b13a-4cf7d028dbc8\":{\"roots\":{\"references\":[{\"attributes\":{\"callback\":null},\"id\":\"75b9f478-e19c-49b8-b7d5-d12938b50e41\",\"type\":\"DataRange1d\"},{\"attributes\":{},\"id\":\"cd483ce4-0df4-4f89-bee0-0dd074809c25\",\"type\":\"WheelZoomTool\"},{\"attributes\":{},\"id\":\"3ec74fa4-98a4-4e75-b06d-992902f9d6f4\",\"type\":\"HelpTool\"},{\"attributes\":{},\"id\":\"4d02f8e0-aad6-4484-8def-5db7ab6e44c7\",\"type\":\"BasicTicker\"},{\"attributes\":{},\"id\":\"416cc5bd-6399-4293-9b06-0687d81e26f7\",\"type\":\"Selection\"},{\"attributes\":{},\"id\":\"e4416147-5414-4443-bd64-ee7cb90e3614\",\"type\":\"BasicTickFormatter\"},{\"attributes\":{\"source\":{\"id\":\"5247f3a3-a41a-4bf7-ab46-aba3820f88ec\",\"type\":\"ColumnDataSource\"}},\"id\":\"e6129072-5237-48ea-9ab4-be690be52e67\",\"type\":\"CDSView\"},{\"attributes\":{},\"id\":\"f196d37a-a138-43b4-8db8-5cb83e93f5a6\",\"type\":\"BasicTickFormatter\"},{\"attributes\":{\"bottom\":{\"value\":0},\"fill_alpha\":{\"value\":0.1},\"fill_color\":{\"value\":\"#1f77b4\"},\"left\":{\"field\":\"left\"},\"line_alpha\":{\"value\":0.1},\"line_color\":{\"value\":\"#1f77b4\"},\"right\":{\"field\":\"right\"},\"top\":{\"field\":\"top\"}},\"id\":\"46e81008-ef5f-4fec-b2e7-87987dbaadf0\",\"type\":\"Quad\"},{\"attributes\":{\"dimension\":1,\"plot\":{\"id\":\"ba7e76ba-39af-47dc-9827-3185ec0ad311\",\"subtype\":\"Figure\",\"type\":\"Plot\"},\"ticker\":{\"id\":\"e5c39803-3514-485c-afe3-70beb5bb8449\",\"type\":\"BasicTicker\"}},\"id\":\"43f48ab6-ff2d-48e7-ab02-07d2db6ec30d\",\"type\":\"Grid\"},{\"attributes\":{\"data_source\":{\"id\":\"5247f3a3-a41a-4bf7-ab46-aba3820f88ec\",\"type\":\"ColumnDataSource\"},\"glyph\":{\"id\":\"808606df-21f1-4dea-b2e5-86cdb062431b\",\"type\":\"Quad\"},\"hover_glyph\":null,\"muted_glyph\":null,\"nonselection_glyph\":{\"id\":\"46e81008-ef5f-4fec-b2e7-87987dbaadf0\",\"type\":\"Quad\"},\"selection_glyph\":null,\"view\":{\"id\":\"e6129072-5237-48ea-9ab4-be690be52e67\",\"type\":\"CDSView\"}},\"id\":\"d71546ea-fe17-4b20-8254-9acea72919de\",\"type\":\"GlyphRenderer\"},{\"attributes\":{},\"id\":\"5fc7f798-bf90-40ee-8cd4-79d886c30776\",\"type\":\"LinearScale\"},{\"attributes\":{\"callback\":null},\"id\":\"d31345a2-a112-49d7-8bcc-d919ad5baa5c\",\"type\":\"DataRange1d\"},{\"attributes\":{},\"id\":\"cd8aa1a8-e1f1-466c-8269-f3e08e01e94b\",\"type\":\"LinearScale\"},{\"attributes\":{\"bottom_units\":\"screen\",\"fill_alpha\":{\"value\":0.5},\"fill_color\":{\"value\":\"lightgrey\"},\"left_units\":\"screen\",\"level\":\"overlay\",\"line_alpha\":{\"value\":1.0},\"line_color\":{\"value\":\"black\"},\"line_dash\":[4,4],\"line_width\":{\"value\":2},\"plot\":null,\"render_mode\":\"css\",\"right_units\":\"screen\",\"top_units\":\"screen\"},\"id\":\"a0fcc823-45d6-49dc-aae7-1469bb09f8e0\",\"type\":\"BoxAnnotation\"},{\"attributes\":{\"formatter\":{\"id\":\"e4416147-5414-4443-bd64-ee7cb90e3614\",\"type\":\"BasicTickFormatter\"},\"plot\":{\"id\":\"ba7e76ba-39af-47dc-9827-3185ec0ad311\",\"subtype\":\"Figure\",\"type\":\"Plot\"},\"ticker\":{\"id\":\"4d02f8e0-aad6-4484-8def-5db7ab6e44c7\",\"type\":\"BasicTicker\"}},\"id\":\"f035f60d-af9c-4cc3-b7e7-8c2a3e1715fd\",\"type\":\"LinearAxis\"},{\"attributes\":{\"overlay\":{\"id\":\"a0fcc823-45d6-49dc-aae7-1469bb09f8e0\",\"type\":\"BoxAnnotation\"}},\"id\":\"43307c20-caba-4902-a62d-c340a6cda8a3\",\"type\":\"BoxZoomTool\"},{\"attributes\":{\"callback\":null,\"data\":{\"left\":{\"__ndarray__\":\"AGBjbMmdGMAtXiOSGFcTwLO4xm/PIAzADLVGu22TAcCYxRobMBjsvwCSym2tOtw/0KtyxG4p/D+MWbkWGaIIQJqunGW9lxFAbrDcP27eFkA=\",\"dtype\":\"float64\",\"shape\":[10]},\"right\":{\"__ndarray__\":\"LV4jkhhXE8CzuMZvzyAMwAy1RrttkwHAmMUaGzAY7L8AksptrTrcP9CrcsRuKfw/jFm5FhmiCECarpxlvZcRQG6w3D9u3hZAQLIcGh8lHEA=\",\"dtype\":\"float64\",\"shape\":[10]},\"top\":{\"__ndarray__\":\"zmTO6/zLiz/El1nEjsSfPxJ/tX/QIcA/mVglokJ/wT8F5csw9BK4Py+YVE59Urg/92R3xKFQuT86SzSTYQ27P1WY/SYi16U/UP4T2EXIjT8=\",\"dtype\":\"float64\",\"shape\":[10]}},\"selected\":{\"id\":\"416cc5bd-6399-4293-9b06-0687d81e26f7\",\"type\":\"Selection\"},\"selection_policy\":{\"id\":\"f6335ff4-ad29-440f-9202-a7d73f73b142\",\"type\":\"UnionRenderers\"}},\"id\":\"5247f3a3-a41a-4bf7-ab46-aba3820f88ec\",\"type\":\"ColumnDataSource\"},{\"attributes\":{\"bottom\":{\"value\":0},\"fill_color\":{\"value\":\"#1f77b4\"},\"left\":{\"field\":\"left\"},\"line_color\":{\"value\":\"#1f77b4\"},\"right\":{\"field\":\"right\"},\"top\":{\"field\":\"top\"}},\"id\":\"808606df-21f1-4dea-b2e5-86cdb062431b\",\"type\":\"Quad\"},{\"attributes\":{},\"id\":\"f6335ff4-ad29-440f-9202-a7d73f73b142\",\"type\":\"UnionRenderers\"},{\"attributes\":{\"formatter\":{\"id\":\"f196d37a-a138-43b4-8db8-5cb83e93f5a6\",\"type\":\"BasicTickFormatter\"},\"plot\":{\"id\":\"ba7e76ba-39af-47dc-9827-3185ec0ad311\",\"subtype\":\"Figure\",\"type\":\"Plot\"},\"ticker\":{\"id\":\"e5c39803-3514-485c-afe3-70beb5bb8449\",\"type\":\"BasicTicker\"}},\"id\":\"44505a27-94d1-4831-9c5d-124ca549c085\",\"type\":\"LinearAxis\"},{\"attributes\":{},\"id\":\"bab297e4-39eb-4596-aed1-24b3e89f1c0d\",\"type\":\"SaveTool\"},{\"attributes\":{\"plot\":null,\"text\":\"Error\"},\"id\":\"88bff0e3-6e20-4e79-ac75-6e750ef5aa6e\",\"type\":\"Title\"},{\"attributes\":{\"plot\":{\"id\":\"ba7e76ba-39af-47dc-9827-3185ec0ad311\",\"subtype\":\"Figure\",\"type\":\"Plot\"},\"ticker\":{\"id\":\"4d02f8e0-aad6-4484-8def-5db7ab6e44c7\",\"type\":\"BasicTicker\"}},\"id\":\"6c4fbf1b-20fe-4375-9e35-9d08fe6b5735\",\"type\":\"Grid\"},{\"attributes\":{},\"id\":\"a7f3808d-0f58-4866-9488-be1e85b28c24\",\"type\":\"ResetTool\"},{\"attributes\":{\"below\":[{\"id\":\"f035f60d-af9c-4cc3-b7e7-8c2a3e1715fd\",\"type\":\"LinearAxis\"}],\"left\":[{\"id\":\"44505a27-94d1-4831-9c5d-124ca549c085\",\"type\":\"LinearAxis\"}],\"renderers\":[{\"id\":\"f035f60d-af9c-4cc3-b7e7-8c2a3e1715fd\",\"type\":\"LinearAxis\"},{\"id\":\"6c4fbf1b-20fe-4375-9e35-9d08fe6b5735\",\"type\":\"Grid\"},{\"id\":\"44505a27-94d1-4831-9c5d-124ca549c085\",\"type\":\"LinearAxis\"},{\"id\":\"43f48ab6-ff2d-48e7-ab02-07d2db6ec30d\",\"type\":\"Grid\"},{\"id\":\"a0fcc823-45d6-49dc-aae7-1469bb09f8e0\",\"type\":\"BoxAnnotation\"},{\"id\":\"d71546ea-fe17-4b20-8254-9acea72919de\",\"type\":\"GlyphRenderer\"}],\"title\":{\"id\":\"88bff0e3-6e20-4e79-ac75-6e750ef5aa6e\",\"type\":\"Title\"},\"toolbar\":{\"id\":\"cb13cfdf-1d3f-4cc0-abde-5c6e78af44ed\",\"type\":\"Toolbar\"},\"x_range\":{\"id\":\"d31345a2-a112-49d7-8bcc-d919ad5baa5c\",\"type\":\"DataRange1d\"},\"x_scale\":{\"id\":\"cd8aa1a8-e1f1-466c-8269-f3e08e01e94b\",\"type\":\"LinearScale\"},\"y_range\":{\"id\":\"75b9f478-e19c-49b8-b7d5-d12938b50e41\",\"type\":\"DataRange1d\"},\"y_scale\":{\"id\":\"5fc7f798-bf90-40ee-8cd4-79d886c30776\",\"type\":\"LinearScale\"}},\"id\":\"ba7e76ba-39af-47dc-9827-3185ec0ad311\",\"subtype\":\"Figure\",\"type\":\"Plot\"},{\"attributes\":{},\"id\":\"e5c39803-3514-485c-afe3-70beb5bb8449\",\"type\":\"BasicTicker\"},{\"attributes\":{},\"id\":\"2e1609ee-c919-428c-91a8-40866e208a8e\",\"type\":\"PanTool\"},{\"attributes\":{\"active_drag\":\"auto\",\"active_inspect\":\"auto\",\"active_scroll\":\"auto\",\"active_tap\":\"auto\",\"tools\":[{\"id\":\"2e1609ee-c919-428c-91a8-40866e208a8e\",\"type\":\"PanTool\"},{\"id\":\"cd483ce4-0df4-4f89-bee0-0dd074809c25\",\"type\":\"WheelZoomTool\"},{\"id\":\"43307c20-caba-4902-a62d-c340a6cda8a3\",\"type\":\"BoxZoomTool\"},{\"id\":\"bab297e4-39eb-4596-aed1-24b3e89f1c0d\",\"type\":\"SaveTool\"},{\"id\":\"a7f3808d-0f58-4866-9488-be1e85b28c24\",\"type\":\"ResetTool\"},{\"id\":\"3ec74fa4-98a4-4e75-b06d-992902f9d6f4\",\"type\":\"HelpTool\"}]},\"id\":\"cb13cfdf-1d3f-4cc0-abde-5c6e78af44ed\",\"type\":\"Toolbar\"}],\"root_ids\":[\"ba7e76ba-39af-47dc-9827-3185ec0ad311\"]},\"title\":\"Bokeh Application\",\"version\":\"0.12.16\"}};\\n  var render_items = [{\"docid\":\"1e49699d-2e4a-412c-b13a-4cf7d028dbc8\",\"elementid\":\"c6171321-a3b7-4a2e-b9ec-141b1b46a9d1\",\"modelid\":\"ba7e76ba-39af-47dc-9827-3185ec0ad311\"}];\\n  root.Bokeh.embed.embed_items_notebook(docs_json, render_items);\\n\\n  }\\n  if (root.Bokeh !== undefined) {\\n    embed_document(root);\\n  } else {\\n    var attempts = 0;\\n    var timer = setInterval(function(root) {\\n      if (root.Bokeh !== undefined) {\\n        embed_document(root);\\n        clearInterval(timer);\\n      }\\n      attempts++;\\n      if (attempts > 100) {\\n        console.log(\"Bokeh: ERROR: Unable to run BokehJS code because BokehJS library is missing\")\\n        clearInterval(timer);\\n      }\\n    }, 10, root)\\n  }\\n})(window);',\n",
       "      'application/vnd.bokehjs_exec.v0+json': ''},\n",
       "     'metadata': {'application/vnd.bokehjs_exec.v0+json': {'id': 'ba7e76ba-39af-47dc-9827-3185ec0ad311'}},\n",
       "     'output_type': 'display_data'}],\n",
       "   'source': \"error_plot = bk_hist(error['error'])\\nerror_plot.title.text = 'Error'\\nshow(error_plot)\"},\n",
       "  {'cell_type': 'code',\n",
       "   'execution_count': 12,\n",
       "   'metadata': {'papermill': {'duration': 0.023074,\n",
       "     'end_time': '2018-10-23T21:13:41.518236',\n",
       "     'exception': False,\n",
       "     'start_time': '2018-10-23T21:13:41.495162',\n",
       "     'status': 'completed'},\n",
       "    'tags': []},\n",
       "   'outputs': [{'data': {'text/html': '<div>\\n<style scoped>\\n    .dataframe tbody tr th:only-of-type {\\n        vertical-align: middle;\\n    }\\n\\n    .dataframe tbody tr th {\\n        vertical-align: top;\\n    }\\n\\n    .dataframe thead th {\\n        text-align: right;\\n    }\\n</style>\\n<table border=\"1\" class=\"dataframe\">\\n  <thead>\\n    <tr style=\"text-align: right;\">\\n      <th></th>\\n      <th>error</th>\\n      <th>y</th>\\n      <th>y_hat</th>\\n    </tr>\\n  </thead>\\n  <tbody>\\n    <tr>\\n      <th>count</th>\\n      <td>782.000000</td>\\n      <td>782.000000</td>\\n      <td>782.000000</td>\\n    </tr>\\n    <tr>\\n      <th>mean</th>\\n      <td>0.328512</td>\\n      <td>124.187317</td>\\n      <td>124.515830</td>\\n    </tr>\\n    <tr>\\n      <th>std</th>\\n      <td>2.809894</td>\\n      <td>1.419258</td>\\n      <td>3.636934</td>\\n    </tr>\\n    <tr>\\n      <th>min</th>\\n      <td>-6.154089</td>\\n      <td>120.151272</td>\\n      <td>118.387754</td>\\n    </tr>\\n    <tr>\\n      <th>25%</th>\\n      <td>-2.088515</td>\\n      <td>123.206508</td>\\n      <td>121.467912</td>\\n    </tr>\\n    <tr>\\n      <th>50%</th>\\n      <td>0.071422</td>\\n      <td>124.122056</td>\\n      <td>123.480775</td>\\n    </tr>\\n    <tr>\\n      <th>75%</th>\\n      <td>2.756680</td>\\n      <td>125.229914</td>\\n      <td>127.647730</td>\\n    </tr>\\n    <tr>\\n      <th>max</th>\\n      <td>7.036251</td>\\n      <td>127.354946</td>\\n      <td>133.072823</td>\\n    </tr>\\n  </tbody>\\n</table>\\n</div>',\n",
       "      'text/plain': '            error           y       y_hat\\ncount  782.000000  782.000000  782.000000\\nmean     0.328512  124.187317  124.515830\\nstd      2.809894    1.419258    3.636934\\nmin     -6.154089  120.151272  118.387754\\n25%     -2.088515  123.206508  121.467912\\n50%      0.071422  124.122056  123.480775\\n75%      2.756680  125.229914  127.647730\\nmax      7.036251  127.354946  133.072823'},\n",
       "     'execution_count': 12,\n",
       "     'metadata': {},\n",
       "     'output_type': 'execute_result'}],\n",
       "   'source': 'error.describe()'},\n",
       "  {'cell_type': 'code',\n",
       "   'execution_count': 13,\n",
       "   'metadata': {'papermill': {'duration': 0.013035,\n",
       "     'end_time': '2018-10-23T21:13:41.531271',\n",
       "     'exception': False,\n",
       "     'start_time': '2018-10-23T21:13:41.518236',\n",
       "     'status': 'completed'},\n",
       "    'tags': []},\n",
       "   'outputs': [{'data': {'text/html': '<div>\\n<style scoped>\\n    .dataframe tbody tr th:only-of-type {\\n        vertical-align: middle;\\n    }\\n\\n    .dataframe tbody tr th {\\n        vertical-align: top;\\n    }\\n\\n    .dataframe thead th {\\n        text-align: right;\\n    }\\n</style>\\n<table border=\"1\" class=\"dataframe\">\\n  <thead>\\n    <tr style=\"text-align: right;\">\\n      <th>name</th>\\n      <th>mse</th>\\n      <th>rmse</th>\\n    </tr>\\n    <tr>\\n      <th>filename</th>\\n      <th></th>\\n      <th></th>\\n    </tr>\\n  </thead>\\n  <tbody>\\n    <tr>\\n      <th>the_dalles_2017-12-31_00_00_00_optimized_error.ipynb</th>\\n      <td>6.36316</td>\\n      <td>2.52253</td>\\n    </tr>\\n    <tr>\\n      <th>the_dalles_2018-12-31_00_00_00_optimized_error.ipynb</th>\\n      <td>9.43495</td>\\n      <td>3.07164</td>\\n    </tr>\\n  </tbody>\\n</table>\\n</div>',\n",
       "      'text/plain': 'name                                                    mse     rmse\\nfilename                                                            \\nthe_dalles_2017-12-31_00_00_00_optimized_error....  6.36316  2.52253\\nthe_dalles_2018-12-31_00_00_00_optimized_error....  9.43495  3.07164'},\n",
       "     'execution_count': 13,\n",
       "     'metadata': {},\n",
       "     'output_type': 'execute_result'}],\n",
       "   'source': 'mse_rmse'},\n",
       "  {'cell_type': 'code',\n",
       "   'execution_count': 14,\n",
       "   'metadata': {'inputHidden': False,\n",
       "    'outputHidden': False,\n",
       "    'papermill': {'duration': 0.049117,\n",
       "     'end_time': '2018-10-23T21:13:41.580388',\n",
       "     'exception': False,\n",
       "     'start_time': '2018-10-23T21:13:41.531271',\n",
       "     'status': 'completed'},\n",
       "    'tags': []},\n",
       "   'outputs': [{'data': {'text/html': '\\n<div class=\"bk-root\">\\n    <div class=\"bk-plotdiv\" id=\"959d3eee-1ec9-4e01-858a-7271be7acbc7\"></div>\\n</div>'},\n",
       "     'metadata': {},\n",
       "     'output_type': 'display_data'},\n",
       "    {'data': {'application/javascript': '(function(root) {\\n  function embed_document(root) {\\n    \\n  var docs_json = {\"2d8a8b44-98b9-4997-9d50-50023290915b\":{\"roots\":{\"references\":[{\"attributes\":{\"plot\":null,\"text\":\"\"},\"id\":\"0c937921-c503-476a-8247-02a60d2e8911\",\"type\":\"Title\"},{\"attributes\":{\"bottom_units\":\"screen\",\"fill_alpha\":{\"value\":0.5},\"fill_color\":{\"value\":\"lightgrey\"},\"left_units\":\"screen\",\"level\":\"overlay\",\"line_alpha\":{\"value\":1.0},\"line_color\":{\"value\":\"black\"},\"line_dash\":[4,4],\"line_width\":{\"value\":2},\"plot\":null,\"render_mode\":\"css\",\"right_units\":\"screen\",\"top_units\":\"screen\"},\"id\":\"4eed8e6c-1f9e-4872-ab2b-4f7c5b8d9f18\",\"type\":\"BoxAnnotation\"},{\"attributes\":{},\"id\":\"8edfcab7-c158-45da-8c9a-f0e691f6ff4e\",\"type\":\"PanTool\"},{\"attributes\":{\"data_source\":{\"id\":\"9f294529-7e34-4dff-b298-1a39f0254b43\",\"type\":\"ColumnDataSource\"},\"glyph\":{\"id\":\"7527a331-1198-449d-a471-e13a947baedb\",\"type\":\"Circle\"},\"hover_glyph\":null,\"muted_glyph\":null,\"nonselection_glyph\":{\"id\":\"83db3284-266d-4700-9033-972967ff1967\",\"type\":\"Circle\"},\"selection_glyph\":null,\"view\":{\"id\":\"3d08b80a-726f-4a3b-b748-6bd7f7124370\",\"type\":\"CDSView\"}},\"id\":\"5c70b381-19b3-4b6a-ac7c-8b17e066f1b3\",\"type\":\"GlyphRenderer\"},{\"attributes\":{},\"id\":\"8729d9f9-46e9-4a7f-8d36-333c634f7df1\",\"type\":\"WheelZoomTool\"},{\"attributes\":{\"overlay\":{\"id\":\"4eed8e6c-1f9e-4872-ab2b-4f7c5b8d9f18\",\"type\":\"BoxAnnotation\"}},\"id\":\"8eb759ca-966e-48b1-800f-303b2e22ffe4\",\"type\":\"BoxZoomTool\"},{\"attributes\":{},\"id\":\"ae9f84b9-9a80-4521-a033-5adc624ebe74\",\"type\":\"SaveTool\"},{\"attributes\":{},\"id\":\"9b381028-8394-4a77-99f0-36bf7b6e4aa2\",\"type\":\"ResetTool\"},{\"attributes\":{},\"id\":\"46dc9685-31cd-4ca7-88aa-14f617243fee\",\"type\":\"HelpTool\"},{\"attributes\":{\"source\":{\"id\":\"9f294529-7e34-4dff-b298-1a39f0254b43\",\"type\":\"ColumnDataSource\"}},\"id\":\"3d08b80a-726f-4a3b-b748-6bd7f7124370\",\"type\":\"CDSView\"},{\"attributes\":{\"line_width\":2,\"x\":{\"field\":\"x\"},\"y\":{\"field\":\"y\"}},\"id\":\"9e2249bc-25f5-4c58-97fc-436d633ae4c8\",\"type\":\"Line\"},{\"attributes\":{\"line_alpha\":0.1,\"line_color\":\"#1f77b4\",\"line_width\":2,\"x\":{\"field\":\"x\"},\"y\":{\"field\":\"y\"}},\"id\":\"524ee209-84a4-4f78-80c0-cbb9ef2b70e7\",\"type\":\"Line\"},{\"attributes\":{},\"id\":\"7285ef27-5744-4607-b969-803371f5b989\",\"type\":\"BasicTickFormatter\"},{\"attributes\":{\"source\":{\"id\":\"ab9b0b59-a680-471b-90d5-6b02bb2f28e2\",\"type\":\"ColumnDataSource\"}},\"id\":\"204da750-c5fa-48ec-9ecb-7d6a6a723b27\",\"type\":\"CDSView\"},{\"attributes\":{\"data_source\":{\"id\":\"ab9b0b59-a680-471b-90d5-6b02bb2f28e2\",\"type\":\"ColumnDataSource\"},\"glyph\":{\"id\":\"9e2249bc-25f5-4c58-97fc-436d633ae4c8\",\"type\":\"Line\"},\"hover_glyph\":null,\"muted_glyph\":null,\"nonselection_glyph\":{\"id\":\"524ee209-84a4-4f78-80c0-cbb9ef2b70e7\",\"type\":\"Line\"},\"selection_glyph\":null,\"view\":{\"id\":\"204da750-c5fa-48ec-9ecb-7d6a6a723b27\",\"type\":\"CDSView\"}},\"id\":\"b7cd2c58-8d31-46ab-af1c-6fe62a4086af\",\"type\":\"GlyphRenderer\"},{\"attributes\":{\"active_drag\":\"auto\",\"active_inspect\":\"auto\",\"active_scroll\":\"auto\",\"active_tap\":\"auto\",\"tools\":[{\"id\":\"8edfcab7-c158-45da-8c9a-f0e691f6ff4e\",\"type\":\"PanTool\"},{\"id\":\"8729d9f9-46e9-4a7f-8d36-333c634f7df1\",\"type\":\"WheelZoomTool\"},{\"id\":\"8eb759ca-966e-48b1-800f-303b2e22ffe4\",\"type\":\"BoxZoomTool\"},{\"id\":\"ae9f84b9-9a80-4521-a033-5adc624ebe74\",\"type\":\"SaveTool\"},{\"id\":\"9b381028-8394-4a77-99f0-36bf7b6e4aa2\",\"type\":\"ResetTool\"},{\"id\":\"46dc9685-31cd-4ca7-88aa-14f617243fee\",\"type\":\"HelpTool\"}]},\"id\":\"282484da-683a-401c-bb22-ca89c90da9eb\",\"type\":\"Toolbar\"},{\"attributes\":{},\"id\":\"b3ecabbd-3679-4437-ade9-0933f53614eb\",\"type\":\"BasicTickFormatter\"},{\"attributes\":{},\"id\":\"d6e51680-269c-40fe-95dd-6a31bc0ae4c8\",\"type\":\"UnionRenderers\"},{\"attributes\":{\"fill_alpha\":{\"value\":0.1},\"fill_color\":{\"value\":\"#1f77b4\"},\"line_alpha\":{\"value\":0.1},\"line_color\":{\"value\":\"#1f77b4\"},\"size\":{\"units\":\"screen\",\"value\":1},\"x\":{\"field\":\"x\"},\"y\":{\"field\":\"y\"}},\"id\":\"7527a331-1198-449d-a471-e13a947baedb\",\"type\":\"Circle\"},{\"attributes\":{},\"id\":\"47249b3e-0757-4f3b-b56e-c2d200ae5e16\",\"type\":\"Selection\"},{\"attributes\":{},\"id\":\"bffa4d62-9489-40ba-9957-5a77ba355257\",\"type\":\"UnionRenderers\"},{\"attributes\":{\"below\":[{\"id\":\"7b22b798-1f35-45eb-b7f0-5e287a9d7c6d\",\"type\":\"LinearAxis\"}],\"left\":[{\"id\":\"24ec9d99-fd81-4e4e-a36b-e0966b24566f\",\"type\":\"LinearAxis\"}],\"renderers\":[{\"id\":\"7b22b798-1f35-45eb-b7f0-5e287a9d7c6d\",\"type\":\"LinearAxis\"},{\"id\":\"6d4434e7-0d22-4aee-acb7-1aac924fa596\",\"type\":\"Grid\"},{\"id\":\"24ec9d99-fd81-4e4e-a36b-e0966b24566f\",\"type\":\"LinearAxis\"},{\"id\":\"084a45bd-ef9d-4b2a-bb26-443c0d12588f\",\"type\":\"Grid\"},{\"id\":\"4eed8e6c-1f9e-4872-ab2b-4f7c5b8d9f18\",\"type\":\"BoxAnnotation\"},{\"id\":\"5c70b381-19b3-4b6a-ac7c-8b17e066f1b3\",\"type\":\"GlyphRenderer\"},{\"id\":\"b7cd2c58-8d31-46ab-af1c-6fe62a4086af\",\"type\":\"GlyphRenderer\"}],\"title\":{\"id\":\"0c937921-c503-476a-8247-02a60d2e8911\",\"type\":\"Title\"},\"toolbar\":{\"id\":\"282484da-683a-401c-bb22-ca89c90da9eb\",\"type\":\"Toolbar\"},\"x_range\":{\"id\":\"b05ed338-4ee8-4ea9-b643-46567d46db04\",\"type\":\"DataRange1d\"},\"x_scale\":{\"id\":\"6c015ad8-d95a-48e0-8921-00b9f001cbb1\",\"type\":\"LinearScale\"},\"y_range\":{\"id\":\"e4a47d91-ecbc-4c5a-83d5-4ea514aa09d4\",\"type\":\"DataRange1d\"},\"y_scale\":{\"id\":\"e865787e-3a3d-4d06-9ae8-927ac0bf8497\",\"type\":\"LinearScale\"}},\"id\":\"7f40938a-1fdf-4753-835a-023171d1772e\",\"subtype\":\"Figure\",\"type\":\"Plot\"},{\"attributes\":{\"callback\":null},\"id\":\"b05ed338-4ee8-4ea9-b643-46567d46db04\",\"type\":\"DataRange1d\"},{\"attributes\":{\"callback\":null,\"data\":{\"x\":{\"__ndarray__\":\"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\",\"dtype\":\"float64\",\"shape\":[782]},\"y\":{\"__ndarray__\":\"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\",\"dtype\":\"float64\",\"shape\":[782]}},\"selected\":{\"id\":\"47249b3e-0757-4f3b-b56e-c2d200ae5e16\",\"type\":\"Selection\"},\"selection_policy\":{\"id\":\"d6e51680-269c-40fe-95dd-6a31bc0ae4c8\",\"type\":\"UnionRenderers\"}},\"id\":\"9f294529-7e34-4dff-b298-1a39f0254b43\",\"type\":\"ColumnDataSource\"},{\"attributes\":{},\"id\":\"fd3d3d7a-ae33-4ec3-b84e-922372a41644\",\"type\":\"Selection\"},{\"attributes\":{\"callback\":null},\"id\":\"e4a47d91-ecbc-4c5a-83d5-4ea514aa09d4\",\"type\":\"DataRange1d\"},{\"attributes\":{},\"id\":\"6c015ad8-d95a-48e0-8921-00b9f001cbb1\",\"type\":\"LinearScale\"},{\"attributes\":{},\"id\":\"e865787e-3a3d-4d06-9ae8-927ac0bf8497\",\"type\":\"LinearScale\"},{\"attributes\":{\"plot\":{\"id\":\"7f40938a-1fdf-4753-835a-023171d1772e\",\"subtype\":\"Figure\",\"type\":\"Plot\"},\"ticker\":{\"id\":\"8a7d2f84-f4e3-4282-bcd7-252b11136497\",\"type\":\"BasicTicker\"}},\"id\":\"6d4434e7-0d22-4aee-acb7-1aac924fa596\",\"type\":\"Grid\"},{\"attributes\":{\"axis_label\":\"y (%)\",\"formatter\":{\"id\":\"7285ef27-5744-4607-b969-803371f5b989\",\"type\":\"BasicTickFormatter\"},\"plot\":{\"id\":\"7f40938a-1fdf-4753-835a-023171d1772e\",\"subtype\":\"Figure\",\"type\":\"Plot\"},\"ticker\":{\"id\":\"8a7d2f84-f4e3-4282-bcd7-252b11136497\",\"type\":\"BasicTicker\"}},\"id\":\"7b22b798-1f35-45eb-b7f0-5e287a9d7c6d\",\"type\":\"LinearAxis\"},{\"attributes\":{},\"id\":\"8a7d2f84-f4e3-4282-bcd7-252b11136497\",\"type\":\"BasicTicker\"},{\"attributes\":{\"axis_label\":\"y hat (%)\",\"formatter\":{\"id\":\"b3ecabbd-3679-4437-ade9-0933f53614eb\",\"type\":\"BasicTickFormatter\"},\"plot\":{\"id\":\"7f40938a-1fdf-4753-835a-023171d1772e\",\"subtype\":\"Figure\",\"type\":\"Plot\"},\"ticker\":{\"id\":\"984d5a43-837b-4ef3-97d6-00c15c538717\",\"type\":\"BasicTicker\"}},\"id\":\"24ec9d99-fd81-4e4e-a36b-e0966b24566f\",\"type\":\"LinearAxis\"},{\"attributes\":{},\"id\":\"984d5a43-837b-4ef3-97d6-00c15c538717\",\"type\":\"BasicTicker\"},{\"attributes\":{\"dimension\":1,\"plot\":{\"id\":\"7f40938a-1fdf-4753-835a-023171d1772e\",\"subtype\":\"Figure\",\"type\":\"Plot\"},\"ticker\":{\"id\":\"984d5a43-837b-4ef3-97d6-00c15c538717\",\"type\":\"BasicTicker\"}},\"id\":\"084a45bd-ef9d-4b2a-bb26-443c0d12588f\",\"type\":\"Grid\"},{\"attributes\":{\"fill_alpha\":{\"value\":0.1},\"fill_color\":{\"value\":\"#1f77b4\"},\"line_alpha\":{\"value\":0.1},\"line_color\":{\"value\":\"#1f77b4\"},\"size\":{\"units\":\"screen\",\"value\":1},\"x\":{\"field\":\"x\"},\"y\":{\"field\":\"y\"}},\"id\":\"83db3284-266d-4700-9033-972967ff1967\",\"type\":\"Circle\"},{\"attributes\":{\"callback\":null,\"data\":{\"x\":[120.15127242167188,127.35494588073983],\"y\":[120.15127242167188,127.35494588073983]},\"selected\":{\"id\":\"fd3d3d7a-ae33-4ec3-b84e-922372a41644\",\"type\":\"Selection\"},\"selection_policy\":{\"id\":\"bffa4d62-9489-40ba-9957-5a77ba355257\",\"type\":\"UnionRenderers\"}},\"id\":\"ab9b0b59-a680-471b-90d5-6b02bb2f28e2\",\"type\":\"ColumnDataSource\"}],\"root_ids\":[\"7f40938a-1fdf-4753-835a-023171d1772e\"]},\"title\":\"Bokeh Application\",\"version\":\"0.12.16\"}};\\n  var render_items = [{\"docid\":\"2d8a8b44-98b9-4997-9d50-50023290915b\",\"elementid\":\"959d3eee-1ec9-4e01-858a-7271be7acbc7\",\"modelid\":\"7f40938a-1fdf-4753-835a-023171d1772e\"}];\\n  root.Bokeh.embed.embed_items_notebook(docs_json, render_items);\\n\\n  }\\n  if (root.Bokeh !== undefined) {\\n    embed_document(root);\\n  } else {\\n    var attempts = 0;\\n    var timer = setInterval(function(root) {\\n      if (root.Bokeh !== undefined) {\\n        embed_document(root);\\n        clearInterval(timer);\\n      }\\n      attempts++;\\n      if (attempts > 100) {\\n        console.log(\"Bokeh: ERROR: Unable to run BokehJS code because BokehJS library is missing\")\\n        clearInterval(timer);\\n      }\\n    }, 10, root)\\n  }\\n})(window);',\n",
       "      'application/vnd.bokehjs_exec.v0+json': ''},\n",
       "     'metadata': {'application/vnd.bokehjs_exec.v0+json': {'id': '7f40938a-1fdf-4753-835a-023171d1772e'}},\n",
       "     'output_type': 'display_data'}],\n",
       "   'source': 'y_min = error[\\'y\\'].min()\\ny_max = error[\\'y\\'].max()\\np = figure()\\np.circle(error[\\'y\\'], error[\\'y_hat\\'], size=1, alpha=0.1)\\np.line([y_min,y_max], [y_min,y_max], line_width=2, color = \\'black\\')\\np.xaxis.axis_label = \"y (%)\"\\np.yaxis.axis_label = \"y hat (%)\"\\nshow(p)\\n'}],\n",
       " 'metadata': {'kernelspec': {'display_name': 'Python 3',\n",
       "   'language': 'python',\n",
       "   'name': 'python3'},\n",
       "  'language_info': {'codemirror_mode': {'name': 'ipython', 'version': 3},\n",
       "   'file_extension': '.py',\n",
       "   'mimetype': 'text/x-python',\n",
       "   'name': 'python',\n",
       "   'nbconvert_exporter': 'python',\n",
       "   'pygments_lexer': 'ipython3',\n",
       "   'version': '3.6.5'},\n",
       "  'nteract': {'version': 'nteract-on-jupyter@1.9.9'},\n",
       "  'papermill': {'duration': 4.435928,\n",
       "   'end_time': '2018-10-23T21:13:42.787336',\n",
       "   'environment_variables': {},\n",
       "   'exception': False,\n",
       "   'output_path': 'D:\\\\gitClones\\\\nteract_models\\\\optimize\\\\projects\\\\the_dalles/validation.ipynb',\n",
       "   'parameters': {'error_directory': 'D:\\\\gitClones\\\\nteract_models\\\\optimize\\\\projects\\\\the_dalles/error'},\n",
       "   'start_time': '2018-10-23T21:13:38.351408',\n",
       "   'version': '0.15.1'},\n",
       "  'toc': {'base_numbering': 1,\n",
       "   'nav_menu': {},\n",
       "   'number_sections': False,\n",
       "   'sideBar': False,\n",
       "   'skip_h1_title': False,\n",
       "   'title_cell': 'Table of Contents',\n",
       "   'title_sidebar': 'Contents',\n",
       "   'toc_cell': False,\n",
       "   'toc_position': {},\n",
       "   'toc_section_display': False,\n",
       "   'toc_window_display': False}},\n",
       " 'nbformat': 4,\n",
       " 'nbformat_minor': 2}"
      ]
     },
     "execution_count": 6,
     "metadata": {},
     "output_type": "execute_result"
    }
   ],
   "source": [
    "#parameters\n",
    "error_directory = data_dir + '/error'\n",
    "validation = data_dir + '/validation.ipynb'\n",
    "pm.execute_notebook(\n",
    "   'validation.ipynb',\n",
    "   validation,\n",
    "   parameters = dict(error_directory = error_directory)\n",
    "   )"
   ]
  },
  {
   "cell_type": "code",
   "execution_count": null,
   "metadata": {},
   "outputs": [],
   "source": []
  }
 ],
 "metadata": {
  "kernelspec": {
   "display_name": "Python 3",
   "language": "python",
   "name": "python3"
  },
  "language_info": {
   "codemirror_mode": {
    "name": "ipython",
    "version": 3
   },
   "file_extension": ".py",
   "mimetype": "text/x-python",
   "name": "python",
   "nbconvert_exporter": "python",
   "pygments_lexer": "ipython3",
   "version": "3.6.5"
  },
  "nteract": {
   "version": "nteract-on-jupyter@1.9.9"
  },
  "toc": {
   "base_numbering": 1,
   "nav_menu": {},
   "number_sections": false,
   "sideBar": false,
   "skip_h1_title": false,
   "title_cell": "Table of Contents",
   "title_sidebar": "Contents",
   "toc_cell": false,
   "toc_position": {},
   "toc_section_display": false,
   "toc_window_display": false
  }
 },
 "nbformat": 4,
 "nbformat_minor": 2
}
