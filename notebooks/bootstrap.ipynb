{
 "cells": [
  {
   "cell_type": "code",
   "execution_count": null,
   "metadata": {},
   "outputs": [],
   "source": [
    "import numpy as np\n",
    "import papermill as pm\n",
    "import pandas as pd"
   ]
  },
  {
   "cell_type": "code",
   "execution_count": null,
   "metadata": {
    "collapsed": false,
    "inputHidden": false,
    "outputHidden": false,
    "tags": [
     "parameters"
    ]
   },
   "outputs": [],
   "source": [
    "data_files = []\n",
    "bootstraps = 1\n",
    "maxiter = 1\n",
    "data_dir = ''\n",
    "b = []"
   ]
  },
  {
   "cell_type": "code",
   "execution_count": null,
   "metadata": {
    "collapsed": false,
    "inputHidden": false,
    "outputHidden": false
   },
   "outputs": [],
   "source": [
    "len_files = len(data_files)\n",
    "\n",
    "for file in data_files:\n",
    "    nb = pm.read_notebook(file)\n",
    "    \n",
    "    df = nb.dataframe\n",
    "    data = df[df['name'] == 'data']['value'].values[0]\n",
    "    train = data['train']\n",
    "    test = data['test']\n",
    "    \n",
    "    for i in range(int(bootstraps/len_files)):\n",
    "        #create an output notebook name to store each run's results\n",
    "        output_name = (file.split('\\\\')[-1].split('.')[0]+'_run_'+str(i)).replace('-','_')\n",
    "        output_notebook = data_dir +'/results/{}'.format(output_name+'.ipynb')\n",
    "        \n",
    "        #execute optimization notebook\n",
    "        pm.execute_notebook(\n",
    "           'optimize.ipynb',\n",
    "           output_notebook,\n",
    "           parameters = dict(data = train, sample = True, maxiter = maxiter, x0 = b)\n",
    "        )\n",
    "        \n",
    "        #get coefficients\n",
    "        nb = pm.read_notebook(output_notebook)\n",
    "        nb_df = nb.dataframe\n",
    "        x = nb_df[nb_df['name']=='x']['value'].values[0]\n",
    "        \n",
    "        #calculate error\n",
    "        pm.execute_notebook(\n",
    "           'error.ipynb',\n",
    "           data_dir + '/error/{}'.format(output_name+'_error.ipynb'),\n",
    "           parameters = dict(test_data = test, b = x,)\n",
    "           )\n",
    "        \n",
    "        #get the new x0\n",
    "        weighted_b = ((i+1) * np.array(b) + np.array(x)) /(i+2)\n",
    "        b = list(weighted_b)\n",
    "        \n"
   ]
  }
 ],
 "metadata": {
  "kernelspec": {
   "display_name": "Python 3",
   "language": "python",
   "name": "python3"
  },
  "language_info": {
   "codemirror_mode": {
    "name": "ipython",
    "version": 3
   },
   "file_extension": ".py",
   "mimetype": "text/x-python",
   "name": "python",
   "nbconvert_exporter": "python",
   "pygments_lexer": "ipython3",
   "version": "3.6.5"
  },
  "nteract": {
   "version": "nteract-on-jupyter@1.9.9"
  }
 },
 "nbformat": 4,
 "nbformat_minor": 2
}
