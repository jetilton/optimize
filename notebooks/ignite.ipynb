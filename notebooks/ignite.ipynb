{
 "cells": [
  {
   "cell_type": "code",
   "execution_count": 4,
   "metadata": {},
   "outputs": [],
   "source": [
    "parameters = {\n",
    "                'config_file' : '../config.yml',\n",
    "                'project' : 'the_dalles',\n",
    "                'lookback' : 40000,\n",
    "                'DATA_DIR' : '../projects/{}',\n",
    "                'maxiter' : 75,\n",
    "                'bootstraps' : 1000\n",
    "            }"
   ]
  },
  {
   "cell_type": "code",
   "execution_count": 6,
   "metadata": {
    "collapsed": false,
    "inputHidden": false,
    "outputHidden": false
   },
   "outputs": [],
   "source": [
    "import papermill as pm\n",
    "project= parameters['project']\n",
    "\n\n",
    "wd = '../projects/{}'.format(project)\n",
    "import os\n",
    "os.mkdir(wd) \n",
    "\n"
   ]
  },
  {
   "cell_type": "code",
   "execution_count": 9,
   "metadata": {
    "collapsed": false,
    "inputHidden": false,
    "outputHidden": false
   },
   "outputs": [
    {
     "name": "stderr",
     "output_type": "stream",
     "text": [
      "Input Notebook:  driver.ipynb\n",
      "Output Notebook: ../projects/the_dalles/the_dalles_driver.ipynb\n",
      " 88%|████████████████████████████████████████████████████████████████████████▏         | 22/25 [17:29<01:18, 26.19s/it]"
     ]
    }
   ],
   "source": [
    "driver_output = wd+'/{}_driver.ipynb'.format(project)\n",
    "pm.execute_notebook(\n",
    "   'driver.ipynb',\n",
    "   driver_output,\n",
    "   parameters = parameters\n",
    ")\n"
   ]
  }
 ],
 "metadata": {
  "kernelspec": {
   "display_name": "Python 3",
   "language": "python",
   "name": "python3"
  },
  "language_info": {
   "codemirror_mode": {
    "name": "ipython",
    "version": 3
   },
   "file_extension": ".py",
   "mimetype": "text/x-python",
   "name": "python",
   "nbconvert_exporter": "python",
   "pygments_lexer": "ipython3",
   "version": "3.6.5"
  },
  "nteract": {
   "version": "nteract-on-jupyter@1.9.9"
  }
 },
 "nbformat": 4,
 "nbformat_minor": 2
}
