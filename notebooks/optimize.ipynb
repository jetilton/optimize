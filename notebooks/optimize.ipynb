{
 "cells": [
  {
   "cell_type": "code",
   "execution_count": null,
   "metadata": {},
   "outputs": [],
   "source": [
    "import os\n",
    "import sys\n",
    "module_path = os.path.abspath(os.path.join(r'D:\\gitClones\\nteract_models\\optimize\\scripts'))\n",
    "if module_path not in sys.path:\n",
    "    sys.path.append(module_path)"
   ]
  },
  {
   "cell_type": "code",
   "execution_count": null,
   "metadata": {},
   "outputs": [],
   "source": [
    "from scipy.optimize import minimize\n",
    "from scripts.util import q_ge, spillway_powerhouse_flows, tailwater, powerhouse_entrainment\n",
    "import pandas as pd"
   ]
  },
  {
   "cell_type": "code",
   "execution_count": null,
   "metadata": {
    "tags": [
     "parameters"
    ]
   },
   "outputs": [],
   "source": [
    "data = {}\n",
    "maxiter = 3\n",
    "x0 = [1,.5,150]\n",
    "min_fb_tdg = float('-inf')"
   ]
  },
  {
   "cell_type": "code",
   "execution_count": null,
   "metadata": {},
   "outputs": [],
   "source": [
    "#put data in dataframe\n",
    "data = pd.DataFrame(data['train'])\n",
    "data['index'] = pd.to_datetime(data['index'])\n",
    "data.set_index('index', inplace = True)\n",
    "#separate only data with spill.  A separate process will be optimized with no spill conditions\n",
    "spill = data[(data['q_s']>0) & (data['tdg_f']> min_fb_tdg)]\n",
    "\n",
    "#create a new dataset if used for a bootstrap process\n",
    "if sample:\n",
    "    spill = spill.sample(frac = 1.0)"
   ]
  },
  {
   "cell_type": "code",
   "execution_count": null,
   "metadata": {},
   "outputs": [],
   "source": [
    "from sklearn.metrics import mean_squared_error\n",
    "from math import sqrt\n",
    "\n",
    "def rmse(y, y_hat):\n",
    "    return sqrt(mean_squared_error(y,y_hat))"
   ]
  },
  {
   "cell_type": "code",
   "execution_count": null,
   "metadata": {},
   "outputs": [],
   "source": [
    "#See scripts/utils.py for explanation of spillway_powerhouse_flows, tailwater, and powerhouse_entrainment or reference\n",
    "\n",
    "#Reference:\n",
    "#Stewart, Kevin M., Adam Witt, and Boualem Hadjerioua. \n",
    "#\"Total dissolved gas prediction and optimization in RIVERWARE.\" \n",
    "#Prepared for US Department of Energy Wind and Water Program by \n",
    "#Oakridge National Laboratory, Oak Ridge, TN (2015).\n",
    "#https://info.ornl.gov/sites/publications/files/Pub59285.pdf\n",
    "\n",
    "\n",
    "#The objective function is what the optimization will try to minimize with x, the b1, b2, and b3 coefficients.\n",
    "def objective(x):\n",
    "    b1,b2,b3 = x\n",
    "    A = spill.apply(lambda r:spillway_powerhouse_flows(r['q_s'],b1,b3,r['q_p']), axis = 1)\n",
    "    B = spill.apply(lambda r:tailwater(r['h_t'],r['temp_water'], r['p_atm']), axis = 1)\n",
    "    C = spill.apply(lambda r:powerhouse_entrainment(r['q_p'],b1,r['q_s'], b3), axis = 1)\n",
    "    tdg_f = spill['tdg_f']\n",
    "    y_hat = 100*A*B*b2+tdg_f*C\n",
    "    y = spill['tdg_tw']\n",
    "    return rmse(y, y_hat)\n",
    "\n",
    "#constraints for optimization model.  See reference for more information\n",
    "\n",
    "def constraint_b2(x):\n",
    "    b1,b2,b3=x\n",
    "    return 0-b2\n",
    "\n",
    "def constraint_q_ge(x):\n",
    "    ##This may be wrong\n",
    "    b1,b2,b3=x\n",
    "    power_flow = spill.apply(lambda x:q_ge(x['q_p'],x['q_s'],b1,b3), axis = 1)\n",
    "    \n",
    "    return 0 - power_flow.sum()\n",
    "\n",
    "constraints = [\n",
    "                {'type':'ineq', 'fun':constraint_b2},\n",
    "                {'type':'ineq', 'fun':constraint_q_ge},\n",
    "              ]\n"
   ]
  },
  {
   "cell_type": "code",
   "execution_count": null,
   "metadata": {
    "inputHidden": false,
    "outputHidden": false
   },
   "outputs": [],
   "source": [
    "#optimization process\n",
    "sol = minimize(objective, x0, method = 'SLSQP', constraints = constraints, options={'disp':True, 'maxiter':maxiter})"
   ]
  },
  {
   "cell_type": "code",
   "execution_count": null,
   "metadata": {},
   "outputs": [],
   "source": [
    "#coefficients b1, b2, b3\n",
    "x=list(sol.x)\n"
   ]
  },
  {
   "cell_type": "code",
   "execution_count": null,
   "metadata": {},
   "outputs": [],
   "source": [
    "\n",
    "import papermill as pm\n",
    "\n",
    "pm.record('x', x)\n",
    "\n"
   ]
  }
 ],
 "metadata": {
  "kernelspec": {
   "display_name": "Python 3",
   "language": "python",
   "name": "python3"
  },
  "language_info": {
   "codemirror_mode": {
    "name": "ipython",
    "version": 3
   },
   "file_extension": ".py",
   "mimetype": "text/x-python",
   "name": "python",
   "nbconvert_exporter": "python",
   "pygments_lexer": "ipython3",
   "version": "3.6.5"
  },
  "nteract": {
   "version": "nteract-on-jupyter@1.9.9"
  },
  "toc": {
   "base_numbering": 1,
   "nav_menu": {},
   "number_sections": false,
   "sideBar": false,
   "skip_h1_title": false,
   "title_cell": "Table of Contents",
   "title_sidebar": "Contents",
   "toc_cell": false,
   "toc_position": {},
   "toc_section_display": false,
   "toc_window_display": false
  }
 },
 "nbformat": 4,
 "nbformat_minor": 2
}
