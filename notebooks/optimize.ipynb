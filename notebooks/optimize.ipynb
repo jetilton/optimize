{
 "cells": [
  {
   "cell_type": "code",
   "execution_count": 43,
   "metadata": {},
   "outputs": [],
   "source": [
    "import os\n",
    "import sys\n",
    "module_path = os.path.abspath(os.path.join(r'D:\\gitClones\\nteract_models\\optimize\\scripts'))\n",
    "if module_path not in sys.path:\n",
    "    sys.path.append(module_path)\n",
    "from scipy.optimize import minimize\n",
    "from scripts.util import q_ge, tailwater_tdg\n",
    "import pandas as pd\n",
    "import papermill as pm"
   ]
  },
  {
   "cell_type": "code",
   "execution_count": 38,
   "metadata": {},
   "outputs": [],
   "source": [
    "#Params\n",
    "train ={}\n",
    "test = {}\n",
    "maxiter = 100\n",
    "x0 = [1,.5,1]\n",
    "min_fb_tdg = '-inf'"
   ]
  },
  {
   "cell_type": "code",
   "execution_count": 18,
   "metadata": {},
   "outputs": [],
   "source": [
    "min_fb_tdg = float(min_fb_tdg)\n",
    "#put data in dataframe\n",
    "train = pd.DataFrame(train)\n",
    "train['index'] = pd.to_datetime(train['index'])\n",
    "train.set_index('index', inplace = True)\n",
    "\n",
    "test = pd.DataFrame(test)\n",
    "test['index'] = pd.to_datetime(test['index'])\n",
    "test.set_index('index', inplace = True)\n",
    "\n",
    "#separate only data with spill.  A separate process will be optimized with no spill conditions\n",
    "spill_train = train[(train['q_s']>0) & (train['tdg_f']> min_fb_tdg)]\n",
    "\n",
    "spill_test = test[(test['q_s']>0) & (test['tdg_f']> min_fb_tdg)]"
   ]
  },
  {
   "cell_type": "code",
   "execution_count": 20,
   "metadata": {},
   "outputs": [],
   "source": [
    "from sklearn.metrics import mean_squared_error\n",
    "from math import sqrt\n",
    "\n",
    "def rmse(y, y_hat):\n",
    "    return sqrt(mean_squared_error(y,y_hat))\n",
    "\n",
    "#See scripts/utils.py for explanation of spillway_powerhouse_flows, tailwater, and powerhouse_entrainment or reference\n",
    "\n",
    "#Reference:\n",
    "#Stewart, Kevin M., Adam Witt, and Boualem Hadjerioua. \n",
    "#\"Total dissolved gas prediction and optimization in RIVERWARE.\" \n",
    "#Prepared for US Department of Energy Wind and Water Program by \n",
    "#Oakridge National Laboratory, Oak Ridge, TN (2015).\n",
    "#https://info.ornl.gov/sites/publications/files/Pub59285.pdf\n",
    "\n",
    "\n",
    "#The objective function is what the optimization will try to minimize with x, the b1, b2, and b3 coefficients.\n",
    "def objective(x):\n",
    "    b1,b2,b3 = x\n",
    "    y_hat = spill_train.apply(lambda r:tailwater_tdg(r['q_s'],r['q_p'],b1,b2,b3, r['h_t'],r['temp_water'],r['p_atm'],r['tdg_f']), axis = 1)\n",
    "    y = spill['tdg_tw']\n",
    "    return rmse(y, y_hat)\n",
    "\n",
    "#constraints and bounds for optimization model.  See reference for more information\n",
    "def constraint_q_ge(x):\n",
    "    b1,b2,b3=x\n",
    "    power_flow = spill_train.apply(lambda x:q_ge(x['q_p'],x['q_s'],b1,b3), axis = 1)\n",
    "    const = power_flow<0\n",
    "    return -const.sum()\n",
    "\n",
    "constraints = [{'type':'ineq', 'fun':constraint_q_ge}]          \n",
    "bounds = [(None,None),(.00001,None),(None,None)]"
   ]
  },
  {
   "cell_type": "code",
   "execution_count": null,
   "metadata": {},
   "outputs": [],
   "source": [
    "#optimization process\n",
    "sol = minimize(objective, x0, method = 'SLSQP', constraints = constraints, bounds = bounds,options={'disp':True, 'maxiter':maxiter})\n",
    "x = sol.x"
   ]
  },
  {
   "cell_type": "code",
   "execution_count": null,
   "metadata": {},
   "outputs": [],
   "source": [
    "#for cross validattion\n",
    "y_hat = spill_test.apply(lambda r:tailwater_tdg(r['q_s'],r['q_p'],b1,b2,b3, r['h_t'],r['temp_water'],r['p_atm'],r['tdg_f']), axis = 1)\n",
    "y = spill_test['tdg_tw']\n",
    "\n",
    "#save to notebook\n",
    "pm.record('x',x)\n",
    "pm.record('y',y)\n",
    "pm.record('y_hat',y_hat)"
   ]
  }
 ],
 "metadata": {
  "hide_input": false,
  "kernelspec": {
   "display_name": "Python 3",
   "language": "python",
   "name": "python3"
  },
  "language_info": {
   "codemirror_mode": {
    "name": "ipython",
    "version": 3
   },
   "file_extension": ".py",
   "mimetype": "text/x-python",
   "name": "python",
   "nbconvert_exporter": "python",
   "pygments_lexer": "ipython3",
   "version": "3.6.6"
  },
  "nteract": {
   "version": "nteract-on-jupyter@1.9.9"
  },
  "toc": {
   "base_numbering": 1,
   "nav_menu": {},
   "number_sections": false,
   "sideBar": false,
   "skip_h1_title": false,
   "title_cell": "Table of Contents",
   "title_sidebar": "Contents",
   "toc_cell": false,
   "toc_position": {},
   "toc_section_display": false,
   "toc_window_display": false
  }
 },
 "nbformat": 4,
 "nbformat_minor": 2
}
