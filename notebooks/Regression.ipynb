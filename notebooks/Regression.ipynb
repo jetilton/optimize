{
 "cells": [
  {
   "cell_type": "code",
   "execution_count": 1,
   "metadata": {},
   "outputs": [],
   "source": [
    "import papermill as pm\n",
    "import pandas as pd\n",
    "import numpy as np\n",
    "from sklearn.linear_model import ElasticNet as en\n",
    "from sklearn.preprocessing import MinMaxScaler"
   ]
  },
  {
   "cell_type": "code",
   "execution_count": 2,
   "metadata": {},
   "outputs": [],
   "source": [
    "notebook = r\"D:\\gitClones\\nteract_models\\optimize\\projects\\the_dalles\\train_test\\the_dalles_2014-12-31_00_00_00.ipynb\""
   ]
  },
  {
   "cell_type": "code",
   "execution_count": 3,
   "metadata": {},
   "outputs": [],
   "source": [
    "nb = pm.read_notebook(notebook)\n",
    "nb_df = nb.dataframe\n",
    "data = nb_df[nb_df['name']=='data']['value'].values[0]"
   ]
  },
  {
   "cell_type": "code",
   "execution_count": 4,
   "metadata": {},
   "outputs": [],
   "source": [
    "train = pd.DataFrame(data['train']).drop('index', axis = 1)\n",
    "test = pd.DataFrame(data['test']).drop('index', axis = 1)\n",
    "\n",
    "train = train[train['tdg_f']>110]\n",
    "test = test[test['tdg_f']>110]"
   ]
  },
  {
   "cell_type": "code",
   "execution_count": 5,
   "metadata": {},
   "outputs": [
    {
     "data": {
      "text/html": [
       "\n",
       "    <div class=\"bk-root\">\n",
       "        <a href=\"https://bokeh.pydata.org\" target=\"_blank\" class=\"bk-logo bk-logo-small bk-logo-notebook\"></a>\n",
       "        <span id=\"34b35e9a-3326-437c-a6d4-aa3a3877468b\">Loading BokehJS ...</span>\n",
       "    </div>"
      ]
     },
     "metadata": {},
     "output_type": "display_data"
    },
    {
     "data": {
      "application/javascript": [
       "\n",
       "(function(root) {\n",
       "  function now() {\n",
       "    return new Date();\n",
       "  }\n",
       "\n",
       "  var force = true;\n",
       "\n",
       "  if (typeof (root._bokeh_onload_callbacks) === \"undefined\" || force === true) {\n",
       "    root._bokeh_onload_callbacks = [];\n",
       "    root._bokeh_is_loading = undefined;\n",
       "  }\n",
       "\n",
       "  var JS_MIME_TYPE = 'application/javascript';\n",
       "  var HTML_MIME_TYPE = 'text/html';\n",
       "  var EXEC_MIME_TYPE = 'application/vnd.bokehjs_exec.v0+json';\n",
       "  var CLASS_NAME = 'output_bokeh rendered_html';\n",
       "\n",
       "  /**\n",
       "   * Render data to the DOM node\n",
       "   */\n",
       "  function render(props, node) {\n",
       "    var script = document.createElement(\"script\");\n",
       "    node.appendChild(script);\n",
       "  }\n",
       "\n",
       "  /**\n",
       "   * Handle when an output is cleared or removed\n",
       "   */\n",
       "  function handleClearOutput(event, handle) {\n",
       "    var cell = handle.cell;\n",
       "\n",
       "    var id = cell.output_area._bokeh_element_id;\n",
       "    var server_id = cell.output_area._bokeh_server_id;\n",
       "    // Clean up Bokeh references\n",
       "    if (id !== undefined) {\n",
       "      Bokeh.index[id].model.document.clear();\n",
       "      delete Bokeh.index[id];\n",
       "    }\n",
       "\n",
       "    if (server_id !== undefined) {\n",
       "      // Clean up Bokeh references\n",
       "      var cmd = \"from bokeh.io.state import curstate; print(curstate().uuid_to_server['\" + server_id + \"'].get_sessions()[0].document.roots[0]._id)\";\n",
       "      cell.notebook.kernel.execute(cmd, {\n",
       "        iopub: {\n",
       "          output: function(msg) {\n",
       "            var element_id = msg.content.text.trim();\n",
       "            Bokeh.index[element_id].model.document.clear();\n",
       "            delete Bokeh.index[element_id];\n",
       "          }\n",
       "        }\n",
       "      });\n",
       "      // Destroy server and session\n",
       "      var cmd = \"import bokeh.io.notebook as ion; ion.destroy_server('\" + server_id + \"')\";\n",
       "      cell.notebook.kernel.execute(cmd);\n",
       "    }\n",
       "  }\n",
       "\n",
       "  /**\n",
       "   * Handle when a new output is added\n",
       "   */\n",
       "  function handleAddOutput(event, handle) {\n",
       "    var output_area = handle.output_area;\n",
       "    var output = handle.output;\n",
       "\n",
       "    // limit handleAddOutput to display_data with EXEC_MIME_TYPE content only\n",
       "    if ((output.output_type != \"display_data\") || (!output.data.hasOwnProperty(EXEC_MIME_TYPE))) {\n",
       "      return\n",
       "    }\n",
       "\n",
       "    var toinsert = output_area.element.find(\".\" + CLASS_NAME.split(' ')[0]);\n",
       "\n",
       "    if (output.metadata[EXEC_MIME_TYPE][\"id\"] !== undefined) {\n",
       "      toinsert[toinsert.length - 1].firstChild.textContent = output.data[JS_MIME_TYPE];\n",
       "      // store reference to embed id on output_area\n",
       "      output_area._bokeh_element_id = output.metadata[EXEC_MIME_TYPE][\"id\"];\n",
       "    }\n",
       "    if (output.metadata[EXEC_MIME_TYPE][\"server_id\"] !== undefined) {\n",
       "      var bk_div = document.createElement(\"div\");\n",
       "      bk_div.innerHTML = output.data[HTML_MIME_TYPE];\n",
       "      var script_attrs = bk_div.children[0].attributes;\n",
       "      for (var i = 0; i < script_attrs.length; i++) {\n",
       "        toinsert[toinsert.length - 1].firstChild.setAttribute(script_attrs[i].name, script_attrs[i].value);\n",
       "      }\n",
       "      // store reference to server id on output_area\n",
       "      output_area._bokeh_server_id = output.metadata[EXEC_MIME_TYPE][\"server_id\"];\n",
       "    }\n",
       "  }\n",
       "\n",
       "  function register_renderer(events, OutputArea) {\n",
       "\n",
       "    function append_mime(data, metadata, element) {\n",
       "      // create a DOM node to render to\n",
       "      var toinsert = this.create_output_subarea(\n",
       "        metadata,\n",
       "        CLASS_NAME,\n",
       "        EXEC_MIME_TYPE\n",
       "      );\n",
       "      this.keyboard_manager.register_events(toinsert);\n",
       "      // Render to node\n",
       "      var props = {data: data, metadata: metadata[EXEC_MIME_TYPE]};\n",
       "      render(props, toinsert[toinsert.length - 1]);\n",
       "      element.append(toinsert);\n",
       "      return toinsert\n",
       "    }\n",
       "\n",
       "    /* Handle when an output is cleared or removed */\n",
       "    events.on('clear_output.CodeCell', handleClearOutput);\n",
       "    events.on('delete.Cell', handleClearOutput);\n",
       "\n",
       "    /* Handle when a new output is added */\n",
       "    events.on('output_added.OutputArea', handleAddOutput);\n",
       "\n",
       "    /**\n",
       "     * Register the mime type and append_mime function with output_area\n",
       "     */\n",
       "    OutputArea.prototype.register_mime_type(EXEC_MIME_TYPE, append_mime, {\n",
       "      /* Is output safe? */\n",
       "      safe: true,\n",
       "      /* Index of renderer in `output_area.display_order` */\n",
       "      index: 0\n",
       "    });\n",
       "  }\n",
       "\n",
       "  // register the mime type if in Jupyter Notebook environment and previously unregistered\n",
       "  if (root.Jupyter !== undefined) {\n",
       "    var events = require('base/js/events');\n",
       "    var OutputArea = require('notebook/js/outputarea').OutputArea;\n",
       "\n",
       "    if (OutputArea.prototype.mime_types().indexOf(EXEC_MIME_TYPE) == -1) {\n",
       "      register_renderer(events, OutputArea);\n",
       "    }\n",
       "  }\n",
       "\n",
       "  \n",
       "  if (typeof (root._bokeh_timeout) === \"undefined\" || force === true) {\n",
       "    root._bokeh_timeout = Date.now() + 5000;\n",
       "    root._bokeh_failed_load = false;\n",
       "  }\n",
       "\n",
       "  var NB_LOAD_WARNING = {'data': {'text/html':\n",
       "     \"<div style='background-color: #fdd'>\\n\"+\n",
       "     \"<p>\\n\"+\n",
       "     \"BokehJS does not appear to have successfully loaded. If loading BokehJS from CDN, this \\n\"+\n",
       "     \"may be due to a slow or bad network connection. Possible fixes:\\n\"+\n",
       "     \"</p>\\n\"+\n",
       "     \"<ul>\\n\"+\n",
       "     \"<li>re-rerun `output_notebook()` to attempt to load from CDN again, or</li>\\n\"+\n",
       "     \"<li>use INLINE resources instead, as so:</li>\\n\"+\n",
       "     \"</ul>\\n\"+\n",
       "     \"<code>\\n\"+\n",
       "     \"from bokeh.resources import INLINE\\n\"+\n",
       "     \"output_notebook(resources=INLINE)\\n\"+\n",
       "     \"</code>\\n\"+\n",
       "     \"</div>\"}};\n",
       "\n",
       "  function display_loaded() {\n",
       "    var el = document.getElementById(\"34b35e9a-3326-437c-a6d4-aa3a3877468b\");\n",
       "    if (el != null) {\n",
       "      el.textContent = \"BokehJS is loading...\";\n",
       "    }\n",
       "    if (root.Bokeh !== undefined) {\n",
       "      if (el != null) {\n",
       "        el.textContent = \"BokehJS \" + root.Bokeh.version + \" successfully loaded.\";\n",
       "      }\n",
       "    } else if (Date.now() < root._bokeh_timeout) {\n",
       "      setTimeout(display_loaded, 100)\n",
       "    }\n",
       "  }\n",
       "\n",
       "\n",
       "  function run_callbacks() {\n",
       "    try {\n",
       "      root._bokeh_onload_callbacks.forEach(function(callback) { callback() });\n",
       "    }\n",
       "    finally {\n",
       "      delete root._bokeh_onload_callbacks\n",
       "    }\n",
       "    console.info(\"Bokeh: all callbacks have finished\");\n",
       "  }\n",
       "\n",
       "  function load_libs(js_urls, callback) {\n",
       "    root._bokeh_onload_callbacks.push(callback);\n",
       "    if (root._bokeh_is_loading > 0) {\n",
       "      console.log(\"Bokeh: BokehJS is being loaded, scheduling callback at\", now());\n",
       "      return null;\n",
       "    }\n",
       "    if (js_urls == null || js_urls.length === 0) {\n",
       "      run_callbacks();\n",
       "      return null;\n",
       "    }\n",
       "    console.log(\"Bokeh: BokehJS not loaded, scheduling load and callback at\", now());\n",
       "    root._bokeh_is_loading = js_urls.length;\n",
       "    for (var i = 0; i < js_urls.length; i++) {\n",
       "      var url = js_urls[i];\n",
       "      var s = document.createElement('script');\n",
       "      s.src = url;\n",
       "      s.async = false;\n",
       "      s.onreadystatechange = s.onload = function() {\n",
       "        root._bokeh_is_loading--;\n",
       "        if (root._bokeh_is_loading === 0) {\n",
       "          console.log(\"Bokeh: all BokehJS libraries loaded\");\n",
       "          run_callbacks()\n",
       "        }\n",
       "      };\n",
       "      s.onerror = function() {\n",
       "        console.warn(\"failed to load library \" + url);\n",
       "      };\n",
       "      console.log(\"Bokeh: injecting script tag for BokehJS library: \", url);\n",
       "      document.getElementsByTagName(\"head\")[0].appendChild(s);\n",
       "    }\n",
       "  };var element = document.getElementById(\"34b35e9a-3326-437c-a6d4-aa3a3877468b\");\n",
       "  if (element == null) {\n",
       "    console.log(\"Bokeh: ERROR: autoload.js configured with elementid '34b35e9a-3326-437c-a6d4-aa3a3877468b' but no matching script tag was found. \")\n",
       "    return false;\n",
       "  }\n",
       "\n",
       "  var js_urls = [\"https://cdn.pydata.org/bokeh/release/bokeh-0.12.16.min.js\", \"https://cdn.pydata.org/bokeh/release/bokeh-widgets-0.12.16.min.js\", \"https://cdn.pydata.org/bokeh/release/bokeh-tables-0.12.16.min.js\", \"https://cdn.pydata.org/bokeh/release/bokeh-gl-0.12.16.min.js\"];\n",
       "\n",
       "  var inline_js = [\n",
       "    function(Bokeh) {\n",
       "      Bokeh.set_log_level(\"info\");\n",
       "    },\n",
       "    \n",
       "    function(Bokeh) {\n",
       "      \n",
       "    },\n",
       "    function(Bokeh) {\n",
       "      console.log(\"Bokeh: injecting CSS: https://cdn.pydata.org/bokeh/release/bokeh-0.12.16.min.css\");\n",
       "      Bokeh.embed.inject_css(\"https://cdn.pydata.org/bokeh/release/bokeh-0.12.16.min.css\");\n",
       "      console.log(\"Bokeh: injecting CSS: https://cdn.pydata.org/bokeh/release/bokeh-widgets-0.12.16.min.css\");\n",
       "      Bokeh.embed.inject_css(\"https://cdn.pydata.org/bokeh/release/bokeh-widgets-0.12.16.min.css\");\n",
       "      console.log(\"Bokeh: injecting CSS: https://cdn.pydata.org/bokeh/release/bokeh-tables-0.12.16.min.css\");\n",
       "      Bokeh.embed.inject_css(\"https://cdn.pydata.org/bokeh/release/bokeh-tables-0.12.16.min.css\");\n",
       "    }\n",
       "  ];\n",
       "\n",
       "  function run_inline_js() {\n",
       "    \n",
       "    if ((root.Bokeh !== undefined) || (force === true)) {\n",
       "      for (var i = 0; i < inline_js.length; i++) {\n",
       "        inline_js[i].call(root, root.Bokeh);\n",
       "      }if (force === true) {\n",
       "        display_loaded();\n",
       "      }} else if (Date.now() < root._bokeh_timeout) {\n",
       "      setTimeout(run_inline_js, 100);\n",
       "    } else if (!root._bokeh_failed_load) {\n",
       "      console.log(\"Bokeh: BokehJS failed to load within specified timeout.\");\n",
       "      root._bokeh_failed_load = true;\n",
       "    } else if (force !== true) {\n",
       "      var cell = $(document.getElementById(\"34b35e9a-3326-437c-a6d4-aa3a3877468b\")).parents('.cell').data().cell;\n",
       "      cell.output_area.append_execute_result(NB_LOAD_WARNING)\n",
       "    }\n",
       "\n",
       "  }\n",
       "\n",
       "  if (root._bokeh_is_loading === 0) {\n",
       "    console.log(\"Bokeh: BokehJS loaded, going straight to plotting\");\n",
       "    run_inline_js();\n",
       "  } else {\n",
       "    load_libs(js_urls, function() {\n",
       "      console.log(\"Bokeh: BokehJS plotting callback run at\", now());\n",
       "      run_inline_js();\n",
       "    });\n",
       "  }\n",
       "}(window));"
      ],
      "application/vnd.bokehjs_load.v0+json": "\n(function(root) {\n  function now() {\n    return new Date();\n  }\n\n  var force = true;\n\n  if (typeof (root._bokeh_onload_callbacks) === \"undefined\" || force === true) {\n    root._bokeh_onload_callbacks = [];\n    root._bokeh_is_loading = undefined;\n  }\n\n  \n\n  \n  if (typeof (root._bokeh_timeout) === \"undefined\" || force === true) {\n    root._bokeh_timeout = Date.now() + 5000;\n    root._bokeh_failed_load = false;\n  }\n\n  var NB_LOAD_WARNING = {'data': {'text/html':\n     \"<div style='background-color: #fdd'>\\n\"+\n     \"<p>\\n\"+\n     \"BokehJS does not appear to have successfully loaded. If loading BokehJS from CDN, this \\n\"+\n     \"may be due to a slow or bad network connection. Possible fixes:\\n\"+\n     \"</p>\\n\"+\n     \"<ul>\\n\"+\n     \"<li>re-rerun `output_notebook()` to attempt to load from CDN again, or</li>\\n\"+\n     \"<li>use INLINE resources instead, as so:</li>\\n\"+\n     \"</ul>\\n\"+\n     \"<code>\\n\"+\n     \"from bokeh.resources import INLINE\\n\"+\n     \"output_notebook(resources=INLINE)\\n\"+\n     \"</code>\\n\"+\n     \"</div>\"}};\n\n  function display_loaded() {\n    var el = document.getElementById(\"34b35e9a-3326-437c-a6d4-aa3a3877468b\");\n    if (el != null) {\n      el.textContent = \"BokehJS is loading...\";\n    }\n    if (root.Bokeh !== undefined) {\n      if (el != null) {\n        el.textContent = \"BokehJS \" + root.Bokeh.version + \" successfully loaded.\";\n      }\n    } else if (Date.now() < root._bokeh_timeout) {\n      setTimeout(display_loaded, 100)\n    }\n  }\n\n\n  function run_callbacks() {\n    try {\n      root._bokeh_onload_callbacks.forEach(function(callback) { callback() });\n    }\n    finally {\n      delete root._bokeh_onload_callbacks\n    }\n    console.info(\"Bokeh: all callbacks have finished\");\n  }\n\n  function load_libs(js_urls, callback) {\n    root._bokeh_onload_callbacks.push(callback);\n    if (root._bokeh_is_loading > 0) {\n      console.log(\"Bokeh: BokehJS is being loaded, scheduling callback at\", now());\n      return null;\n    }\n    if (js_urls == null || js_urls.length === 0) {\n      run_callbacks();\n      return null;\n    }\n    console.log(\"Bokeh: BokehJS not loaded, scheduling load and callback at\", now());\n    root._bokeh_is_loading = js_urls.length;\n    for (var i = 0; i < js_urls.length; i++) {\n      var url = js_urls[i];\n      var s = document.createElement('script');\n      s.src = url;\n      s.async = false;\n      s.onreadystatechange = s.onload = function() {\n        root._bokeh_is_loading--;\n        if (root._bokeh_is_loading === 0) {\n          console.log(\"Bokeh: all BokehJS libraries loaded\");\n          run_callbacks()\n        }\n      };\n      s.onerror = function() {\n        console.warn(\"failed to load library \" + url);\n      };\n      console.log(\"Bokeh: injecting script tag for BokehJS library: \", url);\n      document.getElementsByTagName(\"head\")[0].appendChild(s);\n    }\n  };var element = document.getElementById(\"34b35e9a-3326-437c-a6d4-aa3a3877468b\");\n  if (element == null) {\n    console.log(\"Bokeh: ERROR: autoload.js configured with elementid '34b35e9a-3326-437c-a6d4-aa3a3877468b' but no matching script tag was found. \")\n    return false;\n  }\n\n  var js_urls = [\"https://cdn.pydata.org/bokeh/release/bokeh-0.12.16.min.js\", \"https://cdn.pydata.org/bokeh/release/bokeh-widgets-0.12.16.min.js\", \"https://cdn.pydata.org/bokeh/release/bokeh-tables-0.12.16.min.js\", \"https://cdn.pydata.org/bokeh/release/bokeh-gl-0.12.16.min.js\"];\n\n  var inline_js = [\n    function(Bokeh) {\n      Bokeh.set_log_level(\"info\");\n    },\n    \n    function(Bokeh) {\n      \n    },\n    function(Bokeh) {\n      console.log(\"Bokeh: injecting CSS: https://cdn.pydata.org/bokeh/release/bokeh-0.12.16.min.css\");\n      Bokeh.embed.inject_css(\"https://cdn.pydata.org/bokeh/release/bokeh-0.12.16.min.css\");\n      console.log(\"Bokeh: injecting CSS: https://cdn.pydata.org/bokeh/release/bokeh-widgets-0.12.16.min.css\");\n      Bokeh.embed.inject_css(\"https://cdn.pydata.org/bokeh/release/bokeh-widgets-0.12.16.min.css\");\n      console.log(\"Bokeh: injecting CSS: https://cdn.pydata.org/bokeh/release/bokeh-tables-0.12.16.min.css\");\n      Bokeh.embed.inject_css(\"https://cdn.pydata.org/bokeh/release/bokeh-tables-0.12.16.min.css\");\n    }\n  ];\n\n  function run_inline_js() {\n    \n    if ((root.Bokeh !== undefined) || (force === true)) {\n      for (var i = 0; i < inline_js.length; i++) {\n        inline_js[i].call(root, root.Bokeh);\n      }if (force === true) {\n        display_loaded();\n      }} else if (Date.now() < root._bokeh_timeout) {\n      setTimeout(run_inline_js, 100);\n    } else if (!root._bokeh_failed_load) {\n      console.log(\"Bokeh: BokehJS failed to load within specified timeout.\");\n      root._bokeh_failed_load = true;\n    } else if (force !== true) {\n      var cell = $(document.getElementById(\"34b35e9a-3326-437c-a6d4-aa3a3877468b\")).parents('.cell').data().cell;\n      cell.output_area.append_execute_result(NB_LOAD_WARNING)\n    }\n\n  }\n\n  if (root._bokeh_is_loading === 0) {\n    console.log(\"Bokeh: BokehJS loaded, going straight to plotting\");\n    run_inline_js();\n  } else {\n    load_libs(js_urls, function() {\n      console.log(\"Bokeh: BokehJS plotting callback run at\", now());\n      run_inline_js();\n    });\n  }\n}(window));"
     },
     "metadata": {},
     "output_type": "display_data"
    }
   ],
   "source": [
    "from bokeh.plotting import figure, show\n",
    "from bokeh.io import output_notebook, reset_output\n",
    "from bokeh.layouts import gridplot\n",
    "from scripts.theme import theme\n",
    "from bokeh.io import curdoc\n",
    "output_notebook()\n",
    "\n",
    "def qq(y,y_hat):\n",
    "    y_min = y.min()\n",
    "    y_max = y.max()\n",
    "    p = figure()\n",
    "    p.line([y_min,y_max], [y_min,y_max], line_width=2, color = 'black')\n",
    "    p.circle(y, y_hat, size=1, alpha=0.5)\n",
    "    p.xaxis.axis_label = \"y (%)\"\n",
    "    p.yaxis.axis_label = \"y hat (%)\"\n",
    "    return p\n"
   ]
  },
  {
   "cell_type": "code",
   "execution_count": 6,
   "metadata": {},
   "outputs": [
    {
     "data": {
      "text/html": [
       "<div>\n",
       "<style scoped>\n",
       "    .dataframe tbody tr th:only-of-type {\n",
       "        vertical-align: middle;\n",
       "    }\n",
       "\n",
       "    .dataframe tbody tr th {\n",
       "        vertical-align: top;\n",
       "    }\n",
       "\n",
       "    .dataframe thead th {\n",
       "        text-align: right;\n",
       "    }\n",
       "</style>\n",
       "<table border=\"1\" class=\"dataframe\">\n",
       "  <thead>\n",
       "    <tr style=\"text-align: right;\">\n",
       "      <th></th>\n",
       "      <th>h_t</th>\n",
       "      <th>p_atm</th>\n",
       "      <th>q_p</th>\n",
       "      <th>q_s</th>\n",
       "      <th>tdg_f</th>\n",
       "      <th>tdg_tw</th>\n",
       "      <th>temp_water</th>\n",
       "    </tr>\n",
       "  </thead>\n",
       "  <tbody>\n",
       "    <tr>\n",
       "      <th>620</th>\n",
       "      <td>23.832217</td>\n",
       "      <td>100791.432</td>\n",
       "      <td>2.330473</td>\n",
       "      <td>1.611226</td>\n",
       "      <td>110.052910</td>\n",
       "      <td>114.229249</td>\n",
       "      <td>9.672222</td>\n",
       "    </tr>\n",
       "    <tr>\n",
       "      <th>624</th>\n",
       "      <td>24.267906</td>\n",
       "      <td>100658.110</td>\n",
       "      <td>3.485798</td>\n",
       "      <td>2.392770</td>\n",
       "      <td>110.066225</td>\n",
       "      <td>114.511873</td>\n",
       "      <td>9.700000</td>\n",
       "    </tr>\n",
       "    <tr>\n",
       "      <th>625</th>\n",
       "      <td>24.319968</td>\n",
       "      <td>100658.110</td>\n",
       "      <td>3.477303</td>\n",
       "      <td>2.389938</td>\n",
       "      <td>110.198675</td>\n",
       "      <td>114.643799</td>\n",
       "      <td>9.700000</td>\n",
       "    </tr>\n",
       "    <tr>\n",
       "      <th>626</th>\n",
       "      <td>24.325039</td>\n",
       "      <td>100658.110</td>\n",
       "      <td>3.440491</td>\n",
       "      <td>2.387106</td>\n",
       "      <td>110.066225</td>\n",
       "      <td>115.699208</td>\n",
       "      <td>9.711111</td>\n",
       "    </tr>\n",
       "    <tr>\n",
       "      <th>627</th>\n",
       "      <td>24.357938</td>\n",
       "      <td>100524.788</td>\n",
       "      <td>3.477303</td>\n",
       "      <td>2.387106</td>\n",
       "      <td>110.344828</td>\n",
       "      <td>116.116248</td>\n",
       "      <td>9.700000</td>\n",
       "    </tr>\n",
       "  </tbody>\n",
       "</table>\n",
       "</div>"
      ],
      "text/plain": [
       "           h_t       p_atm       q_p       q_s       tdg_f      tdg_tw  \\\n",
       "620  23.832217  100791.432  2.330473  1.611226  110.052910  114.229249   \n",
       "624  24.267906  100658.110  3.485798  2.392770  110.066225  114.511873   \n",
       "625  24.319968  100658.110  3.477303  2.389938  110.198675  114.643799   \n",
       "626  24.325039  100658.110  3.440491  2.387106  110.066225  115.699208   \n",
       "627  24.357938  100524.788  3.477303  2.387106  110.344828  116.116248   \n",
       "\n",
       "     temp_water  \n",
       "620    9.672222  \n",
       "624    9.700000  \n",
       "625    9.700000  \n",
       "626    9.711111  \n",
       "627    9.700000  "
      ]
     },
     "execution_count": 6,
     "metadata": {},
     "output_type": "execute_result"
    }
   ],
   "source": [
    "# Create interaction term with spill and forebay tdg\n",
    "train.head()"
   ]
  },
  {
   "cell_type": "code",
   "execution_count": 7,
   "metadata": {},
   "outputs": [],
   "source": [
    "#interactions \n",
    "from itertools import combinations\n",
    "x_columns = [x for x in train.columns if x not in  ['tdg_tw', 'h_t']]\n",
    "doubles = [x for x in combinations(x_columns,2)]\n",
    "triples = [x for x in combinations(x_columns,3)]\n",
    "quads = [x for x in combinations(x_columns,4)]\n",
    "fives = [x for x in combinations(x_columns,5)]\n",
    "all_cols = [x for x in combinations(x_columns,6)]\n",
    "\n",
    "interactions = doubles+triples+quads+fives+all_cols"
   ]
  },
  {
   "cell_type": "code",
   "execution_count": 8,
   "metadata": {},
   "outputs": [],
   "source": [
    "for interaction in interactions:\n",
    "    name = '-'.join(interaction)\n",
    "    train[name] = 1\n",
    "    test[name] = 1\n",
    "    for term in interaction:\n",
    "        train[name] = train[name] * train[term]\n",
    "        test[name] = test[name] * test[term]"
   ]
  },
  {
   "cell_type": "code",
   "execution_count": 9,
   "metadata": {},
   "outputs": [
    {
     "data": {
      "text/plain": [
       "MinMaxScaler(copy=True, feature_range=(0, 1))"
      ]
     },
     "execution_count": 9,
     "metadata": {},
     "output_type": "execute_result"
    }
   ],
   "source": [
    "df_scaler = pd.concat([train, test], ignore_index = True)\n",
    "scaler = MinMaxScaler()\n",
    "scaler.fit(df_scaler)\n",
    "MinMaxScaler(copy=True, feature_range=(0, 1))"
   ]
  },
  {
   "cell_type": "code",
   "execution_count": 10,
   "metadata": {},
   "outputs": [],
   "source": [
    "\n",
    "train_scaled = pd.DataFrame(columns = train.columns, data = scaler.transform(train))\n",
    "\n",
    "test_scaled = pd.DataFrame(columns = test.columns, data = scaler.transform(test))"
   ]
  },
  {
   "cell_type": "code",
   "execution_count": 11,
   "metadata": {},
   "outputs": [],
   "source": [
    "x_columns = [x for x in train.columns if x != 'tdg_tw']\n",
    "x_train = train_scaled[x_columns]\n",
    "\n",
    "y_train = train['tdg_tw']\n",
    "\n",
    "\n",
    "x_test = test_scaled[x_columns]\n",
    "y_test = test['tdg_tw']"
   ]
  },
  {
   "cell_type": "code",
   "execution_count": 12,
   "metadata": {},
   "outputs": [],
   "source": [
    "from sklearn.decomposition import PCA\n",
    "\n",
    "pca = PCA(n_components=2)\n",
    "pca.fit(x_train)\n",
    "x_train = pca.transform(x_train)\n",
    "\n",
    "\n",
    "pca = PCA(n_components=2)\n",
    "pca.fit(x_test)\n",
    "x_test = pca.transform(x_test)"
   ]
  },
  {
   "cell_type": "code",
   "execution_count": 13,
   "metadata": {},
   "outputs": [
    {
     "data": {
      "text/plain": [
       "ElasticNet(alpha=1, copy_X=True, fit_intercept=True, l1_ratio=0.5,\n",
       "      max_iter=1000, normalize=False, positive=False, precompute=False,\n",
       "      random_state=0, selection='cyclic', tol=0.0001, warm_start=False)"
      ]
     },
     "execution_count": 13,
     "metadata": {},
     "output_type": "execute_result"
    }
   ],
   "source": [
    "params = dict(alpha=1, l1_ratio=.5, fit_intercept=True, normalize=False, precompute=False, max_iter=1000, copy_X=True, tol=0.0001, warm_start=False, positive=False, random_state=0, selection='cyclic')\n",
    "model = en(**params)\n",
    "model.fit(x_train, y_train)"
   ]
  },
  {
   "cell_type": "code",
   "execution_count": 14,
   "metadata": {},
   "outputs": [
    {
     "data": {
      "text/plain": [
       "array([1.49083168, 0.        ])"
      ]
     },
     "execution_count": 14,
     "metadata": {},
     "output_type": "execute_result"
    }
   ],
   "source": [
    "model.coef_"
   ]
  },
  {
   "cell_type": "code",
   "execution_count": 15,
   "metadata": {},
   "outputs": [],
   "source": [
    "y_hat = model.predict(x_test)"
   ]
  },
  {
   "cell_type": "code",
   "execution_count": 16,
   "metadata": {},
   "outputs": [
    {
     "data": {
      "text/plain": [
       "1.5139187632439726"
      ]
     },
     "execution_count": 16,
     "metadata": {},
     "output_type": "execute_result"
    }
   ],
   "source": [
    "sum(abs(y_test-y_hat))/len(y_hat)"
   ]
  },
  {
   "cell_type": "code",
   "execution_count": 17,
   "metadata": {},
   "outputs": [
    {
     "data": {
      "text/plain": [
       "2683.745846780684"
      ]
     },
     "execution_count": 17,
     "metadata": {},
     "output_type": "execute_result"
    }
   ],
   "source": [
    "sum(y_test-y_hat)**2/len(y_hat)"
   ]
  },
  {
   "cell_type": "code",
   "execution_count": 18,
   "metadata": {},
   "outputs": [
    {
     "data": {
      "text/html": [
       "\n",
       "<div class=\"bk-root\">\n",
       "    <div class=\"bk-plotdiv\" id=\"c8736660-cf47-4cb2-82dc-7de48da275b3\"></div>\n",
       "</div>"
      ]
     },
     "metadata": {},
     "output_type": "display_data"
    },
    {
     "data": {
      "application/javascript": [
       "(function(root) {\n",
       "  function embed_document(root) {\n",
       "    \n",
       "  var docs_json = {\"d3d30167-9b41-4a08-ab21-3dbb9b5ec479\":{\"roots\":{\"references\":[{\"attributes\":{\"line_width\":2,\"x\":{\"field\":\"x\"},\"y\":{\"field\":\"y\"}},\"id\":\"7adaa2bd-8264-4aa6-8b8b-8dddebc5e761\",\"type\":\"Line\"},{\"attributes\":{\"source\":{\"id\":\"23faac27-9ac3-491e-8c73-a6a4e6646112\",\"type\":\"ColumnDataSource\"}},\"id\":\"8a18f0ee-fffc-4280-9274-406040fea0f3\",\"type\":\"CDSView\"},{\"attributes\":{\"data_source\":{\"id\":\"23faac27-9ac3-491e-8c73-a6a4e6646112\",\"type\":\"ColumnDataSource\"},\"glyph\":{\"id\":\"00ffe01f-0512-4447-83ad-70d13092278f\",\"type\":\"Circle\"},\"hover_glyph\":null,\"muted_glyph\":null,\"nonselection_glyph\":{\"id\":\"771df7d5-68cf-406e-8597-5b9c92611308\",\"type\":\"Circle\"},\"selection_glyph\":null,\"view\":{\"id\":\"8a18f0ee-fffc-4280-9274-406040fea0f3\",\"type\":\"CDSView\"}},\"id\":\"c44871c0-611e-43d0-a946-7e1ee21a76db\",\"type\":\"GlyphRenderer\"},{\"attributes\":{},\"id\":\"e691a7d1-11bc-43cf-84e6-14e7e242167c\",\"type\":\"LinearScale\"},{\"attributes\":{\"below\":[{\"id\":\"a84a21a0-95a1-46e8-9243-43c368996392\",\"type\":\"LinearAxis\"}],\"left\":[{\"id\":\"066c0e66-582d-4b68-aa8c-72d65bf93e90\",\"type\":\"LinearAxis\"}],\"renderers\":[{\"id\":\"a84a21a0-95a1-46e8-9243-43c368996392\",\"type\":\"LinearAxis\"},{\"id\":\"d2e26fae-eaca-4767-abd0-120ea26b1afd\",\"type\":\"Grid\"},{\"id\":\"066c0e66-582d-4b68-aa8c-72d65bf93e90\",\"type\":\"LinearAxis\"},{\"id\":\"84140ba9-0db3-4d13-8001-c433282a710a\",\"type\":\"Grid\"},{\"id\":\"fb070e58-3728-44d5-93c6-ab64e0caaf51\",\"type\":\"BoxAnnotation\"},{\"id\":\"45512606-92ae-4453-a1d3-c07edf65e6ad\",\"type\":\"GlyphRenderer\"},{\"id\":\"c44871c0-611e-43d0-a946-7e1ee21a76db\",\"type\":\"GlyphRenderer\"}],\"title\":{\"id\":\"39057270-711d-4f2a-b9c4-60d801be3244\",\"type\":\"Title\"},\"toolbar\":{\"id\":\"d2ccc3c9-bdff-4e79-9637-4800aa4b3849\",\"type\":\"Toolbar\"},\"x_range\":{\"id\":\"2a70d126-96a9-4612-89f0-ed66b145de40\",\"type\":\"DataRange1d\"},\"x_scale\":{\"id\":\"e691a7d1-11bc-43cf-84e6-14e7e242167c\",\"type\":\"LinearScale\"},\"y_range\":{\"id\":\"d2cabd3b-cec4-481a-8955-75eaefc6c713\",\"type\":\"DataRange1d\"},\"y_scale\":{\"id\":\"c288f640-4580-481f-b632-7c9a9fd1a791\",\"type\":\"LinearScale\"}},\"id\":\"4443807c-55c1-41b0-8a8c-ebed8c5105f5\",\"subtype\":\"Figure\",\"type\":\"Plot\"},{\"attributes\":{\"data_source\":{\"id\":\"d703a11b-15ae-4c6b-864e-e8ab3fb642fb\",\"type\":\"ColumnDataSource\"},\"glyph\":{\"id\":\"7adaa2bd-8264-4aa6-8b8b-8dddebc5e761\",\"type\":\"Line\"},\"hover_glyph\":null,\"muted_glyph\":null,\"nonselection_glyph\":{\"id\":\"610e1cdf-06bd-43e4-9407-59a9d8f14b4a\",\"type\":\"Line\"},\"selection_glyph\":null,\"view\":{\"id\":\"c9226e21-17a3-474f-a995-8aa82f08b5c6\",\"type\":\"CDSView\"}},\"id\":\"45512606-92ae-4453-a1d3-c07edf65e6ad\",\"type\":\"GlyphRenderer\"},{\"attributes\":{\"bottom_units\":\"screen\",\"fill_alpha\":{\"value\":0.5},\"fill_color\":{\"value\":\"lightgrey\"},\"left_units\":\"screen\",\"level\":\"overlay\",\"line_alpha\":{\"value\":1.0},\"line_color\":{\"value\":\"black\"},\"line_dash\":[4,4],\"line_width\":{\"value\":2},\"plot\":null,\"render_mode\":\"css\",\"right_units\":\"screen\",\"top_units\":\"screen\"},\"id\":\"fb070e58-3728-44d5-93c6-ab64e0caaf51\",\"type\":\"BoxAnnotation\"},{\"attributes\":{\"callback\":null,\"data\":{\"x\":[113.888888889,122.751322751],\"y\":[113.888888889,122.751322751]},\"selected\":{\"id\":\"b209a5fc-c79c-4f1e-be0a-b528d5a1367e\",\"type\":\"Selection\"},\"selection_policy\":{\"id\":\"eef3abf9-076a-4f08-9573-5708966d313d\",\"type\":\"UnionRenderers\"}},\"id\":\"d703a11b-15ae-4c6b-864e-e8ab3fb642fb\",\"type\":\"ColumnDataSource\"},{\"attributes\":{\"dimension\":1,\"plot\":{\"id\":\"4443807c-55c1-41b0-8a8c-ebed8c5105f5\",\"subtype\":\"Figure\",\"type\":\"Plot\"},\"ticker\":{\"id\":\"da096f46-ab37-45b6-ad12-9a485a37f0a8\",\"type\":\"BasicTicker\"}},\"id\":\"84140ba9-0db3-4d13-8001-c433282a710a\",\"type\":\"Grid\"},{\"attributes\":{\"fill_alpha\":{\"value\":0.1},\"fill_color\":{\"value\":\"#1f77b4\"},\"line_alpha\":{\"value\":0.1},\"line_color\":{\"value\":\"#1f77b4\"},\"size\":{\"units\":\"screen\",\"value\":1},\"x\":{\"field\":\"x\"},\"y\":{\"field\":\"y\"}},\"id\":\"771df7d5-68cf-406e-8597-5b9c92611308\",\"type\":\"Circle\"},{\"attributes\":{\"line_alpha\":0.1,\"line_color\":\"#1f77b4\",\"line_width\":2,\"x\":{\"field\":\"x\"},\"y\":{\"field\":\"y\"}},\"id\":\"610e1cdf-06bd-43e4-9407-59a9d8f14b4a\",\"type\":\"Line\"},{\"attributes\":{},\"id\":\"adda018a-5269-4ddf-bda2-76b87f27b8b8\",\"type\":\"BasicTicker\"},{\"attributes\":{\"axis_label\":\"y hat (%)\",\"formatter\":{\"id\":\"bdf9ac05-30b0-450a-a407-bf4ab662c7fd\",\"type\":\"BasicTickFormatter\"},\"plot\":{\"id\":\"4443807c-55c1-41b0-8a8c-ebed8c5105f5\",\"subtype\":\"Figure\",\"type\":\"Plot\"},\"ticker\":{\"id\":\"da096f46-ab37-45b6-ad12-9a485a37f0a8\",\"type\":\"BasicTicker\"}},\"id\":\"066c0e66-582d-4b68-aa8c-72d65bf93e90\",\"type\":\"LinearAxis\"},{\"attributes\":{\"source\":{\"id\":\"d703a11b-15ae-4c6b-864e-e8ab3fb642fb\",\"type\":\"ColumnDataSource\"}},\"id\":\"c9226e21-17a3-474f-a995-8aa82f08b5c6\",\"type\":\"CDSView\"},{\"attributes\":{},\"id\":\"14d9a0bc-5219-4b22-8636-0cba14ae117a\",\"type\":\"PanTool\"},{\"attributes\":{},\"id\":\"b0dcdbbf-442c-484a-8cdd-cd1eaecf8b2d\",\"type\":\"WheelZoomTool\"},{\"attributes\":{},\"id\":\"539657cd-8653-49e1-9014-ecdc67be79bd\",\"type\":\"SaveTool\"},{\"attributes\":{},\"id\":\"f50346b8-a65d-47a9-9200-9bebea507a1b\",\"type\":\"ResetTool\"},{\"attributes\":{\"axis_label\":\"y (%)\",\"formatter\":{\"id\":\"993fe91b-6d7b-4fbd-8203-71d454b482ba\",\"type\":\"BasicTickFormatter\"},\"plot\":{\"id\":\"4443807c-55c1-41b0-8a8c-ebed8c5105f5\",\"subtype\":\"Figure\",\"type\":\"Plot\"},\"ticker\":{\"id\":\"adda018a-5269-4ddf-bda2-76b87f27b8b8\",\"type\":\"BasicTicker\"}},\"id\":\"a84a21a0-95a1-46e8-9243-43c368996392\",\"type\":\"LinearAxis\"},{\"attributes\":{\"overlay\":{\"id\":\"fb070e58-3728-44d5-93c6-ab64e0caaf51\",\"type\":\"BoxAnnotation\"}},\"id\":\"56da6160-601b-496d-b91b-a5e14a6f36c5\",\"type\":\"BoxZoomTool\"},{\"attributes\":{},\"id\":\"207d5038-8c7c-45a2-869a-1aa1feb007d6\",\"type\":\"HelpTool\"},{\"attributes\":{},\"id\":\"993fe91b-6d7b-4fbd-8203-71d454b482ba\",\"type\":\"BasicTickFormatter\"},{\"attributes\":{},\"id\":\"bdf9ac05-30b0-450a-a407-bf4ab662c7fd\",\"type\":\"BasicTickFormatter\"},{\"attributes\":{},\"id\":\"eef3abf9-076a-4f08-9573-5708966d313d\",\"type\":\"UnionRenderers\"},{\"attributes\":{\"plot\":null,\"text\":\"\"},\"id\":\"39057270-711d-4f2a-b9c4-60d801be3244\",\"type\":\"Title\"},{\"attributes\":{\"callback\":null,\"data\":{\"x\":{\"__ndarray__\":\"EKybbLLJXEAprkZQ/uJcQKW6UF5D2VxArqLXUF4DXUDvL/IaygtdQGwVvYby+lxAbBW9hvL6XEAJ6IbyGupcQK6i11BeA11ASnWhvIbyXEBkLTaU19BcQBi8lCzaJ11AxXEi8uQPXUD8ELFH/P5cQLmYWkdZGF1Ag3KMeDMiXUAIXBWwVgBdQCHb933f91xAIdv3fd/3XEAI6njyh/ZcQPlZQeDc21xAVzuXnbbUXED5WUHg3NtcQLElg1pO5FxAavHE1L/sXEB0Z4tDFAZdQLybScmi/VxAKa5GUP7iXEAIVmN2Jw1dQFuynBeWFV1AX/BSsmgfXUAYvJQs2iddQBi8lCzaJ11AX/BSsmgfXUDGERA49xZdQMYREDj3Fl1AGLyULNonXUAhWA5acyZdQFJdKK+hHF1AIflzn9YSXUDiqRfhRfhcQKJzFKZj1VxADOvV5vD2XEBxIW7SXQZdQP5OGVO+Dl1ArVT8Uaf8XEAmyc42UvtcQOHEEx6tA11AUJxV//35XEADaY+vDixdQD1irQcXRV1AibNN6r48XUAwzTCStiNdQANpj68OLF1AZJiwic41XUBkmLCJzjVdQImvbKJzLV1AAhMvhNkuXUBwLDc3NzddQAITL4TZLl1AcCw3Nzc3XUAsckid8kddQNqPOliERl1AzrMnuxglXUDOsye7GCVdQOHEEx6tA11A2LMVa8AVXUDYsxVrwBVdQGqaDbhiDV1A/IAFBQUFXUBqmg24Yg1dQJT5JtF7Jl1AcCw3Nzc3XUAJ9HVYwlFdQAn0dVjCUV1AS1EaqZhbXUAKDdaVdWVdQGMucTDwZl1Axp9XJVlvXUBkLTaU13BdQN+nR6bFel1AGQLWY+hpXUB+Uqb+ZWtdQC2oIQqDWl1A2/2cFaBJXUDn/X+cUDddQPcXeQ3lNV1AtopeQ3ktXUCU6kJ5DSVdQIVqWpQ/G11AIflzn9YSXUBrOiZ+ESxdQHNpaV/al11An+rFjXHjXUANZffQPfRdQODjmqKmqF1A4dlYaAs6XUDYbdvtdjtdQAZ8KBioMV1Ad2KXJ34YXUCcBGfXGhBdQBRJEolEIl1AfaWlUqlUXUANZffQPfRdQMVcgu7TWl5AvES4c+j1XUD/vIo7h15dQGs6Jn4RLF1AvYeNqm0KXUBzRtvLMvFcQHNG28sy8VxAQzVdAybHXEDXt8HAm/lcQL2HjaptCl1AOymotQQCXUA7Kai1BAJdQPHn9dbJ6FxAc0bbyzLxXEDXt8HAm/lcQCH5c5/WEl1Az6sMc3o0XUAIyT+JqCNdQDspqLUEAl1AazomfhEsXUC9h42qbQpdQCH5c5/WEl1AUl0or6EcXUCU6kJ5DSVdQCFYDlpzJl1AlKFG++EuXUCUoUb74S5dQNCH1qZLMF1A0IfWpkswXUDQh9amSzBdQF/wUrJoH11A0IfWpkswXUBf8FKyaB9dQNCH1qZLMF1AdiAER7YxXUC5mFpHWRhdQPwQsUf8/lxAg3KMeDMiXUDHHCJzh0xdQJQeXdd1XV1AQjOZO2RuXUBcsnsJ7WVdQK2dP6X+VF1ArZ0/pf5UXUB85tXOamddQCrn4b3wXl1AIOW98F54XUBWbeh643ldQF+lKolmcV1AY5g0wnJPXUBo3WyX6WhdQHNdaBYXTl5AWwRP7MTOXUBf91gl0axdQBbjmSPNkV1AQjOZO2RuXUAnz+Wbh1NdQBi8lCzaJ11A71O4ktvzXEAprkZQ/uJcQGQtNpTX0FxAZC02lNfQXEDfw3YOvb5cQN2LeWfeGV1AX/BSsmgfXUDGERA49xZdQMYREDj3Fl1ADUbOvYUOXUB0Z4tDFAZdQMVxIvLkD11AxXEi8uQPXUC5mFpHWRhdQLmYWkdZGF1A0UrqnHAHXUD8ELFH/P5cQAjqePKH9lxACFwVsFYAXUAUw0CdE+5cQNFK6pxwB11ASwarqqoqXUAyh8jcITNdQEsGq6qqKl1AAtcQegg9XUBLBquqqipdQI7Sk5zNIF1A0UrqnHAHXUB0Z4tDFAZdQAzr1ebw9lxAps7gRXgRXUCmzuBFeBFdQKbO4EV4EV1Aps7gRXgRXUChsELMEDNdQKGwQswQM11AhWpalD8bXUC9h42qbQpdQCH5c5/WEl1AvYeNqm0KXUCU6kJ5DSVdQPcXeQ3lNV1AlOpCeQ0lXUCto/HeLUhdQCFYDlpzJl1AIVgOWnMmXUAYvJQs2iddQEtaPZwqOl1AMofI3CEzXUBU1gSLgkVdQGOYNMJyT11Aj87GOOlyXUBRKLClbGBdQF7YKFgULF1ADNk0R5ojXUC62UA2IBtdQLrZQDYgG11AVcmLQg4DXUBaDsQXhRxdQE3jd9D1Rl1AY5g0wnJPXUBRKLClbGBdQFpg8rPvV11ATeN30PVGXUBWG7reeD5dQLDXHGmONF1AAtcQegg9XUCd8W5GvBldQM/vM+LNCF1AIdv3fd/3XEC5mFpHWRhdQI7Sk5zNIF1AGAjmDpk7XUAyh8jcITNdQDpgh8wdsl1A4vFSianEXUBy5LEB2YBdQFpg8rPvV11AWmDys+9XXUBSet5B15tdQGgvmzNUpF1AsDspCGiuXUD18ZuF58ddQIYWpNzntl1AtqslVxDjXUCs3xdaZ9BdQD4EILFnv11AtqslVxDjXUBTljC5grhdQD4EILFnv11A9fGbhefHXUBSet5B15tdQFuyIFBak11AZDyR+kfGXUDs83ZWO6tdQF/3WCXRrF1AkPJeeC+8XUA08UaaI81dQNjvLrwX3l1AzA65ZdwyXkCEGSoxlZheQEoSBawVsF5AtXyrFbCWXkCF49u2bVteQL1PvYT2Ul5A8E2CIAhCXkC9T72E9lJeQNfOn1J/Sl5AdDcLWCsgXkDCDJWYSkxeQPb92zJuGV5Aeg/FVGIqXkDMDrll3DJeQB4OrXZWO15ApP7nIfQQXkBwDaGH0ENeQOocZtwybl5AgSwRlnuaXkBqd1Sk/pFeQOYBupxji15ALxQ+yOOCXkAvFD7I44JeQGYrZ6O+c15AfILToWRYXkDFlFfN5E9eQMnwaHvlLV5AbcYBpTX5XUBkPJH6R8ZdQFe/FhdOtV1AbcYBpTX5XUBljr+WsgFeQGWOv5ayAV5AbcYBpTX5XUBgSYfBO+hdQGmByc++311A2O8uvBfeXUBVRQzJFpFcQDQXoaCgoFxA5eqX7UKYXEDp+ezj1cBcQJHkRWic6lxANnJcFD23XEATuOLTvRxdQBO44tO9HF1AE7ji070cXUDOsye7GCVdQImvbKJzLV1AqYJyVwYTXUC1+VRVVQldQEsGq6qqEV1AGhOpA/UgXUAafKYG9g5dQAzBdNFFF11A5QZ7x9RAXUDzwaz8hDhdQPudi17kUl1AGs8Zsew5XUAPOBBn5SddQBp8pgb2Dl1A/gVDnJUfXUDmkoQmhCZdQLB50S7RLl1AsHnRLtEuXUCoy5wNnQ1dQIEwaexo7FxAFf4C/QL9XECBMGnsaOxcQIEwaexo7FxA7mLP287bXEAV/gL9Av1cQCg32DumBl1A+1n8C9xrXUC1+VRVVbhdQOtr4aLouV1AVS7+/Xy7XUDQDr1nEr1dQKavo075o11AEAcqX4elXUCnWCbdZYxdQKdYJt1ljF1AkY942uNqXUAfvSNbRHNdQARizVmDYl1AjP3P26R7XUDE6mlpaWldQJYhIdkiWl1ACfR1WMJRXUCWISHZIlpdQA6GHlcBQV1A9CrIVUAwXUD0KshVQDBdQJYhIdkiWl1AliEh2SJaXUD6V6qZwnRdQEHKbrfbbV1ACg3WlXVlXUDGn1clWW9dQKW6UF5DeV1AhmC66KKLXUD5qfKJEZRdQEwKdVaApl1AnrT5SmO3XUAQFcTvb8FdQEwKdVaApl1Akz4z3A6eXUDbcvFhnZVdQIZguuiii11ATAYsK4CcXUCGYLroootdQEwGLCuAnF1A+anyiRGUXUBkLTaU13BdQEGNGspraF1AbV4PBVdyXUBkLTaU13BdQAnohvIail1AZQjXDsy1XUC4ZBCwOr5dQJ60+Upjt11ATAp1VoCmXUBTjRrwEqhdQDpgh8wdsl1AU99pmqapXUCQ8l54L7xdQJDyXngvvF1A7PN2VjurXUBy5LEB2YBdQBbjmSPNkV1AzuXJ3+RvXUCUHl3XdV1dQK2dP6X+VF1AlB5d13VdXUCUHl3XdV1dQJQeXdd1XV1AQjOZO2RuXUBT32mapqldQOh0wzAMw11A6HTDMAzDXUBqP6pFKpddQPAvV0ZwZF1A8C9XRnBkXUDXyPLRyYddQL5JEARBkF1AEDXUn1J/XUDO5cnf5G9dQPfU7Kx2Vl1ATeN30PVGXUBaYPKz71ddQGOYNMJyT11AWmDys+9XXUDThDm2aIxdQNOEObZojF1ARrxCDWl7XUBWbeh643ldQI/Oxjjpcl1AaN1sl+loXUBfpSqJZnFdQE01pmxggl1AUnreQdebXUBk6mJe3YpdQFuyIFBak11AX6UqiWZxXUBfpSqJZnFdQMTjpRJTiV1AZ+KNNEeaXUBNNaZsYIJdQFZt6HrjeV1ATTWmbGCCXUBoL5szVKRdQLA7KQhorl1Ai3K1iuiUXUBfpSqJZnFdQGjdbJfpaF1AVm3oeuN5XUDO5cnf5G9dQCDlvfBeeF1AlB5d13VdXUBcsnsJ7WVdQEIzmTtkbl1A5FaPm+RsXUAnz+Wbh1NdQPwIH/H7W11AP4F18Z5CXUAnz+Wbh1NdQCfP5ZuHU11AIjJbmy5BXUAiMlubLkFdQCIyW5suQV1A2/2cFaBJXUAtqCEKg1pdQH5Spv5la11A0Pwq80h8XUDQ/CrzSHxdQEGUrucrjV1Aaj+qRSqXXUB2GHLwtY5dQKHeOJtBhl1Aod44m0GGXUDkVo+b5GxdQNv9nBWgSV1AIjJbmy5BXUDn/X+cUDddQJShRvvhLl1AavHE1L/sXEC8m0nJov1cQA1Gzr2FDl1AA9AHTzH1XECxJYNaTuRcQPep8IhmsFxAafMoKtW4XECC9dMNIdJcQPlZQeDc21xA+VlB4NzbXECxJYNaTuRcQBTDQJ0T7lxACOp48of2XEAI6njyh/ZcQBTDQJ0T7lxAFMNAnRPuXEAUw0CdE+5cQEtiz/Iq3VxAjtol883DXEBLYs/yKt1cQEtiz/Iq3VxAnDn2fKWxXEBfe/5la9NcQEuPcYjCoFxAnDn2fKWxXEAO0XlxiMJcQKevvOv5ylxA+VlB4NzbXEBQ8X1GiZ9cQPep8IhmsFxA1lENr4/aXEDWUQ2vj9pcQKevvOv5ylxA+VlB4NzbXED5WUHg3NtcQPwQsUf8/lxAtnBRFEURXUDP7zPizQhdQF7YKFgULF1Ah8dLJaYSXUA1yFcULApdQDXIVxQsCl1ANchXFCwKXUA1yFcULApdQOPIYwOyAV1A7sqH0EPoXEBKzJ+uT9dcQJzLk7/J31xAtnBRFEURXUCDcox4MyJdQFTWBIuCRV1AXtgoWBQsXUA1yFcULApdQEDKe+G98FxAQMp74b3wXEBeAc5QkfpcQFCEU22X6VxAXgHOUJH6XECVBobFa/NcQJUGhsVr81xAmtSYXEHsXECa1JhcQexcQFCAvrNRH11A7mrJFcT0XEBi2mcwrg9dQI7cBRA/KV1A2cui789CXUD81uSvxDFdQCtWUd/ZOF1AYP+CmFxBXUAkT+A96j9dQFHWgQkCJV1AVcmLQg4DXUBjRgYmCBRdQDXIVxQsCl1AutlANiAbXUBLBquqqipdQBgI5g6ZO11AgvnL8UEpXUCC+cvxQSldQI7Sk5zNIF1AP4F18Z5CXUCC+cvxQSldQMVxIvLkD11A0UrqnHAHXUDFcSLy5A9dQMYREDj3Fl1ADUbOvYUOXUDGERA49xZdQMYREDj3Fl1AnPd+8WzrXEDvU7iS2/NcQAhWY3YnDV1ACFZjdicNXUBbspwXlhVdQK6i11BeA11AUl0or6EcXUC2il5DeS1dQLaKXkN5LV1AtopeQ3ktXUCuotdQXgNdQL2HjaptCl1Ac0bbyzLxXEAIyT+JqCNdQM+rDHN6NF1ACMk/iagjXUA7Kai1BAJdQFIK8mfjPF1AGe2+UbVNXUC1e9hcTEVdQEsGq6qqKl1A3Yt5Z94ZXUBvEUgkEgldQG8RSCQSCV1AwaY2h7cHXUCcBGfXGhBdQP5OGVO+Dl1A+bxwVH8fXUDErGtCx1VdQEsGq6qqKl1AAAAAAAABXUAAAAAAABpdQLX5VFVVCV1AGhOpA/UgXUAbVzhW/QddQLsCz5JHKV1AW65lz5FKXUAazxmx7DldQEsGq6qqXF1AAAAAAABMXUDErGtCx1VdQJdIyl8fXl1ADIMJDpVfXUBQh8QmOlddQN1FP+qUP11AcCw3Nzc3XUAflPVwKT5dQNqPOliERl1AA2mPrw4sXUADaY+vDixdQANpj68OLF1AAAAAAAAzXUC1+VRVVTtdQEsGq6qqKl1AAAAAAAAaXUAAAAAAABpdQFs2hHSiGF1AWzaEdKIYXUAaE6kD9SBdQBrPGbHsOV1Aur4/QD9CXUC7As+SRyldQEsGq6qqQ11AtflUVVVtXUC1+VRVVVRdQNFB6Lcnd11AF18cqwCBXUBJUutgEZpdQPTbrAFXrF1Apq+jTvmjXUBcY4s14IpdQFxj18OleF1A01phkluJXUDe1mQtiJhdQCooBRAwkF1AKigFEDCQXUCxcsNK4KBdQN7WZC2ImF1AHZOIms9uXUBK9yl9d2ZdQEsGq6qqXF1ASwarqqpDXUC1+VRVVVRdQEsGq6qqQ11AHZOIms9uXUBcY9fDpXhdQBdfHKsAgV1Apq+jTvmjXUCdNNXf561dQKmkXWtAwF1AqaRda0DAXUDbxfwoP8pdQKQIZAfZwV1A76QgoETUXUByAwaVrdxdQG1Ly+VyuV1ANo4yxAyxXUA2jjLEDLFdQG1Ly+VyuV1AbUvL5XK5XUA2jjLEDLFdQODjmqKmqF1A4OOaoqaoXUBB8ofMoLJdQEHyh8ygsl1ANo4yxAyxXUBB8ofMoLJdQO+kIKBE1F1AGriU11DeXUC2il5Dec1dQNFmu5OG111AqCrAubfQXUDvXn4/RshdQOVO/UTkyV1AHO6Lmvu4XUBeZuKanp9dQKHeOJtBhl1AuZDI8Fh1XUDQ/CrzSHxdQDce6HjXc11AichsbbqEXUBUXGQhC1ldQG1eDwVXcl1AMwSBRzSDXUDfp0emxXpdQL9y5TWUV11Av3LlNZRXXUD3F3kN5TVdQBHQDeU1FF1AbBW9hvL6XEDvL/IaygtdQM771LgEHl1AutlANiAbXUBInj/7fi1dQF5T/Oz7NV1AVhu63ng+XUAC1xB6CD1dQF7YKFgULF1AutlANiAbXUAM2TRHmiNdQDXIVxQsCl1A48hjA7IBXUAM2TRHmiNdQF5T/Oz7NV1AVhu63ng+XUBWG7reeD5dQFYbut54Pl1AVNYEi4JFXUAC1xB6CD1dQEsGq6qqKl1ASwarqqoqXUCd8W5GvBldQINyjHgzIl1AGAjmDpk7XUBLWj2cKjpdQEtaPZwqOl1AP4F18Z5CXUAI6njyh/ZcQFc7l5221FxAVzuXnbbUXEAUw0CdE+5cQPlZQeDc21xA+VlB4NzbXED5WUHg3NtcQLElg1pO5FxA5XNjhPRiXUCTPjPcDp5dQND8KvNIfF1A23LxYZ2VXUDQ/CrzSHxdQEGUrucrjV1Adhhy8LWOXUBqP6pFKpddQHYYcvC1jl1AK65IUanGXUDRZruThtddQJ9iZczupF1ASnWhvIaSXUC/cuU1lFddQOZHayivgV1ASnWhvIaSXUDmR2sor4FdQAnohvIail1AEdAN5TW0XUBlCNcOzLVdQGUI1w7MtV1AQQkDNCnZXUCetPlKY7ddQJ60+Upjt11AnrT5SmO3XUBBlK7nK41dQO9efj9GyF1AQQkDNCnZXUCdKU6XYANeQJ9iZczupF1AK65IUanGXUCU6kJ5DcVdQO8v8hrKq11AlOpCeQ3FXUAauJTXUN5dQLaKXkN5zV1AtopeQ3nNXUCU6kJ5DcVdQPew1e1lmV1Akz/v+PyQXUD3sNXtZZldQEp1obyGkl1ACeiG8hqKXUBKdaG8hpJdQGUI1w7MtV1AZQjXDsy1XUA3kzzF1L9dQKgqwLm30F1AnrT5SmO3XUDlc2OE9GJdQH5Spv5la11AQZSu5yuNXUDfp0emxXpdQG1eDwVXcl1AZC02lNdwXUAAAAAAAGBdQEGNGspraF1ApbpQXkN5XUDmR2sor4FdQGwVvYbyml1ApbpQXkN5XUClulBeQ3ldQP+8ijuHXl1ArW8jDyuAXUCLMzqr28tdQFtFr6G8Rl1A9xd5DeU1XUDn/X+cUDddQFRcZCELWV1AdNzfjxFSXUCttwBGzX1dQF5m4pqen11AU40a8BKoXUA6YIfMHbJdQCDhpP6Uul1AIOGk/pS6XUBTjRrwEqhdQBzui5r7uF1A5U79ROTJXUCW/d6ZtetdQMG7E+5AQF5ABDRq7uMmXkAENGru4yZeQPhaokNYL15AEA0ymW8eXkA70/hD+xVeQJ0pTpdgA15AnSlOl2ADXkAESwsd7/pdQFb1jxHSC15A62hmd9LwXUBEsPM09d9dQAAAAAAAAF5AAAAAAAAAXkDVdOyJFuVdQL9y5TWU911ARLDzNPXfXUDraGZ30vBdQLEO2LmvAV5AW0WvobzmXUD3F3kN5dVdQKVjbsEJu11AizM6q9vLXUA55tJ+f+1dQKVjbsEJu11AKMJTtnLDXUClY27BCbtdQEHyh8ygsl1A4OOaoqaoXUCpJgKBQKBdQDaOMsQMsV1ABe83HA6HXUCpJgKBQKBdQODjmqKmqF1APKzQPXSPXUClY27BCbtdQKVjbsEJu11AlOpCeQ3FXUAR0A3lNbRdQBHQDeU1tF1AEdAN5TW0XUCU6kJ5DcVdQLaKXkN5zV1AUl0or6G8XUBsFb2G8ppdQJM/7/j8kF1A97DV7WWZXUBJ/jwawnddQO+kIKBE1F1AizM6q9vLXUClY27BCbtdQKVjbsEJu11AEdAN5TW0XUDdgKHXN6pdQEHyh8ygsl1ApWNuwQm7XUC2il5Dec1dQFJdKK+hvF1AK65IUanGXUDRZruThtddQEx/yaJ98l1AQQkDNCnZXUCi1qZEQeNdQM2cbe/M2l1ASgxYK2DtXUAxjXVd1/VdQIokF+8p9F1AiiQX7yn0XUD61ESumuFdQEEJAzQp2V1ABEsLHe/6XUCyoIYoDOpdQH4KgvIXz11Alwwt1mPoXUDraGZ30vBdQFtFr6G85l1AtopeQ3nNXUCU6kJ5DcVdQPew1e1lmV1ApWNuwQm7XUAowlO2csNdQHIDBpWt3F1AizM6q9vLXUClY27BCbtdQCjCU7Zyw11A76QgoETUXUC8RLhz6PVdQLxEuHPo9V1A1XTsiRblXUC8RLhz6PVdQDnm0n5/7V1AH7aeaFH+XUByAwaVrdxdQIszOqvby11AeIcH2UF2XUBBym63221dQAoN1pV1ZV1Ar0Sg+qd+XUBzaWlf2pddQHNpaV/al11APKzQPXSPXUA2jjLEDLFdQG1Ly+VyuV1AbUvL5XK5XUA65lP/1D9eQAaGalIjD15A76QgoETUXUDvpCCgRNRdQFtFr6G85l1A9xd5DeXVXUBbRa+hvOZdQPcXeQ3l1V1AW0WvobzmXUCXDC3WY+hdQF2ynhhB+V1A0Wa7k4bXXUC/cuU1lPddQHIDBpWt3F1AQfKHzKCyXUBSXSivobxdQP+8ijuHXl1ASf48GsJ3XUBjLnEw8GZdQGMucTDwZl1AazomfhEsXUD/vIo7h15dQMafVyVZb11AWyK84s6hXUCTP+/4/JBdQEHyh8ygsl1A97DV7WWZXUBB8ofMoLJdQIszOqvby11A97DV7WWZXUDdgKHXN6pdQJM/7/j8kF1A97DV7WWZXUClY27BCbtdQKVjbsEJu11AEeEJBJSIXUAowlO2csNdQFsivOLOoV1Akz/v+PyQXUDdgKHXN6pdQKVjbsEJu11A76QgoETUXUD3F3kN5dVdQFtFr6G85l1A62hmd9LwXUCXDC3WY+hdQARLCx3v+l1AfktPRJ78XUCto+wltBdeQK4ADO+F911A9v3bMm4ZXkBp0/drKRteQCgQ0UPoIV5AUv/zEHoIXkDGIs/zPA9eQN+hscHFBl5AotamREHjXUBHrMDuhg1eQIokF+8p9F1AsqCGKAzqXUBBlK7nK41dQND8KvNIfF1ANx7oeNdzXUB+Uqb+ZWtdQMalnMJ5YV1AbV4PBVdyXUBUXGQhC1ldQNZRDa+P2lxAnPd+8WzrXEC8m0nJov1cQD+BdfGeQl1A5FaPm+RsXUClyi02uJhdQG3GAaU1+V1AYe3j+RBfXkBZOcPzY3peQFk5w/Njel5Ai1XUdzZaXkCLVdR3NlpeQBKVNuo7a15AmtSYXEF8XkBZOcPzY3peQFXdsUVjnF5Ab2pe3QpwXkBmMhzPh3heQGYyHM+HeF5AfOfYwASBXkBqd1Sk/pFeQDIaNiAbkF5A1hgeQg+hXkB8EMpHJ59eQOd6cLHBhV5AW7goiqIoXkDNlNuYzDdeQDvT+EP7FV5AU4WImRIFXkBeZuKanp9dQKHeOJtBhl1Aod44m0GGXUC5kMjwWHVdQLmQyPBYdV1AvkkQBEGQXUDkVo+b5GxdQLmQyPBYdV1A/Agf8ftbXUCh3jibQYZdQInIbG26hF1AdNzfjxFSXUBUXGQhC1ldQAAAK4CcUF1AVFxkIQtZXUDn/X+cUDddQK2j8d4tSF1AlOpCeQ0lXUC2il5DeS1dQJTqQnkNJV1AUl0or6EcXUBrOiZ+ESxdQBq4lNdQPl1AGriU11A+XUCc0slrKE9dQBkC1mPoaV1A0Pwq80h8XUBMCnVWgKZdQOXot9Dxrl1A5U79ROTJXUDNnG3vzNpdQEEJAzQp2V1A715+P0bIXUDvXn4/RshdQDeTPMXUv11AK65IUanGXUArrkhRqcZdQGUI1w7MtV1AuGQQsDq+XUCfYmXM7qRdQJ9iZczupF1ASnWhvIaSXUBkLTaU13BdQBntvlG1TV1AfF6lRh5WXUBrOiZ+ESxdQAjJP4moI11AtXvYXExFXUC1e9hcTEVdQL9y5TWUV11Av3LlNZRXXUCGYLroootdQJ9iZczupF1AsqCGKAzqXUBThYiZEgVeQIokF+8p9F1AzZxt78zaXUDZdTWaWNJdQPrURK6a4V1A5ei30PGuXUA3kzzF1L9dQJ60+Upjt11AhmC66KKLXUASrJ1tXa1dQBKsnW1drV1A+anyiRGUXUDmR2sor4FdQAAAAAAAYF1A5kdrKK+BXUCtbyMPK4BdQEGNGspraF1ACeiG8hqKXUClulBeQ3ldQGQtNpTXcF1AGQLWY+hpXUAtqCEKg1pdQJM+M9wOnl1Akz4z3A6eXUAQFcTvb8FdQBAVxO9vwV1A2XU1mljSXUDvXn4/RshdQEEJAzQp2V1AqCrAubfQXUASrJ1tXa1dQGUI1w7MtV1A0Wa7k4bXXUDRZruThtddQJTqQnkNxV1ArqLXUF6jXUAJ6IbyGopdQOZHayivgV1ASf48GsJ3XUAZ7b5RtU1dQK1vIw8rgF1A97DV7WWZXUBSXSivobxdQFJdKK+hvF1A7y/yGsqrXUC4ZBCwOr5dQLhkELA6vl1AK65IUanGXUC4ZBCwOr5dQJ9iZczupF1ATAYsK4CcXUDfp0emxXpdQBKsnW1drV1A7y/yGsqrXUAJ6IbyGopdQJM/7/j8kF1A97DV7WWZXUCTP+/4/JBdQN2Aodc3ql1A3YCh1zeqXUCpJgKBQKBdQK9EoPqnfl1Ac2lpX9qXXUAF7zccDoddQHiHB9lBdl1AeIcH2UF2XUClY27BCbtdQN2Aodc3ql1A5kdrKK+BXUClulBeQ3ldQEwGLCuAnF1A715+P0bIXUA3kzzF1L9dQKgqwLm30F1AN5M8xdS/XUBMCnVWgKZdQO9efj9GyF1AEqydbV2tXUCfYmXM7qRdQEwGLCuAnF1A+anyiRGUXUD5qfKJEZRdQDMEgUc0g11AMwSBRzSDXUBtXg8FV3JdQEGNGspraF1AQY0aymtoXUBkLTaU13BdQEGNGspraF1AZC02lNdwXUClulBeQ3ldQPmp8okRlF1An2JlzO6kXUDbcvFhnZVdQJM+M9wOnl1Aaj+qRSqXXUBTjRrwEqhdQGo/qkUql11Aod44m0GGXUCh3jibQYZdQORWj5vkbF1AichsbbqEXUB+Uqb+ZWtdQND8KvNIfF1AichsbbqEXUDlc2OE9GJdQAAAK4CcUF1ALaghCoNaXUDn/X+cUDddQK2j8d4tSF1AGQLWY+hpXUAZAtZj6GldQIZguuiii11AGQLWY+hpXUBtXg8FV3JdQND8KvNIfF1AQZSu5yuNXUDlc2OE9GJdQNv9nBWgSV1ALaghCoNaXUDb/ZwVoEldQNv9nBWgSV1AflKm/mVrXUB03N+PEVJdQHTc348RUl1AW7KcF5YVXUDvU7iS2/NcQFuynBeWFV1AraPx3i1IXUAAACuAnFBdQBkC1mPoaV1AAAArgJxQXUDfp0emxXpdQOf9f5xQN11AnNLJayhPXUDfp0emxXpdQG1eDwVXcl1A+anyiRGUXUDbcvFhnZVdQFONGvASqF1AJ8dTRYewXUDP9eBig8tdQAoCJM2R5l1AbcYBpTX5XUBXEUWzuPBdQBZf/lRmA15AhDr2/WUUXkBfcYKA5vpdQF9xgoDm+l1AX3GCgOb6XUDxlYrX5uldQKiDBqxm8l1AGrsPA2fhXUBjzZMu59hdQBq7DwNn4V1ArN8XWmfQXUD18ZuF58ddQPXxm4Xnx11AV78WF061XUBf91gl0axdQF/3WCXRrF1AUnreQdebXUBbsiBQWpNdQF/3WCXRrF1AQmAxX2idXUBbsiBQWpNdQE01pmxggl1ARrxCDWl7XUBRKLClbGBdQFpg8rPvV11AAtcQegg9XUCd8W5GvBldQJ3xbka8GV1Ag3KMeDMiXUAIXBWwVgBdQAPQB08x9VxAflKm/mVrXUBBlK7nK41dQGo/qkUql11Adhhy8LWOXUA6YIfMHbJdQL5JEARBkF1ApcotNriYXUBsXkxoL6FdQGxeTGgvoV1AU99pmqapXUBTjRrwEqhdQGo/qkUql11ArbcARs19XUB2GHLwtY5dQLmQyPBYdV1A5FaPm+RsXUDwL1dGcGRdQHTc348RUl1ALaghCoNaXUB+Uqb+ZWtdQNty8WGdlV1AichsbbqEXUDkVo+b5GxdQLmQyPBYdV1A18jy0cmHXUAQNdSfUn9dQNfI8tHJh11AKbS2bdt2XUBCM5k7ZG5dQEIzmTtkbl1AJ8/lm4dTXUA/gXXxnkJdQBi8lCzaJ11AamYZIb04XUDO+9S4BB5dQM771LgEHl1A71O4ktvzXEBsFb2G8vpcQGwVvYby+lxASnWhvIbyXECuotdQXgNdQGwVvYby+lxA7y/yGsoLXUB0Z4tDFAZdQF/wUrJoH11AxXEi8uQPXUD/iANBEERdQBgI5g6ZO11AsNccaY40XUCl1fib/E1dQF+lKolmcV1AIPPOj+lhXUBGvEINaXtdQNOEObZojF1Aj87GOOlyXUAg886P6WFdQByXveHog11A04Q5tmiMXUDThDm2aIxdQByXveHog11ARrxCDWl7XUCPzsY46XJdQByXveHog11AIPPOj+lhXUBpBVO7aVldQLIX1+bpUF1AbWFkaWo3XUBtYWRpajddQP+FbMBqJl1AshfX5ulQXUBo3WyX6WhdQFpg8rPvV11Aj87GOOlyXUBfpSqJZnFdQE01pmxggl1ARrxCDWl7XUBGvEINaXtdQI/Oxjjpcl1AaN1sl+loXUBjmDTCck9dQE3jd9D1Rl1ATeN30PVGXUBR1oEJAiVdQFYbut54Pl1AY5g0wnJPXUBjmDTCck9dQAzZNEeaI11ATJFJNIsLXUBeAc5QkfpcQF4BzlCR+lxAY5g0wnJPXUBRKLClbGBdQFEosKVsYF1AUSiwpWxgXUBfpSqJZnFdQFuyIFBak11AX6UqiWZxXUCLcrWK6JRdQByXveHog11AX6UqiWZxXUBWbeh643ldQE3jd9D1Rl1AAtcQegg9XUAC1xB6CD1dQF7YKFgULF1ASwarqqoqXUBLBquqqipdQHYgBEe2MV1A/Agf8ftbXUAnz+Wbh1NdQD+BdfGeQl1A2/2cFaBJXUBqZhkhvThdQBi8lCzaJ11AamYZIb04XUAdbbw+aiNeQE9xEgYCVl5An2JlzO6kXUB+Uqb+ZWtdQH5Spv5la11ALaghCoNaXUDb/ZwVoEldQHTc348RUl1A2/2cFaBJXUCoKsC5t9BdQEx/yaJ98l1ATH/Jon3yXUA3Huh413NdQCIyW5suQV1AlKFG++EuXUDO+9S4BB5dQCFYDlpzJl1ARugMMUNMXUBBym63221dQJM/7/j8kF1ArqLXUF6jXUAR0A3lNbRdQCuuSFGpxl1AK65IUanGXUC4ZBCwOr5dQKgqwLm30F1AK65IUanGXUBlCNcOzLVdQLhkELA6vl1AfgqC8hfPXUArrkhRqcZdQPmp8okRlF1ATAYsK4CcXUD5qfKJEZRdQN+nR6bFel1A36dHpsV6XUDfp0emxXpdQDMEgUc0g11Akz4z3A6eXUBMCnVWgKZdQBAVxO9vwV1A6HTDMAzDXUCG8DqrndVdQGmByc++311AaYHJz77fXUD18ZuF58ddQLarJVcQ411AYxX1nY3aXUDb1ZIriMldQNvVkiuIyV1AiD9icgXBXUDb1ZIriMldQFOWMLmCuF1A+U2tM+ilXUCwOykIaK5dQEJgMV9onV1ATTWmbGCCXUDThDm2aIxdQNfgSmRpal1AY5g0wnJPXUBWbeh643ldQCDlvfBeeF1AmvSCRcGiXUDE46USU4ldQHLksQHZgF1AmvSCRcGiXUBeU/zs+zVdQFYbut54Pl1AsNccaY40XUBU1gSLgkVdQF7YKFgULF1Axxwic4dMXUDHHCJzh0xdQK2dP6X+VF1AzuXJ3+RvXUDE46USU4ldQEIzmTtkbl1AlB5d13VdXUAptLZt23ZdQORWj5vkbF1ALaghCoNaXUB+Uqb+ZWtdQGpmGSG9OF1AX/BSsmgfXUBbspwXlhVdQLX5KdW4BF1AnPd+8WzrXEAprkZQ/uJcQGQtNpTX0FxApbpQXkPZXECuotdQXgNdQBq4lNdQPl1AQY0aymtoXUBkLTaU13BdQKW6UF5DeV1A+anyiRGUXUBMBiwrgJxdQIZguuiii11A+anyiRGUXUBtXg8FV3JdQEGUrucrjV1ANx7oeNdzXUB03N+PEVJdQDce6HjXc11AraPx3i1IXUCto/HeLUhdQJzSyWsoT11Av3LlNZRXXUBbRa+hvEZdQPcXeQ3lNV1A9xd5DeU1XUBrOiZ+ESxdQGs6Jn4RLF1ACMk/iagjXUAIyT+JqCNdQFIK8mfjPF1AGe2+UbVNXUAZ7b5RtU1dQEGNGspraF1AQY0aymtoXUBtXg8FV3JdQDMEgUc0g11AhmC66KKLXUCJyGxtuoRdQEGUrucrjV1ANx7oeNdzXUAtqCEKg1pdQCIyW5suQV1AlKFG++EuXUDO+9S4BB5dQAhWY3YnDV1ACFZjdicNXUBbspwXlhVdQBHQDeU1FF1AUl0or6EcXUC1+SnVuARdQF/wUrJoH11AS1o9nCo6XUBLWj2cKjpdQMccInOHTF1ArZ0/pf5UXUAq5+G98F5dQHzm1c5qZ11ApdX4m/xNXUBCM5k7ZG5dQEIzmTtkbl1AXLJ7Ce1lXUCtnT+l/lRdQEtaPZwqOl1AjtKTnM0gXUC5mFpHWRhdQMVxIvLkD11AjtKTnM0gXUC5mFpHWRhdQF/wUrJoH11AX/BSsmgfXUB2IARHtjFdQEtaPZwqOl1AP4F18Z5CXUBcsnsJ7WVdQEIzmTtkbl1AxOOlElOJXUBy5LEB2YBdQFuyIFBak11AaC+bM1SkXUBSet5B15tdQFuyIFBak11AW7IgUFqTXUDO5cnf5G9dQPfU7Kx2Vl1AKufhvfBeXUAq5+G98F5dQPfU7Kx2Vl1ApdX4m/xNXUCw1xxpjjRdQLDXHGmONF1AsNccaY40XUBLBquqqipdQEsGq6qqKl1AnfFuRrwZXUDP7zPizQhdQJ3xbka8GV1Az+8z4s0IXUAM2TRHmiNdQFYbut54Pl1ATeN30PVGXUDcPFwSakhdQCRP4D3qP11AtnPolOouXUCEKfBs1CddQP+FbMBqJl1A/4VswGomXUBVyYtCDgNdQEdMEV8U8lxAWbyVexrhXEBMPxuYINBcQFR3Xaajx1xAc7vCe+G9XEBzu8J74b1cQHO7wnvhvVxAxbq2jFvGXEBDLey6rqtcQG1hZGlqN11As5WzUd9JXUDnPuUKYlJdQLOVs1HfSV1AYP+CmFxBXUBtYWRpajddQFYbut54Pl1AUdaBCQIlXUBR1oEJAiVdQFoOxBeFHF1AsNccaY40XUBe2ChYFCxdQLDXHGmONF1AnfFuRrwZXUAIXBWwVgBdQLZwURRFEV1A0UrqnHAHXUDRSuqccAddQLZwURRFEV1ASwarqqoqXUAyh8jcITNdQEsGq6qqKl1AsNccaY40XUBU1gSLgkVdQPfU7Kx2Vl1ApdX4m/xNXUD31OysdlZdQK2dP6X+VF1ArZ0/pf5UXUAyh8jcITNdQIL5y/FBKV1AdiAER7YxXUD8CB/x+1tdQORWj5vkbF1A5XNjhPRiXUAtqCEKg1pdQHTc348RUl1A2/2cFaBJXUDn/X+cUDddQLaKXkN5LV1AtopeQ3ktXUD3F3kN5TVdQLaKXkN5LV1A5/1/nFA3XUDn/X+cUDddQCIyW5suQV1AIjJbmy5BXUAzqK1GE0tdQCfP5ZuHU11AuZDI8Fh1XUBsXkxoL6FdQFPfaZqmqV1Aaj+qRSqXXUCh3jibQYZdQEGUrucrjV1AichsbbqEXUCfYmXM7qRdQLhkELA6vl1ATAYsK4CcXUBtXg8FV3JdQMalnMJ5YV1AAAArgJxQXUCto/HeLUhdQPcXeQ3lNV1AtopeQ3ktXUD3F3kN5TVdQPcXeQ3lNV1AW0WvobxGXUDGpZzCeWFdQC2oIQqDWl1ALaghCoNaXUAtqCEKg1pdQPAvV0ZwZF1Aod44m0GGXUDQ/CrzSHxdQFRcZCELWV1A/Agf8ftbXUDb/ZwVoEldQJShRvvhLl1AW7KcF5YVXUAIVmN2Jw1dQLX5KdW4BF1ACFZjdicNXUDvU7iS2/NcQO9TuJLb81xAnPd+8WzrXEDWUQ2vj9pcQNZRDa+P2lxAQrDxM0r8XEBCsPEzSvxcQAhWY3YnDV1AX/BSsmgfXUAnz+Wbh1NdQEtaPZwqOl1AP4F18Z5CXUD/iANBEERdQDKHyNwhM11Ag3KMeDMiXUC2cFEURRFdQPwQsUf8/lxACOp48of2XEAD0AdPMfVcQLybScmi/VxAA9AHTzH1XEAprkZQ/uJcQNZRDa+P2lxAgvXTDSHSXECC9dMNIdJcQIL10w0h0lxAv3LlNZS3XEBp8ygq1bhcQF97/mVr01xAdGeLQxQGXUC5mFpHWRhdQP+IA0EQRF1ArZ0/pf5UXUD31OysdlZdQCDlvfBeeF1AaN1sl+loXUBRKLClbGBdQFEosKVsYF1AY5g0wnJPXUAC1xB6CD1dQKXV+Jv8TV1AsNccaY40XUAC1xB6CD1dQMccInOHTF1AMofI3CEzXUCDcox4MyJdQLZwURRFEV1A/BCxR/z+XEAI6njyh/ZcQI7Sk5zNIF1AgvnL8UEpXUD/iANBEERdQK2dP6X+VF1AxOOlElOJXUAg5b3wXnhdQGTqYl7dil1AUnreQdebXUCLcrWK6JRdQNOEObZojF1ARrxCDWl7XUCPzsY46XJdQNfgSmRpal1A1+BKZGlqXUBjmDTCck9dQF5T/Oz7NV1AXlP87Ps1XUC62UA2IBtdQDXIVxQsCl1A7sqH0EPoXEAXuqqd1c5cQL9DY4OLzVxAv0Njg4vNXECO2iXzzcNcQCCcCEif5VxANchXFCwKXUDjyGMDsgFdQEDKe+G98FxA7sqH0EPoXEClxIC1AtZcQBAvJx+dvFxAVzuXnbbUXECljLVI5bJcQNFSfPNwqlxA0VJ883CqXEDoBAxJiJlcQJLDLw5RmFxAksMvDlGYXEBXO5edttRcQBTDQJ0T7lxAFMNAnRPuXEAh2/d93/dcQCHb933f91xA48hjA7IBXUCSyW/yN/lcQEyRSTSLC11AWg7EF4UcXUD/hWzAaiZdQGNGBiYIFF1AY0YGJggUXUBVyYtCDgNdQEDKe+G98FxAQMp74b3wXEBAynvhvfBcQO7Kh9BD6FxA7sqH0EPoXED3r0RRFMVcQPevRFEUxVxAEC8nH528XEAqrgntJbRcQPevRFEUxVxAc8a7GfHmXEBXO5edttRcQKXEgLUC1lxAOlraS2jvXEAIXBWwVgBdQM/vM+LNCF1ANchXFCwKXUAM2TRHmiNdQFHWgQkCJV1AY0YGJggUXUBVyYtCDgNdQEdMEV8U8lxAnMuTv8nfXED3r0RRFMVcQBAvJx+dvFxAEC8nH528XECljLVI5bJcQJqz7Z1Zu1xA0VJ883CqXEBAGasZbodcQEuPcYjCoFxAS49xiMKgXECSwy8OUZhcQANbswI0qVxAA1uzAjSpXEAO0XlxiMJcQFUFOPcWulxADtF5cYjCXEBjFF9IQsxcQL9DY4OLzVxAv0Njg4vNXECcy5O/yd9cQEw/G5gg0FxAWbyVexrhXEAD4n1uawRdQAPifW5rBF1AVcmLQg4DXUBeAc5QkfpcQO7Kh9BD6FxA7sqH0EPoXEDuyofQQ+hcQJzLk7/J31xASsyfrk/XXEAXuqqd1c5cQPevRFEUxVxAEC8nH528XEAQLycfnbxcQPevRFEUxVxAv0Njg4vNXECMRZ7ned5cQM/vM+LNCF1AnfFuRrwZXUCw1xxpjjRdQLDXHGmONF1ATeN30PVGXUCyF9fm6VBdQGkFU7tpWV1AaQVTu2lZXUCzlbNR30ldQP+FbMBqJl1Acb11F2sVXUBVyYtCDgNdQEdMEV8U8lxAnMuTv8nfXEAXuqqd1c5cQErMn65P11xASsyfrk/XXEAQLycfnbxcQEMt7Lquq1xAH6Sanp+IXEAfpJqen4hcQB+kmp6fiFxA+eTsk9+PXECSwy8OUZhcQNFSfPNwqlxANchXFCwKXUBH+uLCqbZcQEf64sKptlxAz7zaWe2sXEDPvNpZ7axcQH695khzpFxAVHddpqPHXEA1yFcULApdQGNGBiYIFF1Acb11F2sVXUC6z/lC6wxdQP3pjfrOFl1AdaoriMkFXUAiFPvORv1cQJrUmFxB7FxAnb6oIW2vXEB81g+TK6hcQMAHuc9tjVxAwAe5z22NXEB49TSk7ZVcQFBQE0js2VxAGQI5juN4XECnrAkWBYtcQCy+8jf5m1xAIbzOame1XEAXuqqd1c5cQGMUX0hCzFxAS2LP8irdXED5WUHg3NtcQAjqePKH9lxACOp48of2XEA=\",\"dtype\":\"float64\",\"shape\":[1846]},\"y\":{\"__ndarray__\":\"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\",\"dtype\":\"float64\",\"shape\":[1846]}},\"selected\":{\"id\":\"7834fc94-cccc-4060-8672-a4f428c7f319\",\"type\":\"Selection\"},\"selection_policy\":{\"id\":\"91fb71c2-60c8-4bcd-b12a-f33186594534\",\"type\":\"UnionRenderers\"}},\"id\":\"23faac27-9ac3-491e-8c73-a6a4e6646112\",\"type\":\"ColumnDataSource\"},{\"attributes\":{\"callback\":null},\"id\":\"d2cabd3b-cec4-481a-8955-75eaefc6c713\",\"type\":\"DataRange1d\"},{\"attributes\":{},\"id\":\"da096f46-ab37-45b6-ad12-9a485a37f0a8\",\"type\":\"BasicTicker\"},{\"attributes\":{},\"id\":\"c288f640-4580-481f-b632-7c9a9fd1a791\",\"type\":\"LinearScale\"},{\"attributes\":{},\"id\":\"7834fc94-cccc-4060-8672-a4f428c7f319\",\"type\":\"Selection\"},{\"attributes\":{},\"id\":\"91fb71c2-60c8-4bcd-b12a-f33186594534\",\"type\":\"UnionRenderers\"},{\"attributes\":{},\"id\":\"b209a5fc-c79c-4f1e-be0a-b528d5a1367e\",\"type\":\"Selection\"},{\"attributes\":{\"plot\":{\"id\":\"4443807c-55c1-41b0-8a8c-ebed8c5105f5\",\"subtype\":\"Figure\",\"type\":\"Plot\"},\"ticker\":{\"id\":\"adda018a-5269-4ddf-bda2-76b87f27b8b8\",\"type\":\"BasicTicker\"}},\"id\":\"d2e26fae-eaca-4767-abd0-120ea26b1afd\",\"type\":\"Grid\"},{\"attributes\":{\"fill_alpha\":{\"value\":0.5},\"fill_color\":{\"value\":\"#1f77b4\"},\"line_alpha\":{\"value\":0.5},\"line_color\":{\"value\":\"#1f77b4\"},\"size\":{\"units\":\"screen\",\"value\":1},\"x\":{\"field\":\"x\"},\"y\":{\"field\":\"y\"}},\"id\":\"00ffe01f-0512-4447-83ad-70d13092278f\",\"type\":\"Circle\"},{\"attributes\":{\"active_drag\":\"auto\",\"active_inspect\":\"auto\",\"active_scroll\":\"auto\",\"active_tap\":\"auto\",\"tools\":[{\"id\":\"14d9a0bc-5219-4b22-8636-0cba14ae117a\",\"type\":\"PanTool\"},{\"id\":\"b0dcdbbf-442c-484a-8cdd-cd1eaecf8b2d\",\"type\":\"WheelZoomTool\"},{\"id\":\"56da6160-601b-496d-b91b-a5e14a6f36c5\",\"type\":\"BoxZoomTool\"},{\"id\":\"539657cd-8653-49e1-9014-ecdc67be79bd\",\"type\":\"SaveTool\"},{\"id\":\"f50346b8-a65d-47a9-9200-9bebea507a1b\",\"type\":\"ResetTool\"},{\"id\":\"207d5038-8c7c-45a2-869a-1aa1feb007d6\",\"type\":\"HelpTool\"}]},\"id\":\"d2ccc3c9-bdff-4e79-9637-4800aa4b3849\",\"type\":\"Toolbar\"},{\"attributes\":{\"callback\":null},\"id\":\"2a70d126-96a9-4612-89f0-ed66b145de40\",\"type\":\"DataRange1d\"}],\"root_ids\":[\"4443807c-55c1-41b0-8a8c-ebed8c5105f5\"]},\"title\":\"Bokeh Application\",\"version\":\"0.12.16\"}};\n",
       "  var render_items = [{\"docid\":\"d3d30167-9b41-4a08-ab21-3dbb9b5ec479\",\"elementid\":\"c8736660-cf47-4cb2-82dc-7de48da275b3\",\"modelid\":\"4443807c-55c1-41b0-8a8c-ebed8c5105f5\"}];\n",
       "  root.Bokeh.embed.embed_items_notebook(docs_json, render_items);\n",
       "\n",
       "  }\n",
       "  if (root.Bokeh !== undefined) {\n",
       "    embed_document(root);\n",
       "  } else {\n",
       "    var attempts = 0;\n",
       "    var timer = setInterval(function(root) {\n",
       "      if (root.Bokeh !== undefined) {\n",
       "        embed_document(root);\n",
       "        clearInterval(timer);\n",
       "      }\n",
       "      attempts++;\n",
       "      if (attempts > 100) {\n",
       "        console.log(\"Bokeh: ERROR: Unable to run BokehJS code because BokehJS library is missing\")\n",
       "        clearInterval(timer);\n",
       "      }\n",
       "    }, 10, root)\n",
       "  }\n",
       "})(window);"
      ],
      "application/vnd.bokehjs_exec.v0+json": ""
     },
     "metadata": {
      "application/vnd.bokehjs_exec.v0+json": {
       "id": "4443807c-55c1-41b0-8a8c-ebed8c5105f5"
      }
     },
     "output_type": "display_data"
    }
   ],
   "source": [
    "p = qq(y_test,y_hat)\n",
    "show(p)"
   ]
  },
  {
   "cell_type": "code",
   "execution_count": 19,
   "metadata": {},
   "outputs": [],
   "source": [
    "#svr\n",
    "from sklearn.svm import SVR\n",
    "\n",
    "svr = SVR(kernel = 'poly', degree = 3, C = .5, epsilon = .001)\n",
    "svr.fit(x_train, y_train.values) \n",
    "y_hat = svr.predict(x_test)\n"
   ]
  },
  {
   "cell_type": "code",
   "execution_count": 20,
   "metadata": {},
   "outputs": [
    {
     "data": {
      "text/plain": [
       "1.2193437759929784"
      ]
     },
     "execution_count": 20,
     "metadata": {},
     "output_type": "execute_result"
    }
   ],
   "source": [
    "sum(abs(y_test-y_hat))/len(y_hat)"
   ]
  },
  {
   "cell_type": "code",
   "execution_count": 21,
   "metadata": {},
   "outputs": [
    {
     "data": {
      "text/plain": [
       "811.4236012308397"
      ]
     },
     "execution_count": 21,
     "metadata": {},
     "output_type": "execute_result"
    }
   ],
   "source": [
    "sum(y_test-y_hat)**2/len(y_hat)"
   ]
  },
  {
   "cell_type": "code",
   "execution_count": 22,
   "metadata": {},
   "outputs": [
    {
     "data": {
      "text/html": [
       "\n",
       "<div class=\"bk-root\">\n",
       "    <div class=\"bk-plotdiv\" id=\"a0128099-fd0a-49bf-868a-c0935aa11d81\"></div>\n",
       "</div>"
      ]
     },
     "metadata": {},
     "output_type": "display_data"
    },
    {
     "data": {
      "application/javascript": [
       "(function(root) {\n",
       "  function embed_document(root) {\n",
       "    \n",
       "  var docs_json = {\"966772ad-0b90-4a37-92c3-7872228fa298\":{\"roots\":{\"references\":[{\"attributes\":{\"bottom_units\":\"screen\",\"fill_alpha\":{\"value\":0.5},\"fill_color\":{\"value\":\"lightgrey\"},\"left_units\":\"screen\",\"level\":\"overlay\",\"line_alpha\":{\"value\":1.0},\"line_color\":{\"value\":\"black\"},\"line_dash\":[4,4],\"line_width\":{\"value\":2},\"plot\":null,\"render_mode\":\"css\",\"right_units\":\"screen\",\"top_units\":\"screen\"},\"id\":\"37fc3de6-7b98-4436-9ac9-fc2f312c027c\",\"type\":\"BoxAnnotation\"},{\"attributes\":{\"overlay\":{\"id\":\"37fc3de6-7b98-4436-9ac9-fc2f312c027c\",\"type\":\"BoxAnnotation\"}},\"id\":\"7c874f9a-ad9e-48c7-b6c6-4df1d888a0cd\",\"type\":\"BoxZoomTool\"},{\"attributes\":{},\"id\":\"96574edd-63a3-462f-bea2-6e5977b4e2e1\",\"type\":\"BasicTicker\"},{\"attributes\":{\"fill_alpha\":{\"value\":0.5},\"fill_color\":{\"value\":\"#1f77b4\"},\"line_alpha\":{\"value\":0.5},\"line_color\":{\"value\":\"#1f77b4\"},\"size\":{\"units\":\"screen\",\"value\":1},\"x\":{\"field\":\"x\"},\"y\":{\"field\":\"y\"}},\"id\":\"27400920-514d-4af1-a52e-61b21eea0bb5\",\"type\":\"Circle\"},{\"attributes\":{\"line_alpha\":0.1,\"line_color\":\"#1f77b4\",\"line_width\":2,\"x\":{\"field\":\"x\"},\"y\":{\"field\":\"y\"}},\"id\":\"6646fb13-e902-4ef6-ad1a-738c5cfd7e34\",\"type\":\"Line\"},{\"attributes\":{\"data_source\":{\"id\":\"db8b3042-545c-48e5-a3f8-330a957eddaa\",\"type\":\"ColumnDataSource\"},\"glyph\":{\"id\":\"27400920-514d-4af1-a52e-61b21eea0bb5\",\"type\":\"Circle\"},\"hover_glyph\":null,\"muted_glyph\":null,\"nonselection_glyph\":{\"id\":\"5d189533-110f-41a7-9126-e912a225181b\",\"type\":\"Circle\"},\"selection_glyph\":null,\"view\":{\"id\":\"908fb9f8-700d-4e27-a037-5555a3d1de81\",\"type\":\"CDSView\"}},\"id\":\"0f933d86-b5c7-4134-88e2-ec60ade2f110\",\"type\":\"GlyphRenderer\"},{\"attributes\":{\"plot\":{\"id\":\"95ca79da-a4fe-41ad-9847-86a975198dac\",\"subtype\":\"Figure\",\"type\":\"Plot\"},\"ticker\":{\"id\":\"8dea283c-9a9e-4a6e-a200-f6cb64bb3a13\",\"type\":\"BasicTicker\"}},\"id\":\"db38205b-3227-4cbe-939a-b1d8be50fe26\",\"type\":\"Grid\"},{\"attributes\":{\"plot\":null,\"text\":\"\"},\"id\":\"54a36ea6-8b9c-4d68-93fc-70d27bf8d9dc\",\"type\":\"Title\"},{\"attributes\":{},\"id\":\"94009772-c74d-4adf-bde7-165bfca59fa6\",\"type\":\"SaveTool\"},{\"attributes\":{},\"id\":\"aa10fb17-f872-44d3-9d96-847b93490368\",\"type\":\"Selection\"},{\"attributes\":{\"axis_label\":\"y (%)\",\"formatter\":{\"id\":\"479383fc-2d4c-4390-aa4e-d587e931f3cb\",\"type\":\"BasicTickFormatter\"},\"plot\":{\"id\":\"95ca79da-a4fe-41ad-9847-86a975198dac\",\"subtype\":\"Figure\",\"type\":\"Plot\"},\"ticker\":{\"id\":\"8dea283c-9a9e-4a6e-a200-f6cb64bb3a13\",\"type\":\"BasicTicker\"}},\"id\":\"618721a9-d314-40c3-b1ed-f047c5945ee7\",\"type\":\"LinearAxis\"},{\"attributes\":{},\"id\":\"b5e70cff-fe06-49e4-a320-776028bc47c4\",\"type\":\"HelpTool\"},{\"attributes\":{\"source\":{\"id\":\"db8b3042-545c-48e5-a3f8-330a957eddaa\",\"type\":\"ColumnDataSource\"}},\"id\":\"908fb9f8-700d-4e27-a037-5555a3d1de81\",\"type\":\"CDSView\"},{\"attributes\":{\"data_source\":{\"id\":\"76ef7679-794d-4675-bc8e-f41e7f471d77\",\"type\":\"ColumnDataSource\"},\"glyph\":{\"id\":\"f28707bb-a856-4e60-bf9d-435f574bb5bf\",\"type\":\"Line\"},\"hover_glyph\":null,\"muted_glyph\":null,\"nonselection_glyph\":{\"id\":\"6646fb13-e902-4ef6-ad1a-738c5cfd7e34\",\"type\":\"Line\"},\"selection_glyph\":null,\"view\":{\"id\":\"74841112-c3bc-44a2-8f06-4e9f83f7ee3a\",\"type\":\"CDSView\"}},\"id\":\"89ea2b7b-f013-4f35-ab15-33c9a84a228a\",\"type\":\"GlyphRenderer\"},{\"attributes\":{},\"id\":\"479383fc-2d4c-4390-aa4e-d587e931f3cb\",\"type\":\"BasicTickFormatter\"},{\"attributes\":{\"fill_alpha\":{\"value\":0.1},\"fill_color\":{\"value\":\"#1f77b4\"},\"line_alpha\":{\"value\":0.1},\"line_color\":{\"value\":\"#1f77b4\"},\"size\":{\"units\":\"screen\",\"value\":1},\"x\":{\"field\":\"x\"},\"y\":{\"field\":\"y\"}},\"id\":\"5d189533-110f-41a7-9126-e912a225181b\",\"type\":\"Circle\"},{\"attributes\":{},\"id\":\"b046128e-f7bc-44ae-bd21-d489aa1ec910\",\"type\":\"LinearScale\"},{\"attributes\":{},\"id\":\"5867d624-cbee-485b-bc12-56818e21c089\",\"type\":\"WheelZoomTool\"},{\"attributes\":{\"line_width\":2,\"x\":{\"field\":\"x\"},\"y\":{\"field\":\"y\"}},\"id\":\"f28707bb-a856-4e60-bf9d-435f574bb5bf\",\"type\":\"Line\"},{\"attributes\":{},\"id\":\"7bc12047-c0f4-4b0d-a1c6-6f4f7349b2b8\",\"type\":\"UnionRenderers\"},{\"attributes\":{\"callback\":null},\"id\":\"14d11a71-9fae-4d86-b461-3f8211094de4\",\"type\":\"DataRange1d\"},{\"attributes\":{},\"id\":\"7c7bcb0f-8592-4726-84ce-5080f8ffbc7d\",\"type\":\"BasicTickFormatter\"},{\"attributes\":{\"callback\":null},\"id\":\"62e8f6b6-c88a-4170-ba27-78539f781e2d\",\"type\":\"DataRange1d\"},{\"attributes\":{\"axis_label\":\"y hat (%)\",\"formatter\":{\"id\":\"7c7bcb0f-8592-4726-84ce-5080f8ffbc7d\",\"type\":\"BasicTickFormatter\"},\"plot\":{\"id\":\"95ca79da-a4fe-41ad-9847-86a975198dac\",\"subtype\":\"Figure\",\"type\":\"Plot\"},\"ticker\":{\"id\":\"96574edd-63a3-462f-bea2-6e5977b4e2e1\",\"type\":\"BasicTicker\"}},\"id\":\"181c70d1-495d-43d6-9687-21dac8ba6ab2\",\"type\":\"LinearAxis\"},{\"attributes\":{},\"id\":\"f857727a-6dc4-45dd-91d0-14d90295bd33\",\"type\":\"ResetTool\"},{\"attributes\":{},\"id\":\"5f1da318-ed94-4318-8e4e-a57836e7436a\",\"type\":\"LinearScale\"},{\"attributes\":{\"active_drag\":\"auto\",\"active_inspect\":\"auto\",\"active_scroll\":\"auto\",\"active_tap\":\"auto\",\"tools\":[{\"id\":\"82ee3bc2-13b9-4626-b8a0-b35910470e2c\",\"type\":\"PanTool\"},{\"id\":\"5867d624-cbee-485b-bc12-56818e21c089\",\"type\":\"WheelZoomTool\"},{\"id\":\"7c874f9a-ad9e-48c7-b6c6-4df1d888a0cd\",\"type\":\"BoxZoomTool\"},{\"id\":\"94009772-c74d-4adf-bde7-165bfca59fa6\",\"type\":\"SaveTool\"},{\"id\":\"f857727a-6dc4-45dd-91d0-14d90295bd33\",\"type\":\"ResetTool\"},{\"id\":\"b5e70cff-fe06-49e4-a320-776028bc47c4\",\"type\":\"HelpTool\"}]},\"id\":\"0bb9aed4-7f5b-4424-bf75-6dcaad7dec70\",\"type\":\"Toolbar\"},{\"attributes\":{},\"id\":\"7598676c-4625-4825-8f3f-dc579b469906\",\"type\":\"UnionRenderers\"},{\"attributes\":{\"below\":[{\"id\":\"618721a9-d314-40c3-b1ed-f047c5945ee7\",\"type\":\"LinearAxis\"}],\"left\":[{\"id\":\"181c70d1-495d-43d6-9687-21dac8ba6ab2\",\"type\":\"LinearAxis\"}],\"renderers\":[{\"id\":\"618721a9-d314-40c3-b1ed-f047c5945ee7\",\"type\":\"LinearAxis\"},{\"id\":\"db38205b-3227-4cbe-939a-b1d8be50fe26\",\"type\":\"Grid\"},{\"id\":\"181c70d1-495d-43d6-9687-21dac8ba6ab2\",\"type\":\"LinearAxis\"},{\"id\":\"cae648fa-5fd9-4de5-8e47-38b6e49c735f\",\"type\":\"Grid\"},{\"id\":\"37fc3de6-7b98-4436-9ac9-fc2f312c027c\",\"type\":\"BoxAnnotation\"},{\"id\":\"89ea2b7b-f013-4f35-ab15-33c9a84a228a\",\"type\":\"GlyphRenderer\"},{\"id\":\"0f933d86-b5c7-4134-88e2-ec60ade2f110\",\"type\":\"GlyphRenderer\"}],\"title\":{\"id\":\"54a36ea6-8b9c-4d68-93fc-70d27bf8d9dc\",\"type\":\"Title\"},\"toolbar\":{\"id\":\"0bb9aed4-7f5b-4424-bf75-6dcaad7dec70\",\"type\":\"Toolbar\"},\"x_range\":{\"id\":\"62e8f6b6-c88a-4170-ba27-78539f781e2d\",\"type\":\"DataRange1d\"},\"x_scale\":{\"id\":\"5f1da318-ed94-4318-8e4e-a57836e7436a\",\"type\":\"LinearScale\"},\"y_range\":{\"id\":\"14d11a71-9fae-4d86-b461-3f8211094de4\",\"type\":\"DataRange1d\"},\"y_scale\":{\"id\":\"b046128e-f7bc-44ae-bd21-d489aa1ec910\",\"type\":\"LinearScale\"}},\"id\":\"95ca79da-a4fe-41ad-9847-86a975198dac\",\"subtype\":\"Figure\",\"type\":\"Plot\"},{\"attributes\":{},\"id\":\"defbfe63-e22c-49b8-9abd-e001d62b822d\",\"type\":\"Selection\"},{\"attributes\":{},\"id\":\"82ee3bc2-13b9-4626-b8a0-b35910470e2c\",\"type\":\"PanTool\"},{\"attributes\":{},\"id\":\"8dea283c-9a9e-4a6e-a200-f6cb64bb3a13\",\"type\":\"BasicTicker\"},{\"attributes\":{\"dimension\":1,\"plot\":{\"id\":\"95ca79da-a4fe-41ad-9847-86a975198dac\",\"subtype\":\"Figure\",\"type\":\"Plot\"},\"ticker\":{\"id\":\"96574edd-63a3-462f-bea2-6e5977b4e2e1\",\"type\":\"BasicTicker\"}},\"id\":\"cae648fa-5fd9-4de5-8e47-38b6e49c735f\",\"type\":\"Grid\"},{\"attributes\":{\"callback\":null,\"data\":{\"x\":{\"__ndarray__\":\"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\",\"dtype\":\"float64\",\"shape\":[1846]},\"y\":{\"__ndarray__\":\"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\",\"dtype\":\"float64\",\"shape\":[1846]}},\"selected\":{\"id\":\"aa10fb17-f872-44d3-9d96-847b93490368\",\"type\":\"Selection\"},\"selection_policy\":{\"id\":\"7bc12047-c0f4-4b0d-a1c6-6f4f7349b2b8\",\"type\":\"UnionRenderers\"}},\"id\":\"db8b3042-545c-48e5-a3f8-330a957eddaa\",\"type\":\"ColumnDataSource\"},{\"attributes\":{\"source\":{\"id\":\"76ef7679-794d-4675-bc8e-f41e7f471d77\",\"type\":\"ColumnDataSource\"}},\"id\":\"74841112-c3bc-44a2-8f06-4e9f83f7ee3a\",\"type\":\"CDSView\"},{\"attributes\":{\"callback\":null,\"data\":{\"x\":[113.888888889,122.751322751],\"y\":[113.888888889,122.751322751]},\"selected\":{\"id\":\"defbfe63-e22c-49b8-9abd-e001d62b822d\",\"type\":\"Selection\"},\"selection_policy\":{\"id\":\"7598676c-4625-4825-8f3f-dc579b469906\",\"type\":\"UnionRenderers\"}},\"id\":\"76ef7679-794d-4675-bc8e-f41e7f471d77\",\"type\":\"ColumnDataSource\"}],\"root_ids\":[\"95ca79da-a4fe-41ad-9847-86a975198dac\"]},\"title\":\"Bokeh Application\",\"version\":\"0.12.16\"}};\n",
       "  var render_items = [{\"docid\":\"966772ad-0b90-4a37-92c3-7872228fa298\",\"elementid\":\"a0128099-fd0a-49bf-868a-c0935aa11d81\",\"modelid\":\"95ca79da-a4fe-41ad-9847-86a975198dac\"}];\n",
       "  root.Bokeh.embed.embed_items_notebook(docs_json, render_items);\n",
       "\n",
       "  }\n",
       "  if (root.Bokeh !== undefined) {\n",
       "    embed_document(root);\n",
       "  } else {\n",
       "    var attempts = 0;\n",
       "    var timer = setInterval(function(root) {\n",
       "      if (root.Bokeh !== undefined) {\n",
       "        embed_document(root);\n",
       "        clearInterval(timer);\n",
       "      }\n",
       "      attempts++;\n",
       "      if (attempts > 100) {\n",
       "        console.log(\"Bokeh: ERROR: Unable to run BokehJS code because BokehJS library is missing\")\n",
       "        clearInterval(timer);\n",
       "      }\n",
       "    }, 10, root)\n",
       "  }\n",
       "})(window);"
      ],
      "application/vnd.bokehjs_exec.v0+json": ""
     },
     "metadata": {
      "application/vnd.bokehjs_exec.v0+json": {
       "id": "95ca79da-a4fe-41ad-9847-86a975198dac"
      }
     },
     "output_type": "display_data"
    }
   ],
   "source": [
    "p = qq(y_test,y_hat)\n",
    "show(p)"
   ]
  },
  {
   "cell_type": "code",
   "execution_count": 23,
   "metadata": {},
   "outputs": [],
   "source": [
    "# NN\n",
    "from sklearn.neural_network import MLPRegressor\n",
    "\n",
    "nn = MLPRegressor(max_iter=1000)\n",
    "nn.fit(x_train,y_train)\n",
    "y_hat = nn.predict(x_test)"
   ]
  },
  {
   "cell_type": "code",
   "execution_count": 24,
   "metadata": {},
   "outputs": [
    {
     "data": {
      "text/plain": [
       "1.9328557076546478"
      ]
     },
     "execution_count": 24,
     "metadata": {},
     "output_type": "execute_result"
    }
   ],
   "source": [
    "sum(abs(y_test-y_hat))/len(y_hat)"
   ]
  },
  {
   "cell_type": "code",
   "execution_count": 25,
   "metadata": {},
   "outputs": [
    {
     "data": {
      "text/plain": [
       "2510.187366065561"
      ]
     },
     "execution_count": 25,
     "metadata": {},
     "output_type": "execute_result"
    }
   ],
   "source": [
    "sum(y_test-y_hat)**2/len(y_hat)"
   ]
  },
  {
   "cell_type": "code",
   "execution_count": 26,
   "metadata": {},
   "outputs": [
    {
     "data": {
      "text/html": [
       "\n",
       "<div class=\"bk-root\">\n",
       "    <div class=\"bk-plotdiv\" id=\"d2301586-04d7-4946-adb1-300f743a6440\"></div>\n",
       "</div>"
      ]
     },
     "metadata": {},
     "output_type": "display_data"
    },
    {
     "data": {
      "application/javascript": [
       "(function(root) {\n",
       "  function embed_document(root) {\n",
       "    \n",
       "  var docs_json = {\"fab420ad-f65e-4f42-971e-c64572414a0e\":{\"roots\":{\"references\":[{\"attributes\":{},\"id\":\"7f59b14d-f45e-42c7-86ea-db87d6f52509\",\"type\":\"HelpTool\"},{\"attributes\":{},\"id\":\"3a4af11c-7a0a-473f-b408-ea4d03862b73\",\"type\":\"LinearScale\"},{\"attributes\":{},\"id\":\"b15045cb-dc23-4c2b-8791-6660dedaf3a8\",\"type\":\"WheelZoomTool\"},{\"attributes\":{\"overlay\":{\"id\":\"df47c17d-9bd5-4dea-b562-14b27f28c2f2\",\"type\":\"BoxAnnotation\"}},\"id\":\"a8e51bc3-d9e3-496e-b8c3-1fb262b2839f\",\"type\":\"BoxZoomTool\"},{\"attributes\":{},\"id\":\"20b5d868-b9b0-473f-b761-0b4148bb9bdb\",\"type\":\"SaveTool\"},{\"attributes\":{\"bottom_units\":\"screen\",\"fill_alpha\":{\"value\":0.5},\"fill_color\":{\"value\":\"lightgrey\"},\"left_units\":\"screen\",\"level\":\"overlay\",\"line_alpha\":{\"value\":1.0},\"line_color\":{\"value\":\"black\"},\"line_dash\":[4,4],\"line_width\":{\"value\":2},\"plot\":null,\"render_mode\":\"css\",\"right_units\":\"screen\",\"top_units\":\"screen\"},\"id\":\"df47c17d-9bd5-4dea-b562-14b27f28c2f2\",\"type\":\"BoxAnnotation\"},{\"attributes\":{\"callback\":null,\"data\":{\"x\":[113.888888889,122.751322751],\"y\":[113.888888889,122.751322751]},\"selected\":{\"id\":\"70494dc7-38fd-4674-bde2-062bd0adb45b\",\"type\":\"Selection\"},\"selection_policy\":{\"id\":\"969c93cd-579f-4613-8e4d-44b53736a57a\",\"type\":\"UnionRenderers\"}},\"id\":\"d964eecc-e651-4398-8b41-787381a2e76a\",\"type\":\"ColumnDataSource\"},{\"attributes\":{\"fill_alpha\":{\"value\":0.1},\"fill_color\":{\"value\":\"#1f77b4\"},\"line_alpha\":{\"value\":0.1},\"line_color\":{\"value\":\"#1f77b4\"},\"size\":{\"units\":\"screen\",\"value\":1},\"x\":{\"field\":\"x\"},\"y\":{\"field\":\"y\"}},\"id\":\"fe35aa50-c39c-4e54-9fa4-53922c82f2e2\",\"type\":\"Circle\"},{\"attributes\":{\"fill_alpha\":{\"value\":0.5},\"fill_color\":{\"value\":\"#1f77b4\"},\"line_alpha\":{\"value\":0.5},\"line_color\":{\"value\":\"#1f77b4\"},\"size\":{\"units\":\"screen\",\"value\":1},\"x\":{\"field\":\"x\"},\"y\":{\"field\":\"y\"}},\"id\":\"42784ee0-f867-484a-9d5b-c613e87ba3eb\",\"type\":\"Circle\"},{\"attributes\":{\"below\":[{\"id\":\"9fadd801-620e-4de4-96dc-fd85234d294f\",\"type\":\"LinearAxis\"}],\"left\":[{\"id\":\"eb042471-2cc9-4992-81a1-d2c3a07857e2\",\"type\":\"LinearAxis\"}],\"renderers\":[{\"id\":\"9fadd801-620e-4de4-96dc-fd85234d294f\",\"type\":\"LinearAxis\"},{\"id\":\"61bc1511-7d39-4808-b9cc-6cabe578e58b\",\"type\":\"Grid\"},{\"id\":\"eb042471-2cc9-4992-81a1-d2c3a07857e2\",\"type\":\"LinearAxis\"},{\"id\":\"f52b0f42-d213-4451-adc2-b0106a7e4d63\",\"type\":\"Grid\"},{\"id\":\"df47c17d-9bd5-4dea-b562-14b27f28c2f2\",\"type\":\"BoxAnnotation\"},{\"id\":\"de64e9ac-5ae0-49dc-a402-ccb6e3dd8856\",\"type\":\"GlyphRenderer\"},{\"id\":\"3b1122c6-6d00-4ecc-8564-7ee631fb0d47\",\"type\":\"GlyphRenderer\"}],\"title\":{\"id\":\"545b9011-15a5-4ec9-bc11-58b18af66445\",\"type\":\"Title\"},\"toolbar\":{\"id\":\"0ee5a261-0185-495c-825b-458641fe2006\",\"type\":\"Toolbar\"},\"x_range\":{\"id\":\"6c0742d3-9aa7-48c5-b08b-1ab3b0c28e79\",\"type\":\"DataRange1d\"},\"x_scale\":{\"id\":\"c9b1ccc3-2119-4ff4-b232-839373f33cdf\",\"type\":\"LinearScale\"},\"y_range\":{\"id\":\"93b06b36-3f8c-4c1a-a086-903fed50ad27\",\"type\":\"DataRange1d\"},\"y_scale\":{\"id\":\"3a4af11c-7a0a-473f-b408-ea4d03862b73\",\"type\":\"LinearScale\"}},\"id\":\"262c326f-79eb-4f21-9da9-14147264223f\",\"subtype\":\"Figure\",\"type\":\"Plot\"},{\"attributes\":{},\"id\":\"70494dc7-38fd-4674-bde2-062bd0adb45b\",\"type\":\"Selection\"},{\"attributes\":{\"axis_label\":\"y hat (%)\",\"formatter\":{\"id\":\"8147f296-050a-46f4-9d2d-0486fa7f42f3\",\"type\":\"BasicTickFormatter\"},\"plot\":{\"id\":\"262c326f-79eb-4f21-9da9-14147264223f\",\"subtype\":\"Figure\",\"type\":\"Plot\"},\"ticker\":{\"id\":\"fbe41b27-7e1b-4a19-a3ff-6fec22eb4ea3\",\"type\":\"BasicTicker\"}},\"id\":\"eb042471-2cc9-4992-81a1-d2c3a07857e2\",\"type\":\"LinearAxis\"},{\"attributes\":{\"data_source\":{\"id\":\"b2a6a5ed-dda8-41ae-aae0-f76dc7eb1c1e\",\"type\":\"ColumnDataSource\"},\"glyph\":{\"id\":\"42784ee0-f867-484a-9d5b-c613e87ba3eb\",\"type\":\"Circle\"},\"hover_glyph\":null,\"muted_glyph\":null,\"nonselection_glyph\":{\"id\":\"fe35aa50-c39c-4e54-9fa4-53922c82f2e2\",\"type\":\"Circle\"},\"selection_glyph\":null,\"view\":{\"id\":\"5958338b-204a-462b-9ce1-bd39a9a80153\",\"type\":\"CDSView\"}},\"id\":\"3b1122c6-6d00-4ecc-8564-7ee631fb0d47\",\"type\":\"GlyphRenderer\"},{\"attributes\":{\"source\":{\"id\":\"b2a6a5ed-dda8-41ae-aae0-f76dc7eb1c1e\",\"type\":\"ColumnDataSource\"}},\"id\":\"5958338b-204a-462b-9ce1-bd39a9a80153\",\"type\":\"CDSView\"},{\"attributes\":{},\"id\":\"3c1b892f-0be0-4ad2-8dc7-17cfe96db161\",\"type\":\"UnionRenderers\"},{\"attributes\":{},\"id\":\"dd9c2a64-e05e-4ff4-92ee-3c1d9b6df652\",\"type\":\"Selection\"},{\"attributes\":{\"axis_label\":\"y (%)\",\"formatter\":{\"id\":\"fe352545-e6c7-4401-a646-c0c363b714fb\",\"type\":\"BasicTickFormatter\"},\"plot\":{\"id\":\"262c326f-79eb-4f21-9da9-14147264223f\",\"subtype\":\"Figure\",\"type\":\"Plot\"},\"ticker\":{\"id\":\"7d6c6d15-2206-424b-83cd-fa5648b2f9d1\",\"type\":\"BasicTicker\"}},\"id\":\"9fadd801-620e-4de4-96dc-fd85234d294f\",\"type\":\"LinearAxis\"},{\"attributes\":{},\"id\":\"8147f296-050a-46f4-9d2d-0486fa7f42f3\",\"type\":\"BasicTickFormatter\"},{\"attributes\":{},\"id\":\"969c93cd-579f-4613-8e4d-44b53736a57a\",\"type\":\"UnionRenderers\"},{\"attributes\":{},\"id\":\"362cdbb4-0fbf-4bbf-bf4b-118f0306a05a\",\"type\":\"ResetTool\"},{\"attributes\":{},\"id\":\"7d6c6d15-2206-424b-83cd-fa5648b2f9d1\",\"type\":\"BasicTicker\"},{\"attributes\":{},\"id\":\"fe352545-e6c7-4401-a646-c0c363b714fb\",\"type\":\"BasicTickFormatter\"},{\"attributes\":{\"plot\":{\"id\":\"262c326f-79eb-4f21-9da9-14147264223f\",\"subtype\":\"Figure\",\"type\":\"Plot\"},\"ticker\":{\"id\":\"7d6c6d15-2206-424b-83cd-fa5648b2f9d1\",\"type\":\"BasicTicker\"}},\"id\":\"61bc1511-7d39-4808-b9cc-6cabe578e58b\",\"type\":\"Grid\"},{\"attributes\":{},\"id\":\"c9b1ccc3-2119-4ff4-b232-839373f33cdf\",\"type\":\"LinearScale\"},{\"attributes\":{\"line_alpha\":0.1,\"line_color\":\"#1f77b4\",\"line_width\":2,\"x\":{\"field\":\"x\"},\"y\":{\"field\":\"y\"}},\"id\":\"531223fc-9615-4a4f-b046-91995ee8d487\",\"type\":\"Line\"},{\"attributes\":{},\"id\":\"fbe41b27-7e1b-4a19-a3ff-6fec22eb4ea3\",\"type\":\"BasicTicker\"},{\"attributes\":{\"callback\":null},\"id\":\"93b06b36-3f8c-4c1a-a086-903fed50ad27\",\"type\":\"DataRange1d\"},{\"attributes\":{\"dimension\":1,\"plot\":{\"id\":\"262c326f-79eb-4f21-9da9-14147264223f\",\"subtype\":\"Figure\",\"type\":\"Plot\"},\"ticker\":{\"id\":\"fbe41b27-7e1b-4a19-a3ff-6fec22eb4ea3\",\"type\":\"BasicTicker\"}},\"id\":\"f52b0f42-d213-4451-adc2-b0106a7e4d63\",\"type\":\"Grid\"},{\"attributes\":{\"data_source\":{\"id\":\"d964eecc-e651-4398-8b41-787381a2e76a\",\"type\":\"ColumnDataSource\"},\"glyph\":{\"id\":\"675096b2-85ed-4105-9101-7fb73c0c0be1\",\"type\":\"Line\"},\"hover_glyph\":null,\"muted_glyph\":null,\"nonselection_glyph\":{\"id\":\"531223fc-9615-4a4f-b046-91995ee8d487\",\"type\":\"Line\"},\"selection_glyph\":null,\"view\":{\"id\":\"0dd3241a-d6c0-4a44-a6e8-23f1446c0d58\",\"type\":\"CDSView\"}},\"id\":\"de64e9ac-5ae0-49dc-a402-ccb6e3dd8856\",\"type\":\"GlyphRenderer\"},{\"attributes\":{\"line_width\":2,\"x\":{\"field\":\"x\"},\"y\":{\"field\":\"y\"}},\"id\":\"675096b2-85ed-4105-9101-7fb73c0c0be1\",\"type\":\"Line\"},{\"attributes\":{\"callback\":null},\"id\":\"6c0742d3-9aa7-48c5-b08b-1ab3b0c28e79\",\"type\":\"DataRange1d\"},{\"attributes\":{\"callback\":null,\"data\":{\"x\":{\"__ndarray__\":\"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\",\"dtype\":\"float64\",\"shape\":[1846]},\"y\":{\"__ndarray__\":\"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\",\"dtype\":\"float64\",\"shape\":[1846]}},\"selected\":{\"id\":\"dd9c2a64-e05e-4ff4-92ee-3c1d9b6df652\",\"type\":\"Selection\"},\"selection_policy\":{\"id\":\"3c1b892f-0be0-4ad2-8dc7-17cfe96db161\",\"type\":\"UnionRenderers\"}},\"id\":\"b2a6a5ed-dda8-41ae-aae0-f76dc7eb1c1e\",\"type\":\"ColumnDataSource\"},{\"attributes\":{\"plot\":null,\"text\":\"\"},\"id\":\"545b9011-15a5-4ec9-bc11-58b18af66445\",\"type\":\"Title\"},{\"attributes\":{\"source\":{\"id\":\"d964eecc-e651-4398-8b41-787381a2e76a\",\"type\":\"ColumnDataSource\"}},\"id\":\"0dd3241a-d6c0-4a44-a6e8-23f1446c0d58\",\"type\":\"CDSView\"},{\"attributes\":{\"active_drag\":\"auto\",\"active_inspect\":\"auto\",\"active_scroll\":\"auto\",\"active_tap\":\"auto\",\"tools\":[{\"id\":\"3e96bd40-ed31-4ed4-9baf-0340c0dd95ce\",\"type\":\"PanTool\"},{\"id\":\"b15045cb-dc23-4c2b-8791-6660dedaf3a8\",\"type\":\"WheelZoomTool\"},{\"id\":\"a8e51bc3-d9e3-496e-b8c3-1fb262b2839f\",\"type\":\"BoxZoomTool\"},{\"id\":\"20b5d868-b9b0-473f-b761-0b4148bb9bdb\",\"type\":\"SaveTool\"},{\"id\":\"362cdbb4-0fbf-4bbf-bf4b-118f0306a05a\",\"type\":\"ResetTool\"},{\"id\":\"7f59b14d-f45e-42c7-86ea-db87d6f52509\",\"type\":\"HelpTool\"}]},\"id\":\"0ee5a261-0185-495c-825b-458641fe2006\",\"type\":\"Toolbar\"},{\"attributes\":{},\"id\":\"3e96bd40-ed31-4ed4-9baf-0340c0dd95ce\",\"type\":\"PanTool\"}],\"root_ids\":[\"262c326f-79eb-4f21-9da9-14147264223f\"]},\"title\":\"Bokeh Application\",\"version\":\"0.12.16\"}};\n",
       "  var render_items = [{\"docid\":\"fab420ad-f65e-4f42-971e-c64572414a0e\",\"elementid\":\"d2301586-04d7-4946-adb1-300f743a6440\",\"modelid\":\"262c326f-79eb-4f21-9da9-14147264223f\"}];\n",
       "  root.Bokeh.embed.embed_items_notebook(docs_json, render_items);\n",
       "\n",
       "  }\n",
       "  if (root.Bokeh !== undefined) {\n",
       "    embed_document(root);\n",
       "  } else {\n",
       "    var attempts = 0;\n",
       "    var timer = setInterval(function(root) {\n",
       "      if (root.Bokeh !== undefined) {\n",
       "        embed_document(root);\n",
       "        clearInterval(timer);\n",
       "      }\n",
       "      attempts++;\n",
       "      if (attempts > 100) {\n",
       "        console.log(\"Bokeh: ERROR: Unable to run BokehJS code because BokehJS library is missing\")\n",
       "        clearInterval(timer);\n",
       "      }\n",
       "    }, 10, root)\n",
       "  }\n",
       "})(window);"
      ],
      "application/vnd.bokehjs_exec.v0+json": ""
     },
     "metadata": {
      "application/vnd.bokehjs_exec.v0+json": {
       "id": "262c326f-79eb-4f21-9da9-14147264223f"
      }
     },
     "output_type": "display_data"
    }
   ],
   "source": [
    "p = qq(y_test,y_hat)\n",
    "show(p)"
   ]
  },
  {
   "cell_type": "code",
   "execution_count": null,
   "metadata": {},
   "outputs": [],
   "source": []
  }
 ],
 "metadata": {
  "kernelspec": {
   "display_name": "Python 3",
   "language": "python",
   "name": "python3"
  },
  "language_info": {
   "codemirror_mode": {
    "name": "ipython",
    "version": 3
   },
   "file_extension": ".py",
   "mimetype": "text/x-python",
   "name": "python",
   "nbconvert_exporter": "python",
   "pygments_lexer": "ipython3",
   "version": "3.6.5"
  },
  "toc": {
   "base_numbering": 1,
   "nav_menu": {},
   "number_sections": false,
   "sideBar": false,
   "skip_h1_title": false,
   "title_cell": "Table of Contents",
   "title_sidebar": "Contents",
   "toc_cell": false,
   "toc_position": {},
   "toc_section_display": false,
   "toc_window_display": false
  }
 },
 "nbformat": 4,
 "nbformat_minor": 2
}
