{
 "cells": [
  {
   "cell_type": "code",
   "execution_count": 2,
   "metadata": {
    "tags": [
     "parameters"
    ]
   },
   "outputs": [],
   "source": [
    "raw_data = {}\n",
    "freq = 'Y'\n",
    "data_dir = ''\n",
    "project = ''"
   ]
  },
  {
   "cell_type": "code",
   "execution_count": 3,
   "metadata": {
    "inputHidden": false,
    "outputHidden": false
   },
   "outputs": [],
   "source": [
    "import pandas as pd\n",
    "import papermill as pm"
   ]
  },
  {
   "cell_type": "code",
   "execution_count": 4,
   "metadata": {
    "inputHidden": false,
    "outputHidden": false
   },
   "outputs": [],
   "source": [
    "#put data indata frame and set index\n",
    "df = pd.DataFrame(raw_data)\n",
    "df['index'] = pd.to_datetime(df['index'])\n",
    "df.set_index('index', inplace = True)\n"
   ]
  },
  {
   "cell_type": "code",
   "execution_count": 5,
   "metadata": {
    "inputHidden": false,
    "outputHidden": false
   },
   "outputs": [],
   "source": [
    "#group data by given frequency\n",
    "grouped = df.groupby(pd.Grouper(freq = freq))\n"
   ]
  },
  {
   "cell_type": "code",
   "execution_count": 6,
   "metadata": {
    "inputHidden": false,
    "outputHidden": false
   },
   "outputs": [],
   "source": [
    "\n",
    "grouped_dict = {}\n",
    "for group, data in grouped:\n",
    "    train = df.drop(index = data.index)\n",
    "    test = data\n",
    "    train_test ={}\n",
    "    for d,name in zip([train, test], ['train', 'test']):\n",
    "        data ={}\n",
    "        for column in d.columns:\n",
    "            data.update({column:list(d[column].values)})\n",
    "        data.update({'index':[str(x) for x in d.index.values]})\n",
    "        train_test.update({name:data})\n",
    "    grouped_dict.update({group:train_test})\n",
    "    \n",
    "\n\n\n    "
   ]
  },
  {
   "cell_type": "code",
   "execution_count": null,
   "metadata": {
    "inputHidden": false,
    "outputHidden": false
   },
   "outputs": [],
   "source": [
    "for k,v in grouped_dict.items():\n",
    "    pm.execute_notebook(\n",
    "       'save_data.ipynb',\n",
    "       data_dir+'/train_test/{}.ipynb'.format('{}_{}'.format(project, str(k).replace(' ', '_').replace(':','_'))),\n",
    "       parameters = dict(group=str(k), data=v)\n",
    "    )"
   ]
  },
  {
   "cell_type": "code",
   "execution_count": null,
   "metadata": {
    "inputHidden": false,
    "outputHidden": false
   },
   "outputs": [],
   "source": [
    "\npm.record('grouped_data', grouped_dict)"
   ]
  }
 ],
 "metadata": {
  "kernelspec": {
   "display_name": "Python 3",
   "language": "python",
   "name": "python3"
  },
  "language_info": {
   "codemirror_mode": {
    "name": "ipython",
    "version": 3
   },
   "file_extension": ".py",
   "mimetype": "text/x-python",
   "name": "python",
   "nbconvert_exporter": "python",
   "pygments_lexer": "ipython3",
   "version": "3.6.5"
  },
  "nteract": {
   "version": "nteract-on-jupyter@1.9.9"
  }
 },
 "nbformat": 4,
 "nbformat_minor": 2
}
