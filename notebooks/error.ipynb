{
 "cells": [
  {
   "cell_type": "code",
   "execution_count": 3,
   "metadata": {
    "inputHidden": false,
    "outputHidden": false
   },
   "outputs": [],
   "source": [
    "import papermill as pm\n",
    "from scripts.util import q_ge, spillway_powerhouse_flows, tailwater, powerhouse_entrainment\n",
    "import pandas as pd"
   ]
  },
  {
   "cell_type": "code",
   "execution_count": null,
   "metadata": {
    "inputHidden": false,
    "outputHidden": false
   },
   "outputs": [],
   "source": [
    "from sklearn.metrics import mean_squared_error\n",
    "from math import sqrt\n",
    "\n",
    "def rmse(y, y_hat):\n",
    "    return sqrt(mean_squared_error(y,y_hat))"
   ]
  },
  {
   "cell_type": "code",
   "execution_count": null,
   "metadata": {
    "inputHidden": false,
    "outputHidden": false,
    "tags": [
     "parameters"
    ]
   },
   "outputs": [],
   "source": [
    "b = [0,0,0]\n",
    "test_data = {}"
   ]
  },
  {
   "cell_type": "code",
   "execution_count": null,
   "metadata": {
    "inputHidden": false,
    "outputHidden": false
   },
   "outputs": [],
   "source": [
    "\n",
    "b1,b2,b3 = b\n",
    "df = pd.DataFrame(test_data)\n",
    "df['index'] = pd.to_datetime(df['index'])\n",
    "df.set_index('index', inplace = True)\n",
    "df.head()"
   ]
  },
  {
   "cell_type": "code",
   "execution_count": null,
   "metadata": {
    "inputHidden": false,
    "outputHidden": false
   },
   "outputs": [],
   "source": [
    "#re run model with test data to get y_hat, collect error values\n",
    "\n",
    "A = df.apply(lambda r:spillway_powerhouse_flows(r['q_s'],b1,b3,r['q_p']), axis = 1)\n",
    "B = df.apply(lambda r:tailwater(r['h_t'],r['temp_water'], r['p_atm']), axis = 1)\n",
    "C = df.apply(lambda r:powerhouse_entrainment(r['q_p'],b1,r['q_s'], b3), axis = 1)\n",
    "tdg_f = df['tdg_f']\n",
    "y_hat = 100*A*B*b2+tdg_f*C\n",
    "y = df['tdg_tw']\n",
    "mse = mean_squared_error(y,y_hat)\n",
    "rms_error = sqrt(mse)\n",
    "error = y_hat - y\n",
    "\n",
    "error_dict = {'error': [float(x) for x in list(error.values)], \n",
    "              'y': [x for x in y.values],\n",
    "             'y_hat':[x for x in y_hat.values]}\n",
    "\nerror_dict"
   ]
  },
  {
   "cell_type": "code",
   "execution_count": null,
   "metadata": {
    "inputHidden": false,
    "outputHidden": false
   },
   "outputs": [],
   "source": [
    "pm.record('mse', mse)\n",
    "pm.record('rmse', rms_error)\n",
    "pm.record('error', error_dict)\n",
    "pm.record('b1',b1)\n",
    "pm.record('b2',b2)\n",
    "pm.record('b3',b3)"
   ]
  }
 ],
 "metadata": {
  "kernelspec": {
   "display_name": "Python 3",
   "language": "python",
   "name": "python3"
  },
  "language_info": {
   "codemirror_mode": {
    "name": "ipython",
    "version": 3
   },
   "file_extension": ".py",
   "mimetype": "text/x-python",
   "name": "python",
   "nbconvert_exporter": "python",
   "pygments_lexer": "ipython3",
   "version": "3.6.5"
  },
  "nteract": {
   "version": "nteract-on-jupyter@1.9.9"
  }
 },
 "nbformat": 4,
 "nbformat_minor": 2
}
